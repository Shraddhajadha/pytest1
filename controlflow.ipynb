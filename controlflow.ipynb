{
 "cells": [
  {
   "cell_type": "code",
   "execution_count": 3,
   "id": "b45f0bc3-c936-4eaf-8072-71bf40379070",
   "metadata": {},
   "outputs": [
    {
     "name": "stdin",
     "output_type": "stream",
     "text": [
      "Enter the number:  0\n"
     ]
    },
    {
     "name": "stdout",
     "output_type": "stream",
     "text": [
      "The given number is zero.\n"
     ]
    }
   ],
   "source": [
    "#Basic If-Else Statements:\n",
    "#1. Write a Python program to check if a given number is positive or negative.\n",
    "a=int(input(\"Enter the number: \"))\n",
    "if a<0:\n",
    "    print(\"The given number is negative\")\n",
    "elif a>0:\n",
    "    print(\"The given number is positive\")\n",
    "else:\n",
    "    print(\"The given number is zero.\")"
   ]
  },
  {
   "cell_type": "code",
   "execution_count": 7,
   "id": "59d2d3a3-49c2-43fc-9475-e8217a92b790",
   "metadata": {},
   "outputs": [
    {
     "name": "stdin",
     "output_type": "stream",
     "text": [
      "Enter the age:  16\n"
     ]
    },
    {
     "name": "stdout",
     "output_type": "stream",
     "text": [
      "These person is not eligible for vote\n"
     ]
    }
   ],
   "source": [
    "#2. Create a program that determines if a person is eligible to vote based on their age.\n",
    "age=int(input(\"Enter the age: \")) #First set the eligible age\n",
    "\n",
    "#Then check condition\n",
    "if age>=18:\n",
    "    print(\"These person is eligible for vote\")\n",
    "else:\n",
    "    print(\"These person is not eligible for vote\")"
   ]
  },
  {
   "cell_type": "code",
   "execution_count": 10,
   "id": "b600cbb1-eed4-4d91-8c73-c736ce25ed93",
   "metadata": {},
   "outputs": [
    {
     "name": "stdin",
     "output_type": "stream",
     "text": [
      "Enter the first number:  40\n",
      "Enter the second number:  10\n"
     ]
    },
    {
     "name": "stdout",
     "output_type": "stream",
     "text": [
      "The maximum number is 40\n"
     ]
    }
   ],
   "source": [
    "#3. Develop a program to find the maximum of two numbers using if-else statements.\n",
    "a=int(input(\"Enter the first number: \"))\n",
    "b=int(input(\"Enter the second number: \"))\n",
    "\n",
    "if a>b:\n",
    "    print(\"The maximum number is\",a)\n",
    "elif b>a:\n",
    "    print(\"The maximum number is\",b)\n",
    "else:\n",
    "    print(\"Both number are equal\")"
   ]
  },
  {
   "cell_type": "code",
   "execution_count": 13,
   "id": "87b9a88b-3d5c-4f97-8353-bff345ba7d46",
   "metadata": {},
   "outputs": [
    {
     "name": "stdin",
     "output_type": "stream",
     "text": [
      "Enter the year:  2024\n"
     ]
    },
    {
     "name": "stdout",
     "output_type": "stream",
     "text": [
      "2024 its a leap year\n"
     ]
    }
   ],
   "source": [
    "#4. Write a Python script to classify a given year as a leap year or not.\n",
    "\n",
    "#Get the year from user\n",
    "year=int(input(\"Enter the year: \"))\n",
    "\n",
    "#check its divisible by 4 and not divisible by 100 or divisible by 400\n",
    "if (year%4==0 and year%100!=0) or (year%400==0):\n",
    "    print(f\"{year} its a leap year\")\n",
    "else:\n",
    "    print(\"Its not leap year\")"
   ]
  },
  {
   "cell_type": "code",
   "execution_count": 25,
   "id": "5c63b255-df48-4f9d-9e3a-88a6763fe2b0",
   "metadata": {},
   "outputs": [
    {
     "name": "stdin",
     "output_type": "stream",
     "text": [
      "Enter the character:  O\n"
     ]
    },
    {
     "name": "stdout",
     "output_type": "stream",
     "text": [
      "The character is vowel\n"
     ]
    }
   ],
   "source": [
    "#5. Create a program that checks whether a character is a vowel or a consonant.\n",
    "character=input(\"Enter the character: \")\n",
    "vowels=\"aeiouAEIOU\"\n",
    "\n",
    "if len(character)==1 and character.isalpha():\n",
    "    if character in vowels:\n",
    "        print(\"The character is vowel\")\n",
    "    else:\n",
    "        print(\"The character is consonant\")\n",
    "else:\n",
    "    print(\"Inavlid input please enter single character\")"
   ]
  },
  {
   "cell_type": "code",
   "execution_count": 19,
   "id": "adf50fe3-f012-47e6-8205-9dd93a4546c7",
   "metadata": {},
   "outputs": [
    {
     "name": "stdin",
     "output_type": "stream",
     "text": [
      "Enter the number:  3\n"
     ]
    },
    {
     "name": "stdout",
     "output_type": "stream",
     "text": [
      "The number is odd\n"
     ]
    }
   ],
   "source": [
    "#6. Implement a program to determine whether a given number is even or odd.\n",
    "number=int(input(\"Enter the number: \"))\n",
    "if number%2==0:\n",
    "    print(\"The number is even\")\n",
    "else:\n",
    "    print(\"The number is odd\")"
   ]
  },
  {
   "cell_type": "code",
   "execution_count": 27,
   "id": "2bb94832-6a7a-4088-9f3c-b58445f39376",
   "metadata": {},
   "outputs": [
    {
     "name": "stdin",
     "output_type": "stream",
     "text": [
      "Enter the number:  -8\n"
     ]
    },
    {
     "name": "stdout",
     "output_type": "stream",
     "text": [
      "The absolute value is:  8.0\n"
     ]
    }
   ],
   "source": [
    "#7. Write a Python function to calculate the absolute value of a number without using the `abs()` function.\n",
    "num=float(input(\"Enter the number: \"))\n",
    "\n",
    "if num<0:\n",
    "    absolute=-num\n",
    "else:\n",
    "    absolute=num\n",
    "print(\"The absolute value is: \",absolute)"
   ]
  },
  {
   "cell_type": "code",
   "execution_count": 33,
   "id": "ade6c97c-bb2f-487c-afb2-972b106a7834",
   "metadata": {},
   "outputs": [
    {
     "name": "stdin",
     "output_type": "stream",
     "text": [
      "Enter the first number:  50\n",
      "Enter the second number:  100\n",
      "Enter the third number:  150\n"
     ]
    },
    {
     "name": "stdout",
     "output_type": "stream",
     "text": [
      "150 is the largest number.\n"
     ]
    }
   ],
   "source": [
    "#8. Develop a program that determines the largest of three given numbers using if-else statements.\n",
    "a=int(input(\"Enter the first number: \"))\n",
    "b=int(input(\"Enter the second number: \"))\n",
    "c=int(input(\"Enter the third number: \"))\n",
    "\n",
    "if a>=b and a>=c:\n",
    "    print(f\"{a} is the largest number.\")\n",
    "elif b>=a and b>=c:\n",
    "    print(f\"{b} is the largest number.\")\n",
    "else:\n",
    "    print(f\"{c} is the largest number.\")"
   ]
  },
  {
   "cell_type": "code",
   "execution_count": 38,
   "id": "8ed0b95f-6c3f-4247-bff5-784a54838592",
   "metadata": {},
   "outputs": [
    {
     "name": "stdin",
     "output_type": "stream",
     "text": [
      "Enter the string:  Aba\n"
     ]
    },
    {
     "name": "stdout",
     "output_type": "stream",
     "text": [
      "The given string is palindrome\n"
     ]
    }
   ],
   "source": [
    "#9. Create a program that checks if a given string is a palindrome.\n",
    "string=input(\"Enter the string: \").lower()\n",
    "\n",
    "string=string.replace(\" \",\"\")\n",
    "\n",
    "if string==string[::-1]:\n",
    "    print(\"The given string is palindrome\")\n",
    "else:\n",
    "    print(\"The given string is not palindrome\")"
   ]
  },
  {
   "cell_type": "code",
   "execution_count": 42,
   "id": "312c8d69-7b11-49ab-a154-d82ab744d43b",
   "metadata": {},
   "outputs": [
    {
     "name": "stdin",
     "output_type": "stream",
     "text": [
      "Enter the student score(0-100):  95\n"
     ]
    },
    {
     "name": "stdout",
     "output_type": "stream",
     "text": [
      "The grade is A\n"
     ]
    }
   ],
   "source": [
    "#10. Write a Python program to calculate the grade based on a student's score.\n",
    "student_score=float(input(\"Enter the student score(0-100): \"))\n",
    "\n",
    "if student_score>=90:\n",
    "    grade='A'\n",
    "elif student_score>=80:\n",
    "    grade='B'\n",
    "elif student_score>=70:\n",
    "    grade='C'\n",
    "elif student_score>=60:\n",
    "    grade='D'\n",
    "else:\n",
    "    grade='F'\n",
    "\n",
    "print(f\"The grade is {grade}\")"
   ]
  },
  {
   "cell_type": "code",
   "execution_count": 43,
   "id": "3f2f81e0-7c4e-4a55-8b20-c7cdc738d756",
   "metadata": {},
   "outputs": [
    {
     "name": "stdin",
     "output_type": "stream",
     "text": [
      "Enter the first number:  50\n",
      "Enter the second number:  40\n",
      "Enter the third number:  100\n"
     ]
    },
    {
     "name": "stdout",
     "output_type": "stream",
     "text": [
      "100 is the largest number.\n"
     ]
    }
   ],
   "source": [
    "#Nested If-Else Statements:\n",
    "\n",
    "#11. Write a program to find the largest among three numbers using nested if-else statements.\n",
    "a=int(input(\"Enter the first number: \"))\n",
    "b=int(input(\"Enter the second number: \"))\n",
    "c=int(input(\"Enter the third number: \"))\n",
    "\n",
    "if a>=b and a>=c:\n",
    "    print(f\"{a} is the largest number.\")\n",
    "elif b>=a and b>=c:\n",
    "    print(f\"{b} is the largest number.\")\n",
    "else:\n",
    "    print(f\"{c} is the largest number.\")"
   ]
  },
  {
   "cell_type": "code",
   "execution_count": 49,
   "id": "9bbc3905-3fe3-4654-a56a-07b674ec9064",
   "metadata": {},
   "outputs": [
    {
     "name": "stdin",
     "output_type": "stream",
     "text": [
      "Enter the first side of traingle:  3\n",
      "Enter the second side of traingle:  4\n",
      "Enter the third side of traingle:  5\n"
     ]
    },
    {
     "name": "stdout",
     "output_type": "stream",
     "text": [
      "The triangle is scalene triangle\n"
     ]
    }
   ],
   "source": [
    "#12. Implement a program to determine if a triangle is equilateral, isosceles, or scalene.\n",
    "#first mention three sides of triangle\n",
    "a=float(input(\"Enter the first side of traingle: \"))\n",
    "b=float(input(\"Enter the second side of traingle: \"))\n",
    "c=float(input(\"Enter the third side of traingle: \"))\n",
    "\n",
    "#first check the triangle is valid triangle or not\n",
    "if (a+b>c) and (a+c>b) and (b+c>a):\n",
    "    if a==b==c:\n",
    "        print(\"The triangle is eqilateral triangle\")\n",
    "    elif a==b or b==c or a==c:\n",
    "        print(\"The triangle is isosceles triangle\")\n",
    "    else:\n",
    "        print(\"The triangle is scalene triangle\")\n",
    "else:\n",
    "    print(\"The traingle is not have valid sides\")"
   ]
  },
  {
   "cell_type": "code",
   "execution_count": 51,
   "id": "51ed7dfb-0dec-465e-b17d-3ec51e1f243b",
   "metadata": {},
   "outputs": [
    {
     "name": "stdin",
     "output_type": "stream",
     "text": [
      "Enter the year:  2000\n"
     ]
    },
    {
     "name": "stdout",
     "output_type": "stream",
     "text": [
      "The year is leap year\n",
      "The year is century year\n"
     ]
    }
   ],
   "source": [
    "#13. Develop a program that checks if a year is a leap year and also if it is a century year.\n",
    "year=int(input(\"Enter the year: \"))\n",
    "\n",
    "if (year%4==0 and year%100!=0) or (year%400==0):\n",
    "    print(\"The year is leap year\")\n",
    "else:\n",
    "    print(\"The year is not leap year\")\n",
    "\n",
    "if year%100==0:\n",
    "     print(\"The year is century year\")\n",
    "else:\n",
    "    print(\"The year is not century year\")"
   ]
  },
  {
   "cell_type": "code",
   "execution_count": 54,
   "id": "c71d8914-2a0e-4923-96d2-1ae959b19ada",
   "metadata": {},
   "outputs": [
    {
     "name": "stdin",
     "output_type": "stream",
     "text": [
      "Enter the number:  0\n"
     ]
    },
    {
     "name": "stdout",
     "output_type": "stream",
     "text": [
      "The number is zero\n"
     ]
    }
   ],
   "source": [
    "#14. Write a Python script to determine if a number is positive, negative, or zero.\n",
    "num=int(input(\"Enter the number: \"))\n",
    "\n",
    "if num<0:\n",
    "    print(\"The number is negative\")\n",
    "elif num>0:\n",
    "    print(\"The number is positive\")\n",
    "else:\n",
    "    print(\"The number is zero\")"
   ]
  },
  {
   "cell_type": "code",
   "execution_count": 55,
   "id": "4ed3c510-9fa8-433d-9f42-0e5e1d6d21c8",
   "metadata": {},
   "outputs": [
    {
     "name": "stdin",
     "output_type": "stream",
     "text": [
      "Enter the age:  12\n"
     ]
    },
    {
     "name": "stdout",
     "output_type": "stream",
     "text": [
      "The person is not teenager\n"
     ]
    }
   ],
   "source": [
    "#15. Create a program to check if a person is a teenager (between 13 and 19 years old).\n",
    "age=int(input(\"Enter the age: \"))\n",
    "\n",
    "if age>=13 and age<=19:\n",
    "    print(\"The person is teenager\")\n",
    "else:\n",
    "    print(\"The person is not teenager\")"
   ]
  },
  {
   "cell_type": "code",
   "execution_count": 62,
   "id": "71f495ed-d0f2-4616-acba-8c46d2255f02",
   "metadata": {},
   "outputs": [
    {
     "name": "stdin",
     "output_type": "stream",
     "text": [
      "Enter the angle degrees:  179\n"
     ]
    },
    {
     "name": "stdout",
     "output_type": "stream",
     "text": [
      "The angle is obtuse angle\n"
     ]
    }
   ],
   "source": [
    "#16. Develop a program that determines the type of angle based on its measure (acute, obtuse, or right).\n",
    "\n",
    "angle=float(input(\"Enter the angle degrees: \"))\n",
    "\n",
    "if angle>0 and angle<90:\n",
    "    print(\"The angle is actue angle\")\n",
    "elif angle==90:\n",
    "    print(\"The angle is right angle\")\n",
    "elif angle>90 and angle<180:\n",
    "    print(\"The angle is obtuse angle\")\n",
    "elif angle==180:\n",
    "    print(\"The angle is stright angle\")\n",
    "else:\n",
    "    print(\"Invalid degree please enter valid degree between 0 to 180\")"
   ]
  },
  {
   "cell_type": "code",
   "execution_count": 125,
   "id": "5d82b586-dd07-4217-aae7-8028cd0ddf55",
   "metadata": {},
   "outputs": [
    {
     "name": "stdin",
     "output_type": "stream",
     "text": [
      "Enter the a value:  1\n",
      "Enter the b value:  2\n",
      "Enter the c value:  5\n"
     ]
    },
    {
     "name": "stdout",
     "output_type": "stream",
     "text": [
      "Complex roots:\n",
      "x1 = 1.0 + 2.0 i\n",
      "x2 = 1.0 - 2.0 i\n"
     ]
    }
   ],
   "source": [
    "#17. Write a Python program to calculate the roots of a quadratic equation.\n",
    "import math\n",
    "a=float(input(\"Enter the a value: \"))\n",
    "b=float(input(\"Enter the b value: \"))\n",
    "c=float(input(\"Enter the c value: \"))\n",
    "\n",
    "#Find the discriminant\n",
    "d=b**2-4*a*c\n",
    "\n",
    "if d>0:\n",
    "    x1=(-b+math.sqrt(d))/(2*a)\n",
    "    x2=(-b-math.sqrt(d))/(2*a)\n",
    "    print(\"Real and distinct root\",x1,x2)\n",
    "\n",
    "elif d==0:\n",
    "    x=-b/2*a\n",
    "    print(\"Real and equal root\",x)\n",
    "\n",
    "else:\n",
    "    real=b/(2*a)\n",
    "    img=math.sqrt(-d)/(2*a)\n",
    "    print(\"Complex roots:\")\n",
    "    print(\"x1 =\", real, \"+\", img, \"i\")\n",
    "    print(\"x2 =\", real, \"-\", img, \"i\")"
   ]
  },
  {
   "cell_type": "code",
   "execution_count": 75,
   "id": "2e7ea431-5889-4cc5-9842-580457dd6ffc",
   "metadata": {},
   "outputs": [
    {
     "name": "stdin",
     "output_type": "stream",
     "text": [
      "Enter the number(1-7):  6\n"
     ]
    },
    {
     "name": "stdout",
     "output_type": "stream",
     "text": [
      "Saturday\n"
     ]
    }
   ],
   "source": [
    "#18. Implement a program to determine the day of the week based on a user-provided number (1 for Monday, 2 for Tuesday, etc.).\n",
    "user_number=int(input(\"Enter the number(1-7): \"))\n",
    "\n",
    "if user_number==1:\n",
    "    print(\"Monday\")\n",
    "elif user_number==2:\n",
    "    print(\"Tuesday\")\n",
    "elif user_number==3:\n",
    "    print(\"Wednesday\")\n",
    "elif user_number==4:\n",
    "    print(\"Thursday\")\n",
    "elif user_number==5:\n",
    "    print(\"Friday\")\n",
    "elif user_number==6:\n",
    "    print(\"Saturday\")\n",
    "elif user_number==7:\n",
    "    print(\"Sunday\")\n",
    "else:\n",
    "    print(\"Invalid input please enter number between 1 to 7.\")"
   ]
  },
  {
   "cell_type": "code",
   "execution_count": 77,
   "id": "cfed2949-125d-43bb-893e-ac8e5368f22a",
   "metadata": {},
   "outputs": [
    {
     "name": "stdin",
     "output_type": "stream",
     "text": [
      "Enter the year:  2000\n"
     ]
    },
    {
     "name": "stdout",
     "output_type": "stream",
     "text": [
      "The year is leap year\n",
      "The year is evenly divisible by 400\n"
     ]
    }
   ],
   "source": [
    "#19. Create a program that determines if a year is a leap year and also if it is evenly divisible by 400.\n",
    "year=int(input(\"Enter the year: \"))\n",
    "\n",
    "if (year%4==0 and year%100!=0) or (year%400==0):\n",
    "    print(\"The year is leap year\")\n",
    "else:\n",
    "    print(\"The year is not leap year\")\n",
    "\n",
    "if year%400==0:\n",
    "    print(\"The year is evenly divisible by 400\")\n",
    "else:\n",
    "    print(\"The year is not evenly divisible by 400\")"
   ]
  },
  {
   "cell_type": "code",
   "execution_count": 80,
   "id": "127541b3-700c-442b-b870-aa227ce505d0",
   "metadata": {},
   "outputs": [
    {
     "name": "stdin",
     "output_type": "stream",
     "text": [
      "Enter the number:  5\n"
     ]
    },
    {
     "name": "stdout",
     "output_type": "stream",
     "text": [
      "5 is a prime number.\n"
     ]
    }
   ],
   "source": [
    "#20. Develop a program that checks if a given number is prime or not using nested if-else statements.\n",
    "num=int(input(\"Enter the number: \"))\n",
    "\n",
    "if num>1:\n",
    "    is_prime=True\n",
    "    i=2\n",
    "    \n",
    "    while i<=num//2:\n",
    "        if num%i==0:\n",
    "            is_prime=False\n",
    "            break\n",
    "        i+=1\n",
    "\n",
    "    if is_prime:\n",
    "        print(f\"{num} is a prime number.\")\n",
    "    else:\n",
    "        print(f\"{num} is not a prime number.\")\n",
    "else:\n",
    "    print(\"Number should be greater than 1 to check for prime.\")"
   ]
  },
  {
   "cell_type": "code",
   "execution_count": 81,
   "id": "dc5dc77b-41d9-412b-b660-c26a81f59b71",
   "metadata": {},
   "outputs": [
    {
     "name": "stdin",
     "output_type": "stream",
     "text": [
      "Enter the student score(0-100):  90\n"
     ]
    },
    {
     "name": "stdout",
     "output_type": "stream",
     "text": [
      "The grade is A\n"
     ]
    }
   ],
   "source": [
    "#Elif Statements:\n",
    "#21. Write a Python program to assign grades based on different ranges of scores using elif statements.\n",
    "\n",
    "student_score=float(input(\"Enter the student score(0-100): \"))\n",
    "\n",
    "if student_score>=90:\n",
    "    grade='A'\n",
    "elif student_score>=80:\n",
    "    grade='B'\n",
    "elif student_score>=70:\n",
    "    grade='C'\n",
    "elif student_score>=60:\n",
    "    grade='D'\n",
    "else:\n",
    "    grade='F'\n",
    "\n",
    "print(f\"The grade is {grade}\")"
   ]
  },
  {
   "cell_type": "code",
   "execution_count": 85,
   "id": "fdc3c2e4-3581-4f39-aa74-fecebfb0381e",
   "metadata": {},
   "outputs": [
    {
     "name": "stdin",
     "output_type": "stream",
     "text": [
      "Enter the angle1 degrees:  90\n",
      "Enter the angle2 degrees:  50\n",
      "Enter the angle3 degrees:  40\n"
     ]
    },
    {
     "name": "stdout",
     "output_type": "stream",
     "text": [
      "The angle is right angle.\n"
     ]
    }
   ],
   "source": [
    "#22. Implement a program to determine the type of a triangle based on its angles.\n",
    "angle1=float(input(\"Enter the angle1 degrees: \"))\n",
    "angle2=float(input(\"Enter the angle2 degrees: \"))\n",
    "angle3=float(input(\"Enter the angle3 degrees: \"))\n",
    "\n",
    "if angle1+angle2+angle3==180 and angle1>0 and angle2>0 and angle3>0:\n",
    "    if angle1==90 or angle2==90 or angle3==90:\n",
    "        print(\"The angle is right angle.\")\n",
    "    elif angle1>90 or angle2>90 and angle3>90:\n",
    "        print(\"The angle is optuse angle\")\n",
    "    else:\n",
    "        print(\"The angle is acute angle.\")\n",
    "else:\n",
    "    print(\"The angle do not form a acute triangle\")"
   ]
  },
  {
   "cell_type": "code",
   "execution_count": 89,
   "id": "04117a3b-730c-4d31-92d8-a3cb93778755",
   "metadata": {},
   "outputs": [
    {
     "name": "stdin",
     "output_type": "stream",
     "text": [
      "Enter the height:  46\n",
      "Enter the weight:  62\n"
     ]
    },
    {
     "name": "stdout",
     "output_type": "stream",
     "text": [
      "Your BMI is:  0.01\n",
      "The person is underweight.\n"
     ]
    }
   ],
   "source": [
    "#23. Develop a program to categorize a given person's BMI into underweight, normal, overweight, or obese using elif statements.\n",
    "weight=float(input(\"Enter the height: \"))\n",
    "height=float(input(\"Enter the weight: \"))\n",
    "\n",
    "bmi=weight/(height**2)\n",
    "\n",
    "print(\"Your BMI is: \",round(bmi,2))\n",
    "\n",
    "if bmi<18.5:\n",
    "    print(\"The person is underweight.\")\n",
    "elif bmi>=18.5 and bmi<25:\n",
    "    print(\"The person is normal\")\n",
    "elif bmi>=25 and bmi<30:\n",
    "    print(\"The person is overweight\")\n",
    "else:\n",
    "    print(\"The person is obese\")"
   ]
  },
  {
   "cell_type": "code",
   "execution_count": 92,
   "id": "e1f5a90c-4a12-4e6b-b1a6-58feec758aad",
   "metadata": {},
   "outputs": [
    {
     "name": "stdin",
     "output_type": "stream",
     "text": [
      "Enter the number:  0\n"
     ]
    },
    {
     "name": "stdout",
     "output_type": "stream",
     "text": [
      "The given number is zero\n"
     ]
    }
   ],
   "source": [
    "#24. Create a program that determines whether a given number is positive, negative, or zero using elif statements.\n",
    "num=int(input(\"Enter the number: \"))\n",
    "\n",
    "if num<0:\n",
    "    print(\"The given number is negative\")\n",
    "elif num>0:\n",
    "    print(\"The given number is positive\")\n",
    "else:\n",
    "    print(\"The given number is zero\")"
   ]
  },
  {
   "cell_type": "code",
   "execution_count": 97,
   "id": "b2c14e34-c050-485b-b697-93824b6169ce",
   "metadata": {},
   "outputs": [
    {
     "name": "stdin",
     "output_type": "stream",
     "text": [
      "Enter a single character:  k\n"
     ]
    },
    {
     "name": "stdout",
     "output_type": "stream",
     "text": [
      "The character is lowercase.\n"
     ]
    }
   ],
   "source": [
    "#25. Write a Python script to determine the type of a character (uppercase, lowercase, or special) using elif statements.\n",
    "character=input(\"Enter a single character: \")\n",
    "\n",
    "if len(character)!=1:\n",
    "    print(\"Please enter single character.\")\n",
    "else:\n",
    "    if character.isupper():\n",
    "        print(\"The character is uppercase.\")\n",
    "    elif character.islower():\n",
    "        print(\"The character is lowercase.\")\n",
    "    else:\n",
    "        print(\"The character is special.\")"
   ]
  },
  {
   "cell_type": "code",
   "execution_count": 98,
   "id": "812a22dd-915b-47fb-90b2-bbb9a34f93f3",
   "metadata": {},
   "outputs": [
    {
     "name": "stdin",
     "output_type": "stream",
     "text": [
      "Enter the amount:  7000\n"
     ]
    },
    {
     "name": "stdout",
     "output_type": "stream",
     "text": [
      "Original amount 7000.0\n",
      "discount applied 700.0\n",
      "final price 6300.0\n"
     ]
    }
   ],
   "source": [
    "#26. Implement a program to calculate the discounted price based on different purchase amounts using elif statements.\n",
    "amount=float(input(\"Enter the amount: \"))\n",
    "\n",
    "if amount>=10000:\n",
    "    discount=amount*0.20\n",
    "elif amount>=5000:\n",
    "    discount=amount*0.10\n",
    "elif amount>=1000:\n",
    "    discount=amount*0.05\n",
    "else:\n",
    "    discount=0\n",
    "\n",
    "final_price=amount-discount\n",
    "\n",
    "print(\"Original amount\",amount)\n",
    "print(\"discount applied\",discount)\n",
    "print(\"final price\",final_price)"
   ]
  },
  {
   "cell_type": "code",
   "execution_count": 101,
   "id": "a52eaf99-0428-42ad-86e0-6c81dda9f7c6",
   "metadata": {},
   "outputs": [
    {
     "name": "stdin",
     "output_type": "stream",
     "text": [
      "Enter the number of unit consumed:  250\n"
     ]
    },
    {
     "name": "stdout",
     "output_type": "stream",
     "text": [
      "Electricity bill amount:  600.0\n"
     ]
    }
   ],
   "source": [
    "#27. Develop a program to calculate the electricity bill based on different consumption slabs using elif statements.\n",
    "units=float(input(\"Enter the number of unit consumed: \"))\n",
    "\n",
    "bill=0 #Initialize bill amount\n",
    "\n",
    "#calculate bill based on slabs\n",
    "if units<=100:\n",
    "    bill=units*1.5\n",
    "elif units<=200:\n",
    "    bill=(100*1.5)+(units-100)*2.5\n",
    "elif units<=300:\n",
    "    bill=(100*1.5)+(100*2.5)+(units-200)*4\n",
    "else:\n",
    "    bill=(100*1.5)+(100*2.5)+(100*4)+(units-300)*6\n",
    "\n",
    "print(\"Electricity bill amount: \",round(bill,2))"
   ]
  },
  {
   "cell_type": "code",
   "execution_count": 104,
   "id": "5778eabd-644b-4068-8ec6-d405c148e6e4",
   "metadata": {},
   "outputs": [
    {
     "name": "stdin",
     "output_type": "stream",
     "text": [
      "Enter the angle1:  90\n",
      "Enter the angle2:  90\n",
      "Enter the angle3:  90\n",
      "Enter the angle4:  90\n",
      "Enter the side1:  50\n",
      "Enter the side2:  50\n",
      "Enter the side3:  50\n",
      "Enter the side4:  50\n"
     ]
    },
    {
     "name": "stdout",
     "output_type": "stream",
     "text": [
      "It is a Square.\n"
     ]
    }
   ],
   "source": [
    "#28. Create a program to determine the type of quadrilateral based on its angles and sides using elif statements.\n",
    "#get the angle from the user\n",
    "a1=float(input(\"Enter the angle1: \"))\n",
    "a2=float(input(\"Enter the angle2: \"))\n",
    "a3=float(input(\"Enter the angle3: \"))\n",
    "a4=float(input(\"Enter the angle4: \"))\n",
    "\n",
    "#get the sides from the user\n",
    "s1=float(input(\"Enter the side1: \"))\n",
    "s2=float(input(\"Enter the side2: \"))\n",
    "s3=float(input(\"Enter the side3: \"))\n",
    "s4=float(input(\"Enter the side4: \"))\n",
    "\n",
    "#check angle valid form\n",
    "if a1+a2+a3+a4==360:\n",
    "\n",
    "    #now check side and angle\n",
    "    if s1==s2==s3==s4 and a1==a2==a3==a4==90:\n",
    "        print(\"It is a Square.\")\n",
    "    elif s1==s3 and s2==s4 and a1==a2==a3==a4==90:\n",
    "        print(\"It is a Rectangle.\")\n",
    "    elif s1==s2==s3==s4 and a1==a3 and a2==a4:\n",
    "        print(\"It is Rhombus\")\n",
    "    elif s1==s3 and s2==s4 and a1==a3 and a2==a4:\n",
    "        print(\"It is parallelogram.\")\n",
    "    elif (a1==a2 and a3==a4) or (a1==a4 and a2==a3):\n",
    "        print(\"It is Trapezium.\")\n",
    "    else:\n",
    "        print(\"It is an Irregular Quadrilateral.\")\n",
    "else:\n",
    "    print(\"The angles do not form a valid quadrilateral.\")"
   ]
  },
  {
   "cell_type": "code",
   "execution_count": 107,
   "id": "fa6e0396-35cf-4a0c-9429-dfe7ac6b693e",
   "metadata": {},
   "outputs": [
    {
     "name": "stdin",
     "output_type": "stream",
     "text": [
      "Enter the month:  may\n"
     ]
    },
    {
     "name": "stdout",
     "output_type": "stream",
     "text": [
      "Season: Spring\n"
     ]
    }
   ],
   "source": [
    "#29. Write a Python script to determine the season based on a user-provided month using elif statements.\n",
    "month=input(\"Enter the month: \").strip().lower()\n",
    "\n",
    "if month in ['December','January','february']:\n",
    "    print(\"Season: Winter\")\n",
    "elif month in ['march', 'april', 'may']:\n",
    "    print(\"Season: Spring\")\n",
    "elif month in ['june', 'july', 'august']:\n",
    "    print(\"Season: Summer\")\n",
    "elif month in ['september', 'october', 'november']:\n",
    "    print(\"Season: Autumn\")\n",
    "else:\n",
    "    print(\"Invalid month name. Please check your spelling.\")"
   ]
  },
  {
   "cell_type": "code",
   "execution_count": 108,
   "id": "035f175f-11c9-4814-be07-8d904c7cac62",
   "metadata": {},
   "outputs": [
    {
     "name": "stdin",
     "output_type": "stream",
     "text": [
      "Enter the year:  2000\n",
      "Enter the month:  february\n"
     ]
    },
    {
     "name": "stdout",
     "output_type": "stream",
     "text": [
      "The year is leap year.\n",
      "Month Type: 29 days (Leap Year February)\n"
     ]
    }
   ],
   "source": [
    "#30. Implement a program to determine the type of a year (leap or common) and month (30 or 31 days) using elif statements.\n",
    "year=int(input(\"Enter the year: \"))\n",
    "month=input(\"Enter the month: \").strip().lower()\n",
    "\n",
    "if (year%4==0 and year%100!=0) or (year%400==0):\n",
    "    print(\"The year is leap year.\")\n",
    "    leap=True\n",
    "else:\n",
    "    print(\"The year is common year.\")\n",
    "    leap=False\n",
    "\n",
    "if month in ['january', 'march', 'may', 'july', 'august', 'october', 'december']:\n",
    "    print(\"Month Type: 31 days\")\n",
    "elif month in ['april', 'june', 'september', 'november']:\n",
    "    print(\"Month Type: 30 days\")\n",
    "elif month == 'february':\n",
    "    if leap:\n",
    "        print(\"Month Type: 29 days (Leap Year February)\")\n",
    "    else:\n",
    "        print(\"Month Type: 28 days (Common Year February)\")\n",
    "else:\n",
    "    print(\"Invalid month name. Please check your spelling.\")"
   ]
  },
  {
   "cell_type": "code",
   "execution_count": 109,
   "id": "dfb191fe-067a-400d-b66d-b08dcfac1a9c",
   "metadata": {},
   "outputs": [
    {
     "name": "stdin",
     "output_type": "stream",
     "text": [
      "Enter the number:  12\n"
     ]
    },
    {
     "name": "stdout",
     "output_type": "stream",
     "text": [
      "The given number is positive\n"
     ]
    }
   ],
   "source": [
    "#Basic Level:\n",
    "#1. Write a Python program that checks if a given number is positive, negative, or zero.\n",
    "a=int(input(\"Enter the number: \"))\n",
    "if a<0:\n",
    "    print(\"The given number is negative\")\n",
    "elif a>0:\n",
    "    print(\"The given number is positive\")\n",
    "else:\n",
    "    print(\"The given number is zero.\")"
   ]
  },
  {
   "cell_type": "code",
   "execution_count": 110,
   "id": "6fbbef85-ad4f-4456-8465-77a6f2d6b768",
   "metadata": {},
   "outputs": [
    {
     "name": "stdin",
     "output_type": "stream",
     "text": [
      "Enter the age:  19\n"
     ]
    },
    {
     "name": "stdout",
     "output_type": "stream",
     "text": [
      "These person is eligible for vote\n"
     ]
    }
   ],
   "source": [
    "#2. Create a program to determine if a person is eligible to vote based on their age.\n",
    "age=int(input(\"Enter the age: \")) #First set the eligible age\n",
    "\n",
    "#Then check condition\n",
    "if age>=18:\n",
    "    print(\"These person is eligible for vote\")\n",
    "else:\n",
    "    print(\"These person is not eligible for vote\")"
   ]
  },
  {
   "cell_type": "code",
   "execution_count": 111,
   "id": "ef56bfe8-71da-44b7-b1b1-4500af3e70cb",
   "metadata": {},
   "outputs": [
    {
     "name": "stdin",
     "output_type": "stream",
     "text": [
      "Enter the first number:  20\n",
      "Enter the second number:  50\n"
     ]
    },
    {
     "name": "stdout",
     "output_type": "stream",
     "text": [
      "The maximum number is 50\n"
     ]
    }
   ],
   "source": [
    "#3. Write a program to find the maximum of two given numbers using conditional statements.\n",
    "a=int(input(\"Enter the first number: \"))\n",
    "b=int(input(\"Enter the second number: \"))\n",
    "\n",
    "if a>b:\n",
    "    print(\"The maximum number is\",a)\n",
    "elif b>a:\n",
    "    print(\"The maximum number is\",b)\n",
    "else:\n",
    "    print(\"Both number are equal\")"
   ]
  },
  {
   "cell_type": "code",
   "execution_count": 112,
   "id": "6c92837b-78e7-42d1-8d0e-8fd0a749d705",
   "metadata": {},
   "outputs": [
    {
     "name": "stdin",
     "output_type": "stream",
     "text": [
      "Enter the student score(0-100):  88\n"
     ]
    },
    {
     "name": "stdout",
     "output_type": "stream",
     "text": [
      "The grade is B\n"
     ]
    }
   ],
   "source": [
    "#4. Develop a program that calculates the grade of a student based on their exam score.\n",
    "student_score=float(input(\"Enter the student score(0-100): \"))\n",
    "\n",
    "if student_score>=90:\n",
    "    grade='A'\n",
    "elif student_score>=80:\n",
    "    grade='B'\n",
    "elif student_score>=70:\n",
    "    grade='C'\n",
    "elif student_score>=60:\n",
    "    grade='D'\n",
    "else:\n",
    "    grade='F'\n",
    "\n",
    "print(f\"The grade is {grade}\")"
   ]
  },
  {
   "cell_type": "code",
   "execution_count": 114,
   "id": "f123f9c1-60a0-4d3e-a425-4ca7b5cabb87",
   "metadata": {},
   "outputs": [
    {
     "name": "stdin",
     "output_type": "stream",
     "text": [
      "Enter the year:  2000\n"
     ]
    },
    {
     "name": "stdout",
     "output_type": "stream",
     "text": [
      "The year is leap year.\n"
     ]
    }
   ],
   "source": [
    "#5. Create a program that checks if a year is a leap year or not.\n",
    "year=int(input(\"Enter the year: \"))\n",
    "\n",
    "if (year%4==0 and year%100!=0) or (year%400==0):\n",
    "    print(\"The year is leap year.\")\n",
    "else:\n",
    "    print(\"The year is not leap year.\")"
   ]
  },
  {
   "cell_type": "code",
   "execution_count": 115,
   "id": "77622d03-0778-40ec-b52f-a1be169817e4",
   "metadata": {},
   "outputs": [
    {
     "name": "stdin",
     "output_type": "stream",
     "text": [
      "Enter length of side 1:  90\n",
      "Enter length of side 2:  90\n",
      "Enter length of side 3:  90\n"
     ]
    },
    {
     "name": "stdout",
     "output_type": "stream",
     "text": [
      "The triangle is Equilateral.\n"
     ]
    }
   ],
   "source": [
    "#6. Write a program to classify a triangle based on its sides' lengths.\n",
    "# Get the lengths of the three sides from the user\n",
    "a = float(input(\"Enter length of side 1: \"))\n",
    "b = float(input(\"Enter length of side 2: \"))\n",
    "c = float(input(\"Enter length of side 3: \"))\n",
    "\n",
    "# First, check if the sides can form a valid triangle (Triangle Inequality Rule)\n",
    "if a + b > c and b + c > a and c + a > b:\n",
    "    # Classify the triangle\n",
    "    if a == b == c:\n",
    "        print(\"The triangle is Equilateral.\")\n",
    "    elif a == b or b == c or a == c:\n",
    "        print(\"The triangle is Isosceles.\")\n",
    "    else:\n",
    "        print(\"The triangle is Scalene.\")\n",
    "else:\n",
    "    print(\"The sides do not form a valid triangle.\")"
   ]
  },
  {
   "cell_type": "code",
   "execution_count": 117,
   "id": "415f55b7-a8b8-4543-aea9-dc9dc404d750",
   "metadata": {},
   "outputs": [
    {
     "name": "stdin",
     "output_type": "stream",
     "text": [
      "Enter the first number:  50 \n",
      "Enter the second number:  40\n",
      "Enter the third number:  80\n"
     ]
    },
    {
     "name": "stdout",
     "output_type": "stream",
     "text": [
      "The largest number is:  80\n"
     ]
    }
   ],
   "source": [
    "#7. Build a program that determines the largest of three given numbers.\n",
    "a1=int(input(\"Enter the first number: \"))\n",
    "a2=int(input(\"Enter the second number: \"))\n",
    "a3=int(input(\"Enter the third number: \"))\n",
    "\n",
    "if a1>a2 and a1>a3:\n",
    "    print(\"The largest number is: \",a1)\n",
    "elif a2>a1 and a2>a3:\n",
    "    print(\"The largest number is: \",a2)\n",
    "else:\n",
    "    print(\"The largest number is: \",a3)"
   ]
  },
  {
   "cell_type": "code",
   "execution_count": 119,
   "id": "ed2686cf-7374-4648-b3c2-17b72849b69b",
   "metadata": {},
   "outputs": [
    {
     "name": "stdin",
     "output_type": "stream",
     "text": [
      "Enter a single character:  d\n"
     ]
    },
    {
     "name": "stdout",
     "output_type": "stream",
     "text": [
      "The character is consonant\n"
     ]
    }
   ],
   "source": [
    "#8. Develop a program that checks whether a character is a vowel or a consonant.\n",
    "char=input(\"Enter a single character: \")\n",
    "vowels=\"aeiouAEIOU\"\n",
    "\n",
    "if len(char)!=1:\n",
    "    print(\"Please enter a single character.\")\n",
    "else:\n",
    "    if char in vowels:\n",
    "        print(\"The character is vowel\")\n",
    "    else:\n",
    "        print(\"The character is consonant\")"
   ]
  },
  {
   "cell_type": "code",
   "execution_count": 122,
   "id": "f3565e08-2624-408e-8db2-39953df4fcb0",
   "metadata": {},
   "outputs": [
    {
     "name": "stdin",
     "output_type": "stream",
     "text": [
      "Enter the amount:  11000\n"
     ]
    },
    {
     "name": "stdout",
     "output_type": "stream",
     "text": [
      "Original amount:  11000.0\n",
      "Dicount applied:  2200.0\n",
      "Amount for pay:  8800.0\n"
     ]
    }
   ],
   "source": [
    "#9. Create a program to calculate the total cost of a shopping cart based on discounts.\n",
    "amount=float(input(\"Enter the amount: \"))\n",
    "\n",
    "if amount>=10000:\n",
    "    discount=amount*0.20\n",
    "elif amount>=5000:\n",
    "    discount=amount*0.10\n",
    "elif amount>=1000:\n",
    "    discount=amount*0.05\n",
    "else:\n",
    "    discount=0\n",
    "\n",
    "final_price=amount-discount\n",
    "\n",
    "print(\"Original amount: \",amount)\n",
    "print(\"Dicount applied: \",discount)\n",
    "print(\"Amount for pay: \",final_price)"
   ]
  },
  {
   "cell_type": "code",
   "execution_count": 124,
   "id": "f1024403-2f71-4b94-b89e-3c20c26369c6",
   "metadata": {},
   "outputs": [
    {
     "name": "stdin",
     "output_type": "stream",
     "text": [
      "Enter the number:  2\n"
     ]
    },
    {
     "name": "stdout",
     "output_type": "stream",
     "text": [
      "The given number is even.\n"
     ]
    }
   ],
   "source": [
    "#10. Write a program that checks if a given number is even or odd.\n",
    "num=int(input(\"Enter the number: \"))\n",
    "\n",
    "if num%2==0:\n",
    "    print(\"The given number is even.\")\n",
    "else:\n",
    "    print(\"The given number is odd.\")"
   ]
  },
  {
   "cell_type": "code",
   "execution_count": 128,
   "id": "df4204f6-c06d-4cbb-ab64-5faa6550121d",
   "metadata": {},
   "outputs": [
    {
     "name": "stdin",
     "output_type": "stream",
     "text": [
      "Enter the a value:  1\n",
      "Enter the b value:  2\n",
      "Enter the c value:  5\n"
     ]
    },
    {
     "name": "stdout",
     "output_type": "stream",
     "text": [
      "The roots are complex and imaginary:\n",
      "-1.0 + 2.0i and -1.0 - 2.0i\n"
     ]
    }
   ],
   "source": [
    "#Intermediate Level:\n",
    "\n",
    "#11. Write a program that calculates the roots of a quadratic equation .\n",
    "import math\n",
    "a=float(input(\"Enter the a value: \"))\n",
    "b=float(input(\"Enter the b value: \"))\n",
    "c=float(input(\"Enter the c value: \"))\n",
    "\n",
    "#find the discriminant\n",
    "d=b**2-4*a*c\n",
    "\n",
    "if d>0:\n",
    "    x1=(-b+math.sqrt(d))/(2*a)\n",
    "    x2=(-b-math.sqrt(d))/(2*a)\n",
    "    print(\"The real and distinct roots: \",x1,x2)\n",
    "\n",
    "elif d==0:\n",
    "    x=-b/(2*a)\n",
    "    print(\"The real and equal roots: \",x)\n",
    "else:\n",
    "    real=-b/(2*a)\n",
    "    imag=math.sqrt(-d)/(2*a)\n",
    "    print(\"The roots are complex and imaginary:\")\n",
    "    print(f\"{real} + {imag}i and {real} - {imag}i\")"
   ]
  },
  {
   "cell_type": "code",
   "execution_count": 129,
   "id": "b862eed7-e56c-42cf-b4d3-2c7fc6a0903a",
   "metadata": {},
   "outputs": [
    {
     "name": "stdin",
     "output_type": "stream",
     "text": [
      "Enter the number(1-7):  5\n"
     ]
    },
    {
     "name": "stdout",
     "output_type": "stream",
     "text": [
      "Friday\n"
     ]
    }
   ],
   "source": [
    "#12. Create a program that determines the day of the week based on the day number (1-7).\n",
    "user_number=int(input(\"Enter the number(1-7): \"))\n",
    "\n",
    "if user_number==1:\n",
    "    print(\"Monday\")\n",
    "elif user_number==2:\n",
    "    print(\"Tuesday\")\n",
    "elif user_number==3:\n",
    "    print(\"Wednesday\")\n",
    "elif user_number==4:\n",
    "    print(\"Thursday\")\n",
    "elif user_number==5:\n",
    "    print(\"Friday\")\n",
    "elif user_number==6:\n",
    "    print(\"Saturday\")\n",
    "elif user_number==7:\n",
    "    print(\"Sunday\")\n",
    "else:\n",
    "    print(\"Invalid input please enter number between 1 to 7.\")"
   ]
  },
  {
   "cell_type": "code",
   "execution_count": 131,
   "id": "2be56c32-27b4-4303-a999-8ce5140bb72f",
   "metadata": {},
   "outputs": [
    {
     "name": "stdin",
     "output_type": "stream",
     "text": [
      "Enter the non-negative number:  5\n"
     ]
    },
    {
     "name": "stdout",
     "output_type": "stream",
     "text": [
      "The factorial 5 is 120\n"
     ]
    }
   ],
   "source": [
    "#13. Develop a program that calculates the factorial of a given number using recursion.\n",
    "def factorial(n):\n",
    "    if n==0 or n==1:\n",
    "        return 1\n",
    "    else:\n",
    "        return n*factorial(n-1)\n",
    "\n",
    "num=int(input(\"Enter the non-negative number: \"))\n",
    "\n",
    "if num<0:\n",
    "    print(\"factorial is not for negative numbers.\")\n",
    "\n",
    "else:\n",
    "    result=factorial(num)\n",
    "    print(f\"The factorial {num} is {result}\")"
   ]
  },
  {
   "cell_type": "code",
   "execution_count": 133,
   "id": "febbef91-f81f-46f8-a67c-42e1e52070a2",
   "metadata": {},
   "outputs": [
    {
     "name": "stdin",
     "output_type": "stream",
     "text": [
      "Enter the first number:  8\n",
      "Enter the second number:  8\n",
      "Enter the third number:  6\n"
     ]
    },
    {
     "name": "stdout",
     "output_type": "stream",
     "text": [
      "The largest number is:  8\n"
     ]
    }
   ],
   "source": [
    "#14. Write a program to find the largest among three numbers without using the `max()` function.\n",
    "a1=int(input(\"Enter the first number: \"))\n",
    "a2=int(input(\"Enter the second number: \"))\n",
    "a3=int(input(\"Enter the third number: \"))\n",
    "\n",
    "if a1 == a2 == a3:\n",
    "    print(\"All three numbers are equal.\") \n",
    "elif a1>=a2 and a1>=a3:\n",
    "    print(\"The largest number is: \",a1)\n",
    "elif a2>=a1 and a2>=a3:\n",
    "    print(\"The largest number is: \",a2)\n",
    "else:\n",
    "    print(\"The largest number is: \",a3)"
   ]
  },
  {
   "cell_type": "code",
   "execution_count": 137,
   "id": "56a484e8-2e3f-482c-84bd-269a302bb468",
   "metadata": {},
   "outputs": [
    {
     "name": "stdout",
     "output_type": "stream",
     "text": [
      "\n",
      "-------ATM Menu-------\n",
      "1. Check balance.\n",
      "2. Deposit.\n",
      "3. Withdraw.\n",
      "4. Exit.\n"
     ]
    },
    {
     "name": "stdin",
     "output_type": "stream",
     "text": [
      "Enter the number(1-4):  3\n",
      "Please enter your withdraw amount: ₹ 5000\n"
     ]
    },
    {
     "name": "stdout",
     "output_type": "stream",
     "text": [
      "Withdraw Successfully.\n",
      "\n",
      "-------ATM Menu-------\n",
      "1. Check balance.\n",
      "2. Deposit.\n",
      "3. Withdraw.\n",
      "4. Exit.\n"
     ]
    },
    {
     "name": "stdin",
     "output_type": "stream",
     "text": [
      "Enter the number(1-4):  1\n"
     ]
    },
    {
     "name": "stdout",
     "output_type": "stream",
     "text": [
      "Your balance is:  5000.0\n",
      "\n",
      "-------ATM Menu-------\n",
      "1. Check balance.\n",
      "2. Deposit.\n",
      "3. Withdraw.\n",
      "4. Exit.\n"
     ]
    },
    {
     "name": "stdin",
     "output_type": "stream",
     "text": [
      "Enter the number(1-4):  4\n"
     ]
    },
    {
     "name": "stdout",
     "output_type": "stream",
     "text": [
      "Thank you for using the ATM. Goodbye!\n"
     ]
    }
   ],
   "source": [
    "#15. Create a program that simulates a basic ATM transaction menu.\n",
    "balance=10000 #Initial balance\n",
    "\n",
    "while True:\n",
    "    print(\"\\n-------ATM Menu-------\")\n",
    "    print(\"1. Check balance.\")\n",
    "    print(\"2. Deposit.\")\n",
    "    print(\"3. Withdraw.\")\n",
    "    print(\"4. Exit.\")\n",
    "\n",
    "    choice=int(input(\"Enter the number(1-4): \"))\n",
    "\n",
    "    if choice==1:\n",
    "        print(\"Your balance is: \",balance)\n",
    "    elif choice==2:\n",
    "        amount=float(input(\"Please enter your deposit amount: ₹\"))\n",
    "        if amount>0:\n",
    "            balance+=amount\n",
    "            print(\"Deposit Successfully.\")\n",
    "        else:\n",
    "            print(\"Invalid deposit amount.\")\n",
    "    elif choice==3:\n",
    "        amount=float(input(\"Please enter your withdraw amount: ₹\"))\n",
    "        if amount<=balance and amount>0:\n",
    "            balance-=amount\n",
    "            print(\"Withdraw Successfully.\")\n",
    "        elif amount<=0:\n",
    "            print(\"Invalid withdraw amount.\")\n",
    "        else:\n",
    "            print(\"Insufficient balance.\")\n",
    "    elif choice==4:\n",
    "        print(\"Thank you for using the ATM. Goodbye!\")\n",
    "        break\n",
    "    else:\n",
    "        print(\"Invalid choice. Please select from 1 to 4.\")"
   ]
  },
  {
   "cell_type": "code",
   "execution_count": 144,
   "id": "afd9008f-cbfb-4aa1-b942-ddc6d0484f19",
   "metadata": {},
   "outputs": [
    {
     "name": "stdin",
     "output_type": "stream",
     "text": [
      "Enter the string:  Ab a\n"
     ]
    },
    {
     "name": "stdout",
     "output_type": "stream",
     "text": [
      "The given string is palindrome.\n"
     ]
    }
   ],
   "source": [
    "#16. Build a program that checks if a given string is a palindrome or not.\n",
    "string=input(\"Enter the string: \").lower()\n",
    "string=string.replace(\" \",\"\")\n",
    "\n",
    "if string==string[::-1]:\n",
    "    print(\"The given string is palindrome.\")\n",
    "else:\n",
    "    print(\"The given string is not palindrome.\")"
   ]
  },
  {
   "cell_type": "code",
   "execution_count": 149,
   "id": "14a6cb2c-79c3-4c1f-a00a-3bfaf443dce3",
   "metadata": {},
   "outputs": [
    {
     "name": "stdin",
     "output_type": "stream",
     "text": [
      "Enter the number seperated by spaces:  2010\n"
     ]
    },
    {
     "name": "stdout",
     "output_type": "stream",
     "text": [
      "Need more than two numbers excluding min and max.\n"
     ]
    }
   ],
   "source": [
    "#17. Write a program that calculates the average of a list of numbers, excluding the smallest and largest values.\n",
    "numbers=input(\"Enter the number seperated by spaces: \").split()\n",
    "numbers=[float(num) for num in numbers]\n",
    "\n",
    "if len(numbers)<=2:\n",
    "    print(\"Need more than two numbers excluding min and max.\")\n",
    "else:\n",
    "    smallest=min(numbers)\n",
    "    largest=max(numbers)\n",
    "\n",
    "    numbers.remove(smallest)\n",
    "    numbers.remove(largest)\n",
    "\n",
    "    average=sum(numbers)/len(numbers)\n",
    "    print(\"Average (excluding smallest and largest):\", average)"
   ]
  },
  {
   "cell_type": "code",
   "execution_count": 151,
   "id": "c6f824db-db21-4981-b5b4-c6ba004499ab",
   "metadata": {},
   "outputs": [
    {
     "name": "stdin",
     "output_type": "stream",
     "text": [
      "Enter the temperature in celcius:  30\n"
     ]
    },
    {
     "name": "stdout",
     "output_type": "stream",
     "text": [
      "Temperature in Fahrenheit: 86.0\n"
     ]
    }
   ],
   "source": [
    "#18. Develop a program that converts a given temperature from Celsius to Fahrenheit.\n",
    "celcius=float(input(\"Enter the temperature in celcius: \"))\n",
    "fahrenheit=(celcius*9/5)+32\n",
    "print(\"Temperature in Fahrenheit:\", fahrenheit)"
   ]
  },
  {
   "cell_type": "code",
   "execution_count": 155,
   "id": "b73d637f-c176-41e5-a2c0-35801dbe3cba",
   "metadata": {},
   "outputs": [
    {
     "name": "stdin",
     "output_type": "stream",
     "text": [
      "Enter the first number:  10\n",
      "Enter the second number:  0\n",
      "Please enter the operator like (+,-,*,/):  /\n"
     ]
    },
    {
     "name": "stdout",
     "output_type": "stream",
     "text": [
      "Error: Cannot divide by zero.\n"
     ]
    }
   ],
   "source": [
    "#19. Create a program that simulates a basic calculator for addition, subtraction, multiplication, and division.\n",
    "a=int(input(\"Enter the first number: \"))\n",
    "b=int(input(\"Enter the second number: \"))\n",
    "\n",
    "operator=input(\"Please enter the operator like (+,-,*,/): \")\n",
    "\n",
    "if operator==\"+\":\n",
    "    print(\"The addition is: \",a+b)\n",
    "elif operator==\"-\":\n",
    "    print(\"The substraction is: \",a-b)\n",
    "elif operator==\"*\":\n",
    "    print(\"The multiplication is: \",a*b)\n",
    "elif operator==\"/\":\n",
    "    if b!=0:\n",
    "        print(\"The division is: \",a/b)\n",
    "    else:\n",
    "        print(\"Error: Cannot divide by zero.\")\n",
    "else:\n",
    "    print(\"Invalid operator.\")"
   ]
  },
  {
   "cell_type": "code",
   "execution_count": 156,
   "id": "e2cba993-15bd-4aa3-9661-0c2dd76b6dfc",
   "metadata": {},
   "outputs": [
    {
     "name": "stdin",
     "output_type": "stream",
     "text": [
      "Enter coefficient a:  1\n",
      "Enter coefficient b:  -6\n",
      "Enter coefficient c:  11\n",
      "Enter coefficient d:  -6\n"
     ]
    },
    {
     "name": "stdout",
     "output_type": "stream",
     "text": [
      "Three real roots:\n",
      "Root 1: 3.0\n",
      "Root 2: 1.0\n",
      "Root 3: 1.9999999999999998\n"
     ]
    }
   ],
   "source": [
    "#20. Write a program that determines the roots of a cubic equation using the Cardano formula.\n",
    "import math\n",
    "\n",
    "a = float(input(\"Enter coefficient a: \"))\n",
    "b = float(input(\"Enter coefficient b: \"))\n",
    "c = float(input(\"Enter coefficient c: \"))\n",
    "d = float(input(\"Enter coefficient d: \"))\n",
    "\n",
    "if a == 0:\n",
    "    print(\"This is not a cubic equation.\")\n",
    "else:\n",
    "    # Convert to depressed cubic: t^3 + pt + q = 0\n",
    "    p = (3*a*c - b**2) / (3*a**2)\n",
    "    q = (2*b**3 - 9*a*b*c + 27*a**2*d) / (27*a**3)\n",
    "\n",
    "    # Discriminant\n",
    "    delta = (q**2) / 4 + (p**3) / 27\n",
    "\n",
    "    shift = b / (3*a)\n",
    "\n",
    "    if delta > 0:\n",
    "        # One real root\n",
    "        u = (-q / 2 + math.sqrt(delta))**(1/3)\n",
    "        v = (-q / 2 - math.sqrt(delta))**(1/3)\n",
    "        root = u + v - shift\n",
    "        print(\"One real root:\", root)\n",
    "    elif delta == 0:\n",
    "        # All real, at least two equal\n",
    "        u = (-q / 2)**(1/3)\n",
    "        root1 = 2*u - shift\n",
    "        root2 = -u - shift\n",
    "        print(\"Real roots:\", root1, root2)\n",
    "    else:\n",
    "        # Three distinct real roots\n",
    "        r = math.sqrt(-p**3 / 27)\n",
    "        theta = math.acos(-q / (2 * math.sqrt(-p**3 / 27)))\n",
    "        t1 = 2 * math.sqrt(-p / 3)\n",
    "\n",
    "        root1 = t1 * math.cos(theta / 3) - shift\n",
    "        root2 = t1 * math.cos((theta + 2*math.pi) / 3) - shift\n",
    "        root3 = t1 * math.cos((theta + 4*math.pi) / 3) - shift\n",
    "\n",
    "        print(\"Three real roots:\")\n",
    "        print(\"Root 1:\", root1)\n",
    "        print(\"Root 2:\", root2)\n",
    "        print(\"Root 3:\", root3)\n"
   ]
  },
  {
   "cell_type": "code",
   "execution_count": 157,
   "id": "e15fb0b4-5d01-4a9b-9642-367c5c17e9e0",
   "metadata": {},
   "outputs": [
    {
     "name": "stdin",
     "output_type": "stream",
     "text": [
      "Enter the annual income(₹):  1200000\n"
     ]
    },
    {
     "name": "stdout",
     "output_type": "stream",
     "text": [
      "Your calculated income tax is: ₹ 47500.0\n"
     ]
    }
   ],
   "source": [
    "#Advanced Level:\n",
    "#21. Create a program that calculates the income tax based on the user's income and tax brackets.\n",
    "\n",
    "income=float(input(\"Enter the annual income(₹): \"))\n",
    "\n",
    "if income<=250000:\n",
    "    tax=0\n",
    "elif income<=5000000:\n",
    "    tax=(income-250000)*0.05\n",
    "elif income<=1000000:\n",
    "    tax=(250000*0.05)+(income-5000000)*0.20\n",
    "else:\n",
    "    tax=(250000*0.05)+(5000000*0.20)+(income - 1000000) * 0.30\n",
    "    \n",
    "print(\"Your calculated income tax is: ₹\", round(tax, 2))"
   ]
  },
  {
   "cell_type": "code",
   "execution_count": 165,
   "id": "533e765e-38d1-47e8-b06a-7b73642a5e6a",
   "metadata": {},
   "outputs": [
    {
     "name": "stdout",
     "output_type": "stream",
     "text": [
      "Welcome rock,paper,scissors.\n",
      "Choose: rock,paper, or scissors.\n"
     ]
    },
    {
     "name": "stdin",
     "output_type": "stream",
     "text": [
      "Your choice:  scissors\n"
     ]
    },
    {
     "name": "stdout",
     "output_type": "stream",
     "text": [
      "Computer chose: paper\n",
      "You wins!\n"
     ]
    }
   ],
   "source": [
    "#22. Write a program that simulates a rock-paper-scissors game against the computer.\n",
    "import random\n",
    "\n",
    "print(\"Welcome rock,paper,scissors.\")\n",
    "print(\"Choose: rock,paper, or scissors.\")\n",
    "\n",
    "user_input=(input(\"Your choice: \")).lower()\n",
    "\n",
    "options=[\"rock\", \"paper\", \"scissors\"]\n",
    "computer_choice=random.choice(options)\n",
    "\n",
    "print(\"Computer chose:\", computer_choice)\n",
    "\n",
    "if user_input==computer_choice:\n",
    "    print(\"It's a draw!\")\n",
    "elif (user_input==\"rock\" and computer_choice==\"scissors\")or\\\n",
    "     (user_input==\"scissors\" and computer_choice==\"paper\")or\\\n",
    "     (user_input==\"paper\" and computer_choice==\"rock\"):\n",
    "    print(\"You wins!\")\n",
    "elif user_input in options:\n",
    "    print(\"Computer wins!\")\n",
    "else:\n",
    "    print(\"Invalid input. Please choose rock, paper, or scissors.\")"
   ]
  },
  {
   "cell_type": "code",
   "execution_count": 167,
   "id": "6bf12e61-6830-45be-b445-c9795b66cf1f",
   "metadata": {},
   "outputs": [
    {
     "name": "stdout",
     "output_type": "stream",
     "text": [
      "Welcome to the password generator!\n"
     ]
    },
    {
     "name": "stdin",
     "output_type": "stream",
     "text": [
      "Enter the length for password:  6\n",
      "Include letters? (y/n):  n\n",
      "Include numbers? (y/n):  n\n",
      "Include symbols? (y/n):  y\n"
     ]
    },
    {
     "name": "stdout",
     "output_type": "stream",
     "text": [
      "Your generated password is:  &^?/:#\n"
     ]
    }
   ],
   "source": [
    "#23. Develop a program that generates a random password based on user preferences (length, complexity).\n",
    "import random\n",
    "import string\n",
    "\n",
    "print(\"Welcome to the password generator!\")\n",
    "\n",
    "pass_length=int(input(\"Enter the length for password: \"))\n",
    "\n",
    "include_letters = input(\"Include letters? (y/n): \").lower() == 'y'\n",
    "include_numbers = input(\"Include numbers? (y/n): \").lower() == 'y'\n",
    "include_symbols = input(\"Include symbols? (y/n): \").lower() == 'y'\n",
    "\n",
    "characters = \"\"\n",
    "\n",
    "if include_letters:\n",
    "    characters+=string.ascii_letters\n",
    "if include_numbers:\n",
    "    characters+=string.digits\n",
    "if include_symbols:\n",
    "    characters+=string.punctuation\n",
    "\n",
    "if not characters:\n",
    "    print(\"You must choose at least one character type.\")\n",
    "else:\n",
    "    password=\"\".join(random.choice(characters) for _ in range(pass_length))\n",
    "    print(\"Your generated password is: \",password)"
   ]
  },
  {
   "cell_type": "code",
   "execution_count": 169,
   "id": "c0094590-48a5-4295-b9a3-6adee3a07974",
   "metadata": {},
   "outputs": [
    {
     "name": "stdout",
     "output_type": "stream",
     "text": [
      "Welcome to the Adventure Game!\n",
      "You find yourself at the entrance of a dark forest.\n"
     ]
    },
    {
     "name": "stdin",
     "output_type": "stream",
     "text": [
      "Do you want to ENTER the forest or RETURN home? (enter/return):  enter\n"
     ]
    },
    {
     "name": "stdout",
     "output_type": "stream",
     "text": [
      "\n",
      "You step into the forest. It's quiet... too quiet.\n"
     ]
    },
    {
     "name": "stdin",
     "output_type": "stream",
     "text": [
      "You see a path splitting into two. Do you go LEFT or RIGHT? (left/right):  left\n"
     ]
    },
    {
     "name": "stdout",
     "output_type": "stream",
     "text": [
      "\n",
      "You walk left and find a treasure chest!\n"
     ]
    },
    {
     "name": "stdin",
     "output_type": "stream",
     "text": [
      "Do you OPEN it or LEAVE it? (open/leave):  open\n"
     ]
    },
    {
     "name": "stdout",
     "output_type": "stream",
     "text": [
      "\n",
      "🎉 You found gold and jewels! You win!\n"
     ]
    }
   ],
   "source": [
    "#24. Create a program that implements a simple text-based adventure game with branching scenarios.\n",
    "print(\"Welcome to the Adventure Game!\")\n",
    "print(\"You find yourself at the entrance of a dark forest.\")\n",
    "\n",
    "choice1 = input(\"Do you want to ENTER the forest or RETURN home? (enter/return): \").lower()\n",
    "\n",
    "if choice1 == \"enter\":\n",
    "    print(\"\\nYou step into the forest. It's quiet... too quiet.\")\n",
    "    choice2 = input(\"You see a path splitting into two. Do you go LEFT or RIGHT? (left/right): \").lower()\n",
    "\n",
    "    if choice2 == \"left\":\n",
    "        print(\"\\nYou walk left and find a treasure chest!\")\n",
    "        choice3 = input(\"Do you OPEN it or LEAVE it? (open/leave): \").lower()\n",
    "\n",
    "        if choice3 == \"open\":\n",
    "            print(\"\\n🎉 You found gold and jewels! You win!\")\n",
    "        elif choice3 == \"leave\":\n",
    "            print(\"\\nYou walk away... and fall into a trap! Game over.\")\n",
    "        else:\n",
    "            print(\"Invalid choice. A mysterious fog swallows you. Game over.\")\n",
    "\n",
    "    elif choice2 == \"right\":\n",
    "        print(\"\\nYou walk right and encounter a wild beast!\")\n",
    "        choice3 = input(\"Do you FIGHT or RUN? (fight/run): \").lower()\n",
    "\n",
    "        if choice3 == \"fight\":\n",
    "            print(\"\\nYou bravely fight... but the beast overpowers you. Game over.\")\n",
    "        elif choice3 == \"run\":\n",
    "            print(\"\\nYou run away safely. You survive. The end.\")\n",
    "        else:\n",
    "            print(\"You freeze in fear... and the beast attacks. Game over.\")\n",
    "\n",
    "    else:\n",
    "        print(\"You wander aimlessly and get lost. Game over.\")\n",
    "\n",
    "elif choice1 == \"return\":\n",
    "    print(\"\\nYou return home safely. Maybe next time you'll be braver.\")\n",
    "else:\n",
    "    print(\"You stand there confused... and the game ends.\")"
   ]
  },
  {
   "cell_type": "code",
   "execution_count": 173,
   "id": "e8f416cc-68e9-4669-b663-7c5e4453431c",
   "metadata": {},
   "outputs": [
    {
     "name": "stdout",
     "output_type": "stream",
     "text": [
      "These problem solve linear equation of form: ax+b=0\n"
     ]
    },
    {
     "name": "stdin",
     "output_type": "stream",
     "text": [
      "Enter the coefficient of a:  0\n",
      "Enter the constant of b:  0\n"
     ]
    },
    {
     "name": "stdout",
     "output_type": "stream",
     "text": [
      "Infinite solution.\n"
     ]
    }
   ],
   "source": [
    "#25. Build a program that solves a linear equation for x, considering different cases.\n",
    "print(\"These problem solve linear equation of form: ax+b=0\")\n",
    "\n",
    "a=float(input(\"Enter the coefficient of a: \"))\n",
    "b=float(input(\"Enter the constant of b: \"))\n",
    "\n",
    "if a==0:\n",
    "    if b==0:\n",
    "        print(\"Infinite solution.\")\n",
    "    else:\n",
    "        print(\"No solution\")\n",
    "else:\n",
    "    x=-b/a\n",
    "    print(\"The solution is x= \",x)"
   ]
  },
  {
   "cell_type": "code",
   "execution_count": 177,
   "id": "1a2a7940-9382-456f-a4c5-58610f3ecde4",
   "metadata": {},
   "outputs": [
    {
     "name": "stdout",
     "output_type": "stream",
     "text": [
      "🎓 Welcome to the quiz game!\n",
      "Answer the multiple choice question(a/b/c/d).\n",
      "\n",
      "1. What is capital of India?\n",
      "a) Mumbai \n",
      "b) Kolkata \n",
      "c) Delhi \n",
      "d) Chennai \n"
     ]
    },
    {
     "name": "stdin",
     "output_type": "stream",
     "text": [
      "Your answer:  c\n"
     ]
    },
    {
     "name": "stdout",
     "output_type": "stream",
     "text": [
      "✅Correct!\n",
      "\n",
      "2. Who is known as the father of computers?\n",
      "a) Charles Babbage\n",
      "b) Alan Turing\n",
      "c) Bill Gates\n",
      "d) Steve Jobs\n"
     ]
    },
    {
     "name": "stdin",
     "output_type": "stream",
     "text": [
      "Your answer:  a\n"
     ]
    },
    {
     "name": "stdout",
     "output_type": "stream",
     "text": [
      "✅ Correct!\n",
      "\n",
      "3. Which planet is known as the Red Planet?\n",
      "a) Earth\n",
      "b) Mars\n",
      "c) Jupiter\n",
      "d) Venus\n"
     ]
    },
    {
     "name": "stdin",
     "output_type": "stream",
     "text": [
      "Your answer:  b\n"
     ]
    },
    {
     "name": "stdout",
     "output_type": "stream",
     "text": [
      "✅ Correct!\n",
      "\n",
      "🎯 Quiz completed! Your total score is: 3/3\n",
      "🏆 Excellent!\n"
     ]
    }
   ],
   "source": [
    "#26. Write a program that simulates a basic quiz game with multiple-choice questions and scoring.\n",
    "score=0\n",
    "\n",
    "print(\"🎓 Welcome to the quiz game!\")\n",
    "print(\"Answer the multiple choice question(a/b/c/d).\\n\")\n",
    "\n",
    "#Question 1\n",
    "print(\"1. What is capital of India?\")\n",
    "print(\"a) Mumbai \\nb) Kolkata \\nc) Delhi \\nd) Chennai \")\n",
    "user_ans1=input(\"Your answer: \").lower()\n",
    "\n",
    "if user_ans1=='c':\n",
    "    print(\"✅Correct!\")\n",
    "    score+=1\n",
    "else:\n",
    "    print(\"❌Incorrect. The correct answer is: c) Delhi\")\n",
    "\n",
    "# Question 2\n",
    "print(\"\\n2. Who is known as the father of computers?\")\n",
    "print(\"a) Charles Babbage\\nb) Alan Turing\\nc) Bill Gates\\nd) Steve Jobs\")\n",
    "answer = input(\"Your answer: \").lower()\n",
    "\n",
    "if answer == 'a':\n",
    "    print(\"✅ Correct!\")\n",
    "    score += 1\n",
    "else:\n",
    "    print(\"❌ Incorrect. The correct answer is: a) Charles Babbage\")\n",
    "\n",
    "# Question 3\n",
    "print(\"\\n3. Which planet is known as the Red Planet?\")\n",
    "print(\"a) Earth\\nb) Mars\\nc) Jupiter\\nd) Venus\")\n",
    "answer = input(\"Your answer: \").lower()\n",
    "\n",
    "if answer == 'b':\n",
    "    print(\"✅ Correct!\")\n",
    "    score += 1\n",
    "else:\n",
    "    print(\"❌ Incorrect. The correct answer is: b) Mars\")\n",
    "\n",
    "# Final Score\n",
    "print(f\"\\n🎯 Quiz completed! Your total score is: {score}/3\")\n",
    "if score == 3:\n",
    "    print(\"🏆 Excellent!\")\n",
    "elif score == 2:\n",
    "    print(\"👍 Good job!\")\n",
    "else:\n",
    "    print(\"📚 Keep learning!\")"
   ]
  },
  {
   "cell_type": "code",
   "execution_count": 181,
   "id": "fdf4594a-2e3a-4b1a-9031-a983556b2506",
   "metadata": {},
   "outputs": [
    {
     "name": "stdin",
     "output_type": "stream",
     "text": [
      "Enter the year:  2011\n"
     ]
    },
    {
     "name": "stdout",
     "output_type": "stream",
     "text": [
      "2011 is a prime number.\n"
     ]
    }
   ],
   "source": [
    "#27. Develop a program that determines whether a given year is a prime number or not.\n",
    "year=int(input(\"Enter the year: \"))\n",
    "\n",
    "if year<2:\n",
    "    print(f\"{year} is not a prime number.\")\n",
    "else:\n",
    "    is_prime=True\n",
    "    for i in range(2,int(year**0.5)+1):\n",
    "        if year%i==0:\n",
    "            is_prime=False\n",
    "            break\n",
    "    if is_prime:\n",
    "        print(f\"{year} is a prime number.\")\n",
    "    else:\n",
    "        print(f\"{year} is not a prime number.\")"
   ]
  },
  {
   "cell_type": "code",
   "execution_count": 183,
   "id": "810a9c36-3298-4209-8faf-240c248ccd93",
   "metadata": {},
   "outputs": [
    {
     "name": "stdin",
     "output_type": "stream",
     "text": [
      "Enter the first number:  50\n",
      "Enter the second number:  20\n",
      "Enter the third number:  60\n"
     ]
    },
    {
     "name": "stdout",
     "output_type": "stream",
     "text": [
      "The number in ascending order:  20 50 60\n"
     ]
    }
   ],
   "source": [
    "#28. Create a program that sorts three numbers in ascending order using conditional statements.\n",
    "a=int(input(\"Enter the first number: \"))\n",
    "b=int(input(\"Enter the second number: \"))\n",
    "c=int(input(\"Enter the third number: \"))\n",
    "\n",
    "if a>b:\n",
    "    a,b=b,a\n",
    "if a>c:\n",
    "    a,c=c,a\n",
    "if b>c:\n",
    "    b,c=c,b\n",
    "print(\"The number in ascending order: \",a,b,c)"
   ]
  },
  {
   "cell_type": "code",
   "execution_count": 188,
   "id": "d9d96998-cdf7-455a-a87b-9418038a9e88",
   "metadata": {},
   "outputs": [
    {
     "name": "stdout",
     "output_type": "stream",
     "text": [
      "Enter coefficients of ax⁴ + bx³ + cx² + dx + e = 0\n"
     ]
    },
    {
     "name": "stdin",
     "output_type": "stream",
     "text": [
      "Enter a (coefficient of x⁴):  0\n",
      "Enter b (coefficient of x³):  8\n",
      "Enter c (coefficient of x²):  -9\n",
      "Enter d (coefficient of x):  5\n",
      "Enter e (constant term):  4\n"
     ]
    },
    {
     "name": "stdout",
     "output_type": "stream",
     "text": [
      "This is not a quartic equation (a must not be 0).\n"
     ]
    }
   ],
   "source": [
    "#29. Build a program that determines the roots of a quartic equation using numerical methods.\n",
    "import numpy as np\n",
    "\n",
    "print(\"Enter coefficients of ax⁴ + bx³ + cx² + dx + e = 0\")\n",
    "\n",
    "a = float(input(\"Enter a (coefficient of x⁴): \"))\n",
    "b = float(input(\"Enter b (coefficient of x³): \"))\n",
    "c = float(input(\"Enter c (coefficient of x²): \"))\n",
    "d = float(input(\"Enter d (coefficient of x): \"))\n",
    "e = float(input(\"Enter e (constant term): \"))\n",
    "\n",
    "if a==0:\n",
    "    print(\"This is not a quartic equation (a must not be 0).\")\n",
    "else:\n",
    "    coefficients=[a,b,c,d,e]\n",
    "\n",
    "    roots=np.roots(coefficients)\n",
    "    \n",
    "    print(\"Roots of the equation:\")\n",
    "    for root in roots:\n",
    "        print(root)"
   ]
  },
  {
   "cell_type": "code",
   "execution_count": 191,
   "id": "7bf461a0-1c78-4ab3-8e8e-2870e8fb4b6a",
   "metadata": {},
   "outputs": [
    {
     "name": "stdin",
     "output_type": "stream",
     "text": [
      "Enter your weight in kilograms (kg):  62\n",
      "Enter your height in meters (m):  1.60\n"
     ]
    },
    {
     "name": "stdout",
     "output_type": "stream",
     "text": [
      "\n",
      "Your BMI is: 24.22\n",
      "Category: Normal weight\n",
      "Recommendation: Great! Maintain your current lifestyle to stay healthy.\n"
     ]
    }
   ],
   "source": [
    "#30. Write a program that calculates the BMI (Body Mass Index) and provides health recommendations based on the user's input.\n",
    "# BMI Calculation Program Without Functions\n",
    "\n",
    "# Get user input\n",
    "weight = float(input(\"Enter your weight in kilograms (kg): \"))\n",
    "height = float(input(\"Enter your height in meters (m): \"))\n",
    "\n",
    "# Calculate BMI\n",
    "bmi = weight / (height ** 2)\n",
    "\n",
    "# Display the BMI\n",
    "print(f\"\\nYour BMI is: {bmi:.2f}\")\n",
    "\n",
    "# Provide health recommendations\n",
    "if bmi < 18.5:\n",
    "    print(\"Category: Underweight\")\n",
    "    print(\"Recommendation: You should consider gaining weight for better health. Consult a healthcare provider.\")\n",
    "elif 18.5 <= bmi < 24.9:\n",
    "    print(\"Category: Normal weight\")\n",
    "    print(\"Recommendation: Great! Maintain your current lifestyle to stay healthy.\")\n",
    "elif 25 <= bmi < 29.9:\n",
    "    print(\"Category: Overweight\")\n",
    "    print(\"Recommendation: Consider a healthier diet and regular exercise.\")\n",
    "else:\n",
    "    print(\"Category: Obese\")\n",
    "    print(\"Recommendation: It's important to seek advice from a healthcare provider to manage your weight.\")"
   ]
  },
  {
   "cell_type": "code",
   "execution_count": 194,
   "id": "c6175d8b-688d-485a-a58a-ae7614e9de1f",
   "metadata": {},
   "outputs": [
    {
     "name": "stdin",
     "output_type": "stream",
     "text": [
      "Enter the password:  Shraddh@hhhgg\n"
     ]
    },
    {
     "name": "stdout",
     "output_type": "stream",
     "text": [
      "Password is invalid for the following reasons:\n",
      "- Password must contain at least one digit.\n"
     ]
    }
   ],
   "source": [
    "#Challenge Level:\n",
    "#31. Create a program that validates a password based on complexity rules (length, characters, etc.).\n",
    "\n",
    "#import regular experassion module is re\n",
    "import re\n",
    "\n",
    "password=input(\"Enter the password: \")\n",
    "\n",
    "is_valid=True\n",
    "errors=[]\n",
    "\n",
    "if len(password)<=8:\n",
    "    is_valid=False\n",
    "    errors.append(\"Password must be at least 8 characters long.\")\n",
    "\n",
    "#check for uppercase\n",
    "if not re.search(r\"[A-Z]\",password):\n",
    "    is_valid = False\n",
    "    errors.append(\"Password must contain at least one uppercase letter.\")\n",
    "\n",
    "#check for lowercase\n",
    "if not re.search(r\"[a-z]\",password):\n",
    "    is_valid=False\n",
    "    errors.append(\"Password must contain at least one lowercase letter.\")\n",
    "\n",
    "# Check for digit\n",
    "if not re.search(r\"[0-9]\", password):\n",
    "    is_valid = False\n",
    "    errors.append(\"Password must contain at least one digit.\")\n",
    "\n",
    "#check for special character\n",
    "if not re.search(r\"[!@#$%^&*(),.?\\\":{}|<>]\",password):\n",
    "    is_valid=False\n",
    "    errors.append(\"Password must contain at least one special character.\")\n",
    "\n",
    "#output display\n",
    "if is_valid:\n",
    "    print(\"Password is valid and meets all complexity requirements.\")\n",
    "else:\n",
    "    print(\"Password is invalid for the following reasons:\")\n",
    "    for error in errors:\n",
    "        print(\"-\",error)"
   ]
  },
  {
   "cell_type": "code",
   "execution_count": 1,
   "id": "3fd9da88-57c4-4f6a-a2de-042433404f62",
   "metadata": {},
   "outputs": [
    {
     "name": "stdin",
     "output_type": "stream",
     "text": [
      "Enter the number of rows:  2\n",
      "Enter the number of columns:  2\n"
     ]
    },
    {
     "name": "stdout",
     "output_type": "stream",
     "text": [
      "\n",
      "Enter elements for Matrix 1:\n"
     ]
    },
    {
     "name": "stdin",
     "output_type": "stream",
     "text": [
      "matrix1[0][0] 4\n",
      "matrix1[0][1] 3\n",
      "matrix1[1][0] 6\n",
      "matrix1[1][1] 1\n"
     ]
    },
    {
     "name": "stdout",
     "output_type": "stream",
     "text": [
      "\n",
      "Enter elements for Matrix 2:\n"
     ]
    },
    {
     "name": "stdin",
     "output_type": "stream",
     "text": [
      "matrix2[0][0] 6\n",
      "matrix2[0][1] 4\n",
      "matrix2[1][0] 2\n",
      "matrix2[1][1] 7\n"
     ]
    },
    {
     "name": "stdout",
     "output_type": "stream",
     "text": [
      "\n",
      "Choose operation:\n",
      "1. Addition\n",
      "2. Subtraction\n"
     ]
    },
    {
     "name": "stdin",
     "output_type": "stream",
     "text": [
      "Enter 1 or 2:  1\n"
     ]
    },
    {
     "name": "stdout",
     "output_type": "stream",
     "text": [
      "\n",
      "Result of Matrix Subtraction:\n",
      "[10, 7]\n",
      "[8, 8]\n"
     ]
    }
   ],
   "source": [
    "#32. Develop a program that performs matrix addition and subtraction based on user input.\n",
    "rows=int(input(\"Enter the number of rows: \"))\n",
    "cols=int(input(\"Enter the number of columns: \"))\n",
    "\n",
    "matrix1=[]\n",
    "matrix2=[]\n",
    "result=[]\n",
    "\n",
    "#get matrix1 value\n",
    "print(\"\\nEnter elements for Matrix 1:\")\n",
    "for i in range(rows):\n",
    "    row=[]\n",
    "    for j in range(cols):\n",
    "        value=int(input(f\"matrix1[{i}][{j}]\"))\n",
    "        row.append(value)\n",
    "    matrix1.append(row)\n",
    "\n",
    "#get matrix2 value\n",
    "print(\"\\nEnter elements for Matrix 2:\")\n",
    "for i in range(rows):\n",
    "    row=[]\n",
    "    for j in range(cols):\n",
    "        value=int(input(f\"matrix2[{i}][{j}]\"))\n",
    "        row.append(value)\n",
    "    matrix2.append(row)\n",
    "\n",
    "#choose operation\n",
    "print(\"\\nChoose operation:\")\n",
    "print(\"1. Addition\")\n",
    "print(\"2. Subtraction\")\n",
    "choice = input(\"Enter 1 or 2: \")\n",
    "\n",
    "for i in range(rows):\n",
    "    row=[]\n",
    "    for j in range(cols):\n",
    "        if choice==\"1\":\n",
    "            row.append(matrix1[i][j]+matrix2[i][j])\n",
    "        elif choice==\"2\":\n",
    "            row.append(matrix1[i][j]-matrix2[i][j])\n",
    "        else:\n",
    "            print(\"Invalid choice!\")\n",
    "            exit()\n",
    "    result.append(row)\n",
    "\n",
    "#Display result\n",
    "operation=\"Addition\" if choice==1 else \"Subtraction\"\n",
    "print(f\"\\nResult of Matrix {operation}:\")\n",
    "for row in result:\n",
    "    print(row)"
   ]
  },
  {
   "cell_type": "code",
   "execution_count": 2,
   "id": "9f9d08d5-3783-4dcb-9520-630b8375bfce",
   "metadata": {},
   "outputs": [
    {
     "name": "stdin",
     "output_type": "stream",
     "text": [
      "Enter the first number:  10\n",
      "Enter the second number:  30\n"
     ]
    },
    {
     "name": "stdout",
     "output_type": "stream",
     "text": [
      "The GCD is: 10\n"
     ]
    }
   ],
   "source": [
    "#33. Write a program that calculates the greatest common divisor (GCD) of two numbers using the Euclidean algorithm.\n",
    "a=int(input(\"Enter the first number: \"))\n",
    "b=int(input(\"Enter the second number: \"))\n",
    "\n",
    "#check a>=b\n",
    "if b>a:\n",
    "    a,b=b,a\n",
    "\n",
    "while b!=0:\n",
    "    remainder=a%b\n",
    "    a=b\n",
    "    b=remainder\n",
    "\n",
    "print(\"The GCD is:\", a)"
   ]
  },
  {
   "cell_type": "code",
   "execution_count": 4,
   "id": "ce89740c-8bad-4e19-ad75-96b7fb07a9d5",
   "metadata": {},
   "outputs": [
    {
     "name": "stdin",
     "output_type": "stream",
     "text": [
      "Enter number of rows for Matrix 1:  2\n",
      "Enter number of columns for Matrix 1:  2\n",
      "Enter number of rows for Matrix 2:  2\n",
      "Enter number of columns for Matrix 2:  2\n"
     ]
    },
    {
     "name": "stdout",
     "output_type": "stream",
     "text": [
      "\n",
      "Enter elements for Matrix 1:\n"
     ]
    },
    {
     "name": "stdin",
     "output_type": "stream",
     "text": [
      "Matrix1[0][0]:  4\n",
      "Matrix1[0][1]:  3\n",
      "Matrix1[1][0]:  8\n",
      "Matrix1[1][1]:  6\n"
     ]
    },
    {
     "name": "stdout",
     "output_type": "stream",
     "text": [
      "\n",
      "Enter elements for Matrix 2:\n"
     ]
    },
    {
     "name": "stdin",
     "output_type": "stream",
     "text": [
      "Matrix2[0][0]:  3\n",
      "Matrix2[0][1]:  1\n",
      "Matrix2[1][0]:  9\n",
      "Matrix2[1][1]:  6\n"
     ]
    },
    {
     "name": "stdout",
     "output_type": "stream",
     "text": [
      "\n",
      "Result of Matrix Multiplication:\n",
      "[39, 22]\n",
      "[78, 44]\n"
     ]
    }
   ],
   "source": [
    "#34. Build a program that performs matrix multiplication using nested loops and conditional statements.\n",
    "# Get matrix dimensions\n",
    "rows1 = int(input(\"Enter number of rows for Matrix 1: \"))\n",
    "cols1 = int(input(\"Enter number of columns for Matrix 1: \"))\n",
    "\n",
    "rows2 = int(input(\"Enter number of rows for Matrix 2: \"))\n",
    "cols2 = int(input(\"Enter number of columns for Matrix 2: \"))\n",
    "\n",
    "# Check if multiplication is possible\n",
    "if cols1 != rows2:\n",
    "    print(\"Matrix multiplication not possible. Columns of Matrix 1 must equal rows of Matrix 2.\")\n",
    "else:\n",
    "    # Input Matrix 1\n",
    "    print(\"\\nEnter elements for Matrix 1:\")\n",
    "    matrix1 = []\n",
    "    for i in range(rows1):\n",
    "        row = []\n",
    "        for j in range(cols1):\n",
    "            value = int(input(f\"Matrix1[{i}][{j}]: \"))\n",
    "            row.append(value)\n",
    "        matrix1.append(row)\n",
    "\n",
    "    # Input Matrix 2\n",
    "    print(\"\\nEnter elements for Matrix 2:\")\n",
    "    matrix2 = []\n",
    "    for i in range(rows2):\n",
    "        row = []\n",
    "        for j in range(cols2):\n",
    "            value = int(input(f\"Matrix2[{i}][{j}]: \"))\n",
    "            row.append(value)\n",
    "        matrix2.append(row)\n",
    "\n",
    "    # Initialize result matrix with zeros\n",
    "    result = []\n",
    "    for i in range(rows1):\n",
    "        row = []\n",
    "        for j in range(cols2):\n",
    "            row.append(0)\n",
    "        result.append(row)\n",
    "\n",
    "    # Matrix multiplication logic using nested loops\n",
    "    for i in range(rows1):\n",
    "        for j in range(cols2):\n",
    "            for k in range(cols1):  # or k in range(rows2)\n",
    "                result[i][j] += matrix1[i][k] * matrix2[k][j]\n",
    "\n",
    "    # Print result\n",
    "    print(\"\\nResult of Matrix Multiplication:\")\n",
    "    for row in result:\n",
    "        print(row)"
   ]
  },
  {
   "cell_type": "code",
   "execution_count": 6,
   "id": "5c0545f0-2778-485f-b77b-5226477bd990",
   "metadata": {},
   "outputs": [
    {
     "name": "stdout",
     "output_type": "stream",
     "text": [
      "Welcome to Tic-Tac-Toe!\n",
      "You are X, computer is O.\n",
      "Choose positions from 1 to 9 as below:\n",
      "\n",
      "1 | 2 | 3\n",
      "---------\n",
      "4 | 5 | 6\n",
      "---------\n",
      "7 | 8 | 9\n",
      "\n",
      "\n",
      " | | \n",
      "-+-+-\n",
      " | | \n",
      "-+-+-\n",
      " | | \n",
      "\n"
     ]
    },
    {
     "name": "stdin",
     "output_type": "stream",
     "text": [
      "Enter your move (1-9):  1\n"
     ]
    },
    {
     "name": "stdout",
     "output_type": "stream",
     "text": [
      "Computer chose position 4\n",
      "\n",
      "X| | \n",
      "-+-+-\n",
      "O| | \n",
      "-+-+-\n",
      " | | \n",
      "\n",
      "\n",
      "X| | \n",
      "-+-+-\n",
      "O| | \n",
      "-+-+-\n",
      " | | \n",
      "\n"
     ]
    },
    {
     "name": "stdin",
     "output_type": "stream",
     "text": [
      "Enter your move (1-9):  3\n"
     ]
    },
    {
     "name": "stdout",
     "output_type": "stream",
     "text": [
      "Computer chose position 7\n",
      "\n",
      "X| |X\n",
      "-+-+-\n",
      "O| | \n",
      "-+-+-\n",
      "O| | \n",
      "\n",
      "\n",
      "X| |X\n",
      "-+-+-\n",
      "O| | \n",
      "-+-+-\n",
      "O| | \n",
      "\n"
     ]
    },
    {
     "name": "stdin",
     "output_type": "stream",
     "text": [
      "Enter your move (1-9):  9\n"
     ]
    },
    {
     "name": "stdout",
     "output_type": "stream",
     "text": [
      "Computer chose position 8\n",
      "\n",
      "X| |X\n",
      "-+-+-\n",
      "O| | \n",
      "-+-+-\n",
      "O|O|X\n",
      "\n",
      "\n",
      "X| |X\n",
      "-+-+-\n",
      "O| | \n",
      "-+-+-\n",
      "O|O|X\n",
      "\n"
     ]
    },
    {
     "name": "stdin",
     "output_type": "stream",
     "text": [
      "Enter your move (1-9):  2\n"
     ]
    },
    {
     "name": "stdout",
     "output_type": "stream",
     "text": [
      "You win!\n"
     ]
    }
   ],
   "source": [
    "#35. Create a program that simulates a basic text-based tic-tac-toe game against the computer.\n",
    "import random\n",
    "\n",
    "board = [\" \" for _ in range(9)]\n",
    "\n",
    "print(\"Welcome to Tic-Tac-Toe!\")\n",
    "print(\"You are X, computer is O.\")\n",
    "print(\"Choose positions from 1 to 9 as below:\")\n",
    "\n",
    "print(\"\\n1 | 2 | 3\")\n",
    "print(\"---------\")\n",
    "print(\"4 | 5 | 6\")\n",
    "print(\"---------\")\n",
    "print(\"7 | 8 | 9\\n\")\n",
    "\n",
    "game_over = False\n",
    "while not game_over:\n",
    "    # Print board\n",
    "    print()\n",
    "    print(board[0] + \"|\" + board[1] + \"|\" + board[2])\n",
    "    print(\"-+-+-\")\n",
    "    print(board[3] + \"|\" + board[4] + \"|\" + board[5])\n",
    "    print(\"-+-+-\")\n",
    "    print(board[6] + \"|\" + board[7] + \"|\" + board[8])\n",
    "    print()\n",
    "\n",
    "    # Player move\n",
    "    while True:\n",
    "        try:\n",
    "            move = int(input(\"Enter your move (1-9): \")) - 1\n",
    "            if move >= 0 and move <= 8 and board[move] == \" \":\n",
    "                board[move] = \"X\"\n",
    "                break\n",
    "            else:\n",
    "                print(\"Invalid or taken spot. Try again.\")\n",
    "        except:\n",
    "            print(\"Invalid input. Please enter a number between 1 and 9.\")\n",
    "\n",
    "    # Check if player won\n",
    "    if (board[0] == board[1] == board[2] == \"X\" or\n",
    "        board[3] == board[4] == board[5] == \"X\" or\n",
    "        board[6] == board[7] == board[8] == \"X\" or\n",
    "        board[0] == board[3] == board[6] == \"X\" or\n",
    "        board[1] == board[4] == board[7] == \"X\" or\n",
    "        board[2] == board[5] == board[8] == \"X\" or\n",
    "        board[0] == board[4] == board[8] == \"X\" or\n",
    "        board[2] == board[4] == board[6] == \"X\"):\n",
    "        print(\"You win!\")\n",
    "        game_over = True\n",
    "        break\n",
    "\n",
    "    if \" \" not in board:\n",
    "        print(\"It's a draw!\")\n",
    "        break\n",
    "\n",
    "    # Computer move\n",
    "    empty = [i for i in range(9) if board[i] == \" \"]\n",
    "    comp_move = random.choice(empty)\n",
    "    board[comp_move] = \"O\"\n",
    "    print(f\"Computer chose position {comp_move + 1}\")\n",
    "\n",
    "    # Print board\n",
    "    print()\n",
    "    print(board[0] + \"|\" + board[1] + \"|\" + board[2])\n",
    "    print(\"-+-+-\")\n",
    "    print(board[3] + \"|\" + board[4] + \"|\" + board[5])\n",
    "    print(\"-+-+-\")\n",
    "    print(board[6] + \"|\" + board[7] + \"|\" + board[8])\n",
    "    print()\n",
    "\n",
    "    # Check if computer won\n",
    "    if (board[0] == board[1] == board[2] == \"O\" or\n",
    "        board[3] == board[4] == board[5] == \"O\" or\n",
    "        board[6] == board[7] == board[8] == \"O\" or\n",
    "        board[0] == board[3] == board[6] == \"O\" or\n",
    "        board[1] == board[4] == board[7] == \"O\" or\n",
    "        board[2] == board[5] == board[8] == \"O\" or\n",
    "        board[0] == board[4] == board[8] == \"O\" or\n",
    "        board[2] == board[4] == board[6] == \"O\"):\n",
    "        print(\"Computer wins!\")\n",
    "        game_over = True\n",
    "        break\n",
    "\n",
    "    if \" \" not in board:\n",
    "        print(\"It's a draw!\")\n",
    "        break"
   ]
  },
  {
   "cell_type": "code",
   "execution_count": 7,
   "id": "b95131bc-feac-44b7-868e-14fdf2af03c8",
   "metadata": {},
   "outputs": [
    {
     "name": "stdin",
     "output_type": "stream",
     "text": [
      "Enter the number of Fibonacci terms:  5\n"
     ]
    },
    {
     "name": "stdout",
     "output_type": "stream",
     "text": [
      "Fibonacci sequence:\n",
      "0 1 1 2 3 "
     ]
    }
   ],
   "source": [
    "#36. Write a program that generates Fibonacci numbers up to a specified term using iterative methods.\n",
    "# Get number of terms from user\n",
    "n = int(input(\"Enter the number of Fibonacci terms: \"))\n",
    "\n",
    "# Initialize the first two Fibonacci numbers\n",
    "a = 0\n",
    "b = 1\n",
    "\n",
    "# Counter\n",
    "count = 0\n",
    "\n",
    "# Print Fibonacci sequence\n",
    "print(\"Fibonacci sequence:\")\n",
    "while count < n:\n",
    "    print(a, end=\" \")\n",
    "    temp = a + b  # next term is sum of previous two\n",
    "    a = b         # move 'a' to next\n",
    "    b = temp      # move 'b' to next\n",
    "    count += 1"
   ]
  },
  {
   "cell_type": "code",
   "execution_count": 10,
   "id": "ceecf1a7-9dab-49db-aa15-90e2f2cc044e",
   "metadata": {},
   "outputs": [
    {
     "name": "stdin",
     "output_type": "stream",
     "text": [
      "Enter the value of n:  6\n"
     ]
    },
    {
     "name": "stdout",
     "output_type": "stream",
     "text": [
      "The 6th Fibonacci number is: 8\n"
     ]
    }
   ],
   "source": [
    "#37. Develop a program that calculates the nth term of the Fibonacci sequence using memoization.\n",
    "# Get input from the user\n",
    "n = int(input(\"Enter the value of n: \"))\n",
    "\n",
    "# Dictionary to store previously computed Fibonacci values\n",
    "memo = {}\n",
    "\n",
    "# Handle base cases\n",
    "if n == 0:\n",
    "    print(\"The 0th Fibonacci number is: 0\")\n",
    "elif n == 1:\n",
    "    print(\"The 1st Fibonacci number is: 1\")\n",
    "else:\n",
    "    # Initialize first two Fibonacci numbers\n",
    "    memo[0] = 0\n",
    "    memo[1] = 1\n",
    "\n",
    "    # Calculate from 2 to n using memoization\n",
    "    i = 2\n",
    "    while i <= n:\n",
    "        memo[i] = memo[i - 1] + memo[i - 2]\n",
    "        i += 1\n",
    "\n",
    "    print(f\"The {n}th Fibonacci number is: {memo[n]}\")"
   ]
  },
  {
   "cell_type": "code",
   "execution_count": 11,
   "id": "5e6fe061-f327-44cb-937e-a06b13929cff",
   "metadata": {},
   "outputs": [
    {
     "name": "stdin",
     "output_type": "stream",
     "text": [
      "Enter year:  2001\n",
      "Enter month (1-12):  3\n"
     ]
    },
    {
     "name": "stdout",
     "output_type": "stream",
     "text": [
      "\n",
      "   March 2001\n",
      "Su Mo Tu We Th Fr Sa\n",
      "             1  2  3 \n",
      " 4  5  6  7  8  9 10 \n",
      "11 12 13 14 15 16 17 \n",
      "18 19 20 21 22 23 24 \n",
      "25 26 27 28 29 30 31 \n"
     ]
    }
   ],
   "source": [
    "#38. Create a program that generates a calendar for a given month and year using conditional statements.\n",
    "# Get input from user\n",
    "year = int(input(\"Enter year: \"))\n",
    "month = int(input(\"Enter month (1-12): \"))\n",
    "\n",
    "# Days in each month (ignoring leap year for now)\n",
    "month_days = [31, 28, 31, 30, 31, 30,\n",
    "              31, 31, 30, 31, 30, 31]\n",
    "\n",
    "# Month names\n",
    "month_names = [\"January\", \"February\", \"March\", \"April\", \"May\", \"June\",\n",
    "               \"July\", \"August\", \"September\", \"October\", \"November\", \"December\"]\n",
    "\n",
    "# Check if leap year\n",
    "if (year % 4 == 0 and year % 100 != 0) or (year % 400 == 0):\n",
    "    month_days[1] = 29  # February has 29 days in leap year\n",
    "\n",
    "# Get total days till the given month in the year\n",
    "# Use Zeller's Congruence to find the weekday of the 1st of the month\n",
    "\n",
    "q = 1  # Day of month\n",
    "m = month\n",
    "Y = year\n",
    "\n",
    "if m == 1 or m == 2:\n",
    "    m += 12\n",
    "    Y -= 1\n",
    "\n",
    "K = Y % 100\n",
    "J = Y // 100\n",
    "\n",
    "# Zeller’s formula\n",
    "h = (q + 13*(m + 1)//5 + K + K//4 + J//4 + 5*J) % 7\n",
    "\n",
    "# Day of week (0 = Saturday, 1 = Sunday, ..., 6 = Friday)\n",
    "# Adjust to make 0 = Sunday\n",
    "start_day = (h + 6) % 7\n",
    "\n",
    "# Print the calendar header\n",
    "print(f\"\\n   {month_names[month - 1]} {year}\")\n",
    "print(\"Su Mo Tu We Th Fr Sa\")\n",
    "\n",
    "# Print the days\n",
    "day = 1\n",
    "for i in range(6):  # up to 6 rows\n",
    "    for j in range(7):  # 7 days per week\n",
    "        if i == 0 and j < start_day:\n",
    "            print(\"   \", end=\"\")  # space for empty days\n",
    "        elif day <= month_days[month - 1]:\n",
    "            print(f\"{day:2}\", end=\" \")\n",
    "            day += 1\n",
    "        else:\n",
    "            break\n",
    "    print()\n",
    "    if day > month_days[month - 1]:\n",
    "        break"
   ]
  },
  {
   "cell_type": "code",
   "execution_count": 12,
   "id": "88f9253a-3567-4c33-bbd7-aebd114c7869",
   "metadata": {},
   "outputs": [
    {
     "name": "stdout",
     "output_type": "stream",
     "text": [
      "Your cards: [2, 10] Total: 12\n",
      "Dealer shows: 4\n"
     ]
    },
    {
     "name": "stdin",
     "output_type": "stream",
     "text": [
      "Do you want to Hit (h) or Stand (s)?  h\n"
     ]
    },
    {
     "name": "stdout",
     "output_type": "stream",
     "text": [
      "You drew: 10 Hand now: [2, 10, 10] Total: 22\n",
      "You busted! Dealer wins.\n"
     ]
    }
   ],
   "source": [
    "#39. Build a program that simulates a basic text-based blackjack game against the computer.\n",
    "import random\n",
    "\n",
    "# Create deck of cards (no suits needed for simplified game)\n",
    "cards = [2, 3, 4, 5, 6, 7, 8, 9, 10, 10, 10, 10, 11]  # 10 = Jack/Queen/King, 11 = Ace\n",
    "\n",
    "# Player and dealer hands\n",
    "player_hand = []\n",
    "dealer_hand = []\n",
    "\n",
    "# Deal 2 cards to player and dealer\n",
    "for _ in range(2):\n",
    "    player_hand.append(random.choice(cards))\n",
    "    dealer_hand.append(random.choice(cards))\n",
    "\n",
    "# Calculate hand totals\n",
    "player_total = sum(player_hand)\n",
    "dealer_total = sum(dealer_hand)\n",
    "\n",
    "# Adjust for Aces in hand (value 11 -> 1 if bust)\n",
    "if player_total > 21 and 11 in player_hand:\n",
    "    player_total -= 10\n",
    "if dealer_total > 21 and 11 in dealer_hand:\n",
    "    dealer_total -= 10\n",
    "\n",
    "# Show initial hands\n",
    "print(\"Your cards:\", player_hand, \"Total:\", player_total)\n",
    "print(\"Dealer shows:\", dealer_hand[0])\n",
    "\n",
    "# Player turn\n",
    "while player_total < 21:\n",
    "    choice = input(\"Do you want to Hit (h) or Stand (s)? \").lower()\n",
    "    if choice == \"h\":\n",
    "        card = random.choice(cards)\n",
    "        player_hand.append(card)\n",
    "        player_total += card\n",
    "        if card == 11 and player_total > 21:\n",
    "            player_total -= 10\n",
    "        print(\"You drew:\", card, \"Hand now:\", player_hand, \"Total:\", player_total)\n",
    "    elif choice == \"s\":\n",
    "        break\n",
    "    else:\n",
    "        print(\"Invalid choice!\")\n",
    "\n",
    "# Check if player busted\n",
    "if player_total > 21:\n",
    "    print(\"You busted! Dealer wins.\")\n",
    "else:\n",
    "    print(\"Dealer's turn...\")\n",
    "    print(\"Dealer's hand:\", dealer_hand, \"Total:\", dealer_total)\n",
    "\n",
    "    # Dealer hits until 17 or more\n",
    "    while dealer_total < 17:\n",
    "        card = random.choice(cards)\n",
    "        dealer_hand.append(card)\n",
    "        dealer_total += card\n",
    "        if card == 11 and dealer_total > 21:\n",
    "            dealer_total -= 10\n",
    "        print(\"Dealer drew:\", card, \"Dealer hand:\", dealer_hand, \"Total:\", dealer_total)\n",
    "\n",
    "    # Determine winner\n",
    "    if dealer_total > 21:\n",
    "        print(\"Dealer busted! You win!\")\n",
    "    elif dealer_total > player_total:\n",
    "        print(\"Dealer wins.\")\n",
    "    elif dealer_total < player_total:\n",
    "        print(\"You win!\")\n",
    "    else:\n",
    "        print(\"It's a tie!\")"
   ]
  },
  {
   "cell_type": "code",
   "execution_count": 14,
   "id": "7bbaa913-99cc-4336-bf3f-cce4b7052e39",
   "metadata": {},
   "outputs": [
    {
     "name": "stdin",
     "output_type": "stream",
     "text": [
      "Enter a number to factor:  60\n"
     ]
    },
    {
     "name": "stdout",
     "output_type": "stream",
     "text": [
      "Prime factors: [2, 2, 3, 5]\n"
     ]
    }
   ],
   "source": [
    "#40. Write a program that generates the prime factors of a given number using trial division.\n",
    "# Input from user\n",
    "n = int(input(\"Enter a number to factor: \"))\n",
    "\n",
    "# Start with the smallest prime\n",
    "i = 2\n",
    "\n",
    "# List to hold prime factors\n",
    "factors = []\n",
    "\n",
    "# Loop until n becomes 1\n",
    "while i <= n:\n",
    "    if n % i == 0:\n",
    "        factors.append(i)\n",
    "        n = n // i\n",
    "    else:\n",
    "        i += 1\n",
    "\n",
    "# Print the result\n",
    "print(\"Prime factors:\", factors)"
   ]
  },
  {
   "cell_type": "code",
   "execution_count": null,
   "id": "15d5da09-b81c-4d6f-b8f9-f7540f0f6225",
   "metadata": {},
   "outputs": [],
   "source": []
  }
 ],
 "metadata": {
  "kernelspec": {
   "display_name": "Python 3 (ipykernel)",
   "language": "python",
   "name": "python3"
  },
  "language_info": {
   "codemirror_mode": {
    "name": "ipython",
    "version": 3
   },
   "file_extension": ".py",
   "mimetype": "text/x-python",
   "name": "python",
   "nbconvert_exporter": "python",
   "pygments_lexer": "ipython3",
   "version": "3.13.0"
  }
 },
 "nbformat": 4,
 "nbformat_minor": 5
}
