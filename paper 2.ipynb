{
 "cells": [
  {
   "cell_type": "code",
   "execution_count": 3,
   "id": "e768fd7e-2a06-41fa-b7de-e879b13aea4c",
   "metadata": {},
   "outputs": [
    {
     "name": "stdout",
     "output_type": "stream",
     "text": [
      "The reverse string is: ahddarhs\n"
     ]
    }
   ],
   "source": [
    "#String Based Assignment Problem\n",
    "\n",
    "#1. Write a program to reverse a string.\n",
    "\n",
    "s=\"shraddha\"  #store the string in s variable\n",
    "reverse_string=s[::-1]  #reverse the string give staring and ending point and jump with -1\n",
    "print(\"The reverse string is:\",reverse_string)"
   ]
  },
  {
   "cell_type": "code",
   "execution_count": 7,
   "id": "b353dde5-1734-47af-9f7f-dae0ca5461c1",
   "metadata": {},
   "outputs": [
    {
     "name": "stdin",
     "output_type": "stream",
     "text": [
      "Enter a string: malayalam\n"
     ]
    },
    {
     "name": "stdout",
     "output_type": "stream",
     "text": [
      "The string is palindrome\n"
     ]
    }
   ],
   "source": [
    "#2. Check if a string is a palindrome.\n",
    "s1=input(\"Enter a string:\") #get a string from user\n",
    "string=s1.replace(\" \",\"\").lower()  #remove all spaces and conver into lower case\n",
    "if string==s1[::-1]:  #use the condition check the string is match to reverse string\n",
    "    print(\"The string is palindrome\")\n",
    "else:\n",
    "    print(\"The string is not palindrome\")\n"
   ]
  },
  {
   "cell_type": "code",
   "execution_count": 9,
   "id": "55485111-05b2-4c10-a5ae-aaeffc8d082e",
   "metadata": {},
   "outputs": [
    {
     "data": {
      "text/plain": [
       "'KAUSHIK'"
      ]
     },
     "execution_count": 9,
     "metadata": {},
     "output_type": "execute_result"
    }
   ],
   "source": [
    "#3. Convert a string to uppercase.\n",
    "\n",
    "s3=\"kaushik\"\n",
    "s3.upper() #using the upper function the string convert into uppercase"
   ]
  },
  {
   "cell_type": "code",
   "execution_count": 12,
   "id": "11e1517c-8484-4286-88a7-5a5b6d23017f",
   "metadata": {},
   "outputs": [
    {
     "data": {
      "text/plain": [
       "'pwskills'"
      ]
     },
     "execution_count": 12,
     "metadata": {},
     "output_type": "execute_result"
    }
   ],
   "source": [
    "#4. Convert a string to lowercase.\n",
    "\n",
    "s4=\"PWSKILLS\"\n",
    "s4.lower() #using the lower function string converts into lower case"
   ]
  },
  {
   "cell_type": "code",
   "execution_count": 13,
   "id": "a7ae2bf2-aad2-46a8-9fea-16fea58beb0e",
   "metadata": {},
   "outputs": [
    {
     "name": "stdin",
     "output_type": "stream",
     "text": [
      "Enter the sentence: My name is shraddha\n"
     ]
    },
    {
     "name": "stdout",
     "output_type": "stream",
     "text": [
      "Number of vowels: 5\n"
     ]
    }
   ],
   "source": [
    "#5. Count the number of vowels in a string.\n",
    "\n",
    "sentence=input(\"Enter the sentence:\") #give the sentence from user\n",
    "vowels=\"aeiouAEIOU\" #declare the vowels in lowercase and uppercase\n",
    "vowel_count=0  #set the vowel count is 0\n",
    "\n",
    "for char in sentence:\n",
    "    if char in vowels:\n",
    "        vowel_count+=1\n",
    "print(\"Number of vowels:\",vowel_count)"
   ]
  },
  {
   "cell_type": "code",
   "execution_count": 14,
   "id": "6b4b04f2-03e8-4351-abf9-69dfdd3c079a",
   "metadata": {},
   "outputs": [
    {
     "name": "stdin",
     "output_type": "stream",
     "text": [
      "Enter the sentence: hello guys wake up!\n"
     ]
    },
    {
     "name": "stdout",
     "output_type": "stream",
     "text": [
      "The count of consonants is: 9\n"
     ]
    }
   ],
   "source": [
    "#6. Count the number of consonants in a string.\n",
    "\n",
    "sentence=input(\"Enter the sentence:\") #give the sentence from the user\n",
    "vowels=\"aeiouAEIOU\" #declare the vowels in lower case and upper case\n",
    "consonants_count=0 #set the cosonent count is 0\n",
    "\n",
    "for char in sentence:\n",
    "    if char.isalpha() and char not in vowels:\n",
    "        consonants_count+=1\n",
    "print(\"The count of consonants is:\",consonants_count)"
   ]
  },
  {
   "cell_type": "code",
   "execution_count": 16,
   "id": "d191ae42-aff5-4576-a43f-ff36d01ef59b",
   "metadata": {},
   "outputs": [
    {
     "name": "stdin",
     "output_type": "stream",
     "text": [
      "Enter the string:     a m   shrad   d  h  a  \n"
     ]
    },
    {
     "name": "stdout",
     "output_type": "stream",
     "text": [
      "The string without whitespaces: amshraddha\n"
     ]
    }
   ],
   "source": [
    "#7. Remove all whitespaces from a string.\n",
    "\n",
    "string=input(\"Enter the string:\") #give the string from user\n",
    "s=string.replace(\" \",\"\").strip() #replace the space into no space and also use strip function to leading and trailing whitespace\n",
    "print(\"The string without whitespaces:\",s)"
   ]
  },
  {
   "cell_type": "code",
   "execution_count": 17,
   "id": "9c855afd-4eab-406b-b54e-6fa8894c8c5c",
   "metadata": {},
   "outputs": [
    {
     "name": "stdin",
     "output_type": "stream",
     "text": [
      "Enter the string: shraddha\n"
     ]
    },
    {
     "name": "stdout",
     "output_type": "stream",
     "text": [
      "The length of string: 8\n"
     ]
    }
   ],
   "source": [
    "#8. Find the length of a string without using the `len()` function.\n",
    "\n",
    "string=input(\"Enter the string:\") #give the string from user\n",
    "string_count=0  #set the string count is 0\n",
    "\n",
    "for char in string:  #use the for loop for count the character manually\n",
    "    string_count+=1  #its increse and add by 1\n",
    "print(\"The length of string:\",string_count)"
   ]
  },
  {
   "cell_type": "code",
   "execution_count": 22,
   "id": "81088b44-a890-421b-a6a4-27e5f99faa79",
   "metadata": {},
   "outputs": [
    {
     "name": "stdout",
     "output_type": "stream",
     "text": [
      "The word present in string\n"
     ]
    }
   ],
   "source": [
    "#9. Check if a string contains a specific word.\n",
    "\n",
    "string=\"I am a python developer\"  #declare the string\n",
    "specific_word=\"python\"  #declare the specific word that I want to check\n",
    "\n",
    "if specific_word in string:  #check these specific word present in string\n",
    "    print(\"The word present in string\")\n",
    "else:\n",
    "    print(\"The word not present in string\")"
   ]
  },
  {
   "cell_type": "code",
   "execution_count": 23,
   "id": "56d5ae33-001f-479e-9128-d085fb45c4d6",
   "metadata": {},
   "outputs": [
    {
     "name": "stdout",
     "output_type": "stream",
     "text": [
      "The replace word is: My name is kaushik\n"
     ]
    }
   ],
   "source": [
    "#10. Replace a word in a string with another word.\n",
    "\n",
    "string=\"My name is shraddha\" #decalre the string\n",
    "replace_word=string.replace(\"shraddha\",\"kaushik\") #use the replace function to replace the word in a string\n",
    "print(\"The replace word is:\",replace_word)"
   ]
  },
  {
   "cell_type": "code",
   "execution_count": 29,
   "id": "2da3bd5f-2f0a-4209-8e15-16aef9e4bc75",
   "metadata": {},
   "outputs": [
    {
     "data": {
      "text/plain": [
       "2"
      ]
     },
     "execution_count": 29,
     "metadata": {},
     "output_type": "execute_result"
    }
   ],
   "source": [
    "#11. Count the occurrences of a word in a string.\n",
    "\n",
    "string=\"shraddha\" #declare the string\n",
    "s=string.count('d') #use the count function to cound occurence in a word\n",
    "s"
   ]
  },
  {
   "cell_type": "code",
   "execution_count": 31,
   "id": "7138aafa-85f1-4a4f-aef1-f87d523d9ce7",
   "metadata": {},
   "outputs": [
    {
     "data": {
      "text/plain": [
       "3"
      ]
     },
     "execution_count": 31,
     "metadata": {},
     "output_type": "execute_result"
    }
   ],
   "source": [
    "#12. Find the first occurrence of a word in a string.\n",
    "\n",
    "string=\"shraddha\"  #declare the string\n",
    "s=string.find('a') #use the find method to find first occurence\n",
    "s"
   ]
  },
  {
   "cell_type": "code",
   "execution_count": 33,
   "id": "11d53603-e962-46e6-aa4f-8c80483101ee",
   "metadata": {},
   "outputs": [
    {
     "data": {
      "text/plain": [
       "6"
      ]
     },
     "execution_count": 33,
     "metadata": {},
     "output_type": "execute_result"
    }
   ],
   "source": [
    "#13. Find the last occurrence of a word in a string.\n",
    "string=\"kaushik\" #decalre the string\n",
    "s=string.rfind('k') #use the rfind methos to return last occurence of a word\n",
    "s"
   ]
  },
  {
   "cell_type": "code",
   "execution_count": 35,
   "id": "e908ecea-0a74-4aea-babe-90d0b1f933f1",
   "metadata": {},
   "outputs": [
    {
     "data": {
      "text/plain": [
       "['I', 'am', 'a', 'python', 'developer']"
      ]
     },
     "execution_count": 35,
     "metadata": {},
     "output_type": "execute_result"
    }
   ],
   "source": [
    "#14. Split a string into a list of words.\n",
    "\n",
    "string=\"I am a python developer\" #declare the string\n",
    "s=string.split() #use the split method to split string in list of words\n",
    "s"
   ]
  },
  {
   "cell_type": "code",
   "execution_count": 42,
   "id": "8b99bf10-a9b7-4cf5-97b4-8b380c922ecc",
   "metadata": {},
   "outputs": [
    {
     "data": {
      "text/plain": [
       "'I am a python developer'"
      ]
     },
     "execution_count": 42,
     "metadata": {},
     "output_type": "execute_result"
    }
   ],
   "source": [
    "#15. Join a list of words into a string.\n",
    "\n",
    "string_list=['I', 'am', 'a', 'python', 'developer'] #declare the list of words\n",
    "result = \" \".join(string_list) #using join method join the words into string\n",
    "result"
   ]
  },
  {
   "cell_type": "code",
   "execution_count": 46,
   "id": "e74e231e-c416-4cf6-97c8-281f743972de",
   "metadata": {},
   "outputs": [
    {
     "data": {
      "text/plain": [
       "'am_a_python_developer'"
      ]
     },
     "execution_count": 46,
     "metadata": {},
     "output_type": "execute_result"
    }
   ],
   "source": [
    "'''16. Convert a string where words are separated by spaces to one where words\n",
    "are separated by underscores.'''\n",
    "\n",
    "string=\"am a python developer\" #declare the string\n",
    "s=string.replace(' ','_') #using the replace method I can convet space into underscores\n",
    "s"
   ]
  },
  {
   "cell_type": "code",
   "execution_count": 49,
   "id": "025fb8f6-daeb-49d8-b7ef-a185a1fda28f",
   "metadata": {},
   "outputs": [
    {
     "data": {
      "text/plain": [
       "True"
      ]
     },
     "execution_count": 49,
     "metadata": {},
     "output_type": "execute_result"
    }
   ],
   "source": [
    "#17. Check if a string starts with a specific word or phrase.\n",
    "\n",
    "string=\"I love eating a food\" #declare the string\n",
    "s=string.startswith('I') #use the startswith function to check specific word\n",
    "s"
   ]
  },
  {
   "cell_type": "code",
   "execution_count": 52,
   "id": "4211caa8-63a8-4faa-9067-2026ebc643d5",
   "metadata": {},
   "outputs": [
    {
     "data": {
      "text/plain": [
       "True"
      ]
     },
     "execution_count": 52,
     "metadata": {},
     "output_type": "execute_result"
    }
   ],
   "source": [
    "#18. Check if a string ends with a specific word or phrase.\n",
    "string=\"I love eating a food\" #declare the string\n",
    "s=string.endswith('food') #use the endswith function to check if a string ends with a specific word\n",
    "s"
   ]
  },
  {
   "cell_type": "code",
   "execution_count": 53,
   "id": "9b81ec5c-0936-4181-a7c2-2768fd373790",
   "metadata": {},
   "outputs": [
    {
     "name": "stdin",
     "output_type": "stream",
     "text": [
      "Enter a string: hello world\n"
     ]
    },
    {
     "name": "stdout",
     "output_type": "stream",
     "text": [
      "The title is: Hello World\n"
     ]
    }
   ],
   "source": [
    "#19. Convert a string to title case (e.g., \"hello world\" to \"Hello World\").\n",
    "\n",
    "string=input(\"Enter a string:\") #declare the string\n",
    "s=string.title() #use the title method to convert into title\n",
    "print(\"The title is:\",s)"
   ]
  },
  {
   "cell_type": "code",
   "execution_count": 54,
   "id": "5d477e72-575e-42c2-878e-2d1474f5fb19",
   "metadata": {},
   "outputs": [
    {
     "name": "stdin",
     "output_type": "stream",
     "text": [
      "Enter a string: this is the longest sentence\n"
     ]
    },
    {
     "name": "stdout",
     "output_type": "stream",
     "text": [
      "The longest word is: sentence\n"
     ]
    }
   ],
   "source": [
    "#20. Find the longest word in a string.\n",
    "\n",
    "string=input(\"Enter a string:\")  #declare the string\n",
    "words=string.split() #first I split the string into words\n",
    "\n",
    "longest_word=\"\" #initialize the variable to store longest word\n",
    "max_length=0  #set max_length 0\n",
    "\n",
    "for word in words: #use the for loop to check every word\n",
    "    if len(word)>max_length: #check the condition if length of word is greter than max_length \n",
    "        longest_word=word #show the longest word\n",
    "        max_length=len(word) #max_length means length of word\n",
    "        \n",
    "print(\"The longest word is:\",longest_word)"
   ]
  },
  {
   "cell_type": "code",
   "execution_count": 58,
   "id": "350bd502-f452-4c2d-bb85-66a017109b25",
   "metadata": {},
   "outputs": [
    {
     "name": "stdin",
     "output_type": "stream",
     "text": [
      "Enter a string: This is the shortest sentence\n"
     ]
    },
    {
     "name": "stdout",
     "output_type": "stream",
     "text": [
      "The shortest word is: is\n"
     ]
    }
   ],
   "source": [
    "#21. Find the shortest word in a string.\n",
    "\n",
    "string=input(\"Enter a string:\") #get a string from user\n",
    "s=string.split() #split the string into words using split function\n",
    "\n",
    "shortest_word=\"\" #initialize variable to store shortest word\n",
    "min_length=float('inf') #set the minimum length float'inf' means its a greter positive infinity\n",
    "\n",
    "for word in s: #use the for loop to check every word\n",
    "    if len(word)<min_length:  #check the condition if length of word is less than min_length \n",
    "        shortest_word=word #show the shortest word\n",
    "        min_length=len(word) #min_length means length of word\n",
    "        \n",
    "print(\"The shortest word is:\",shortest_word)"
   ]
  },
  {
   "cell_type": "code",
   "execution_count": 63,
   "id": "9266de28-3c43-40e6-a137-ab5dcd0b88a7",
   "metadata": {},
   "outputs": [
    {
     "name": "stdin",
     "output_type": "stream",
     "text": [
      "Enter a string: The reverse string is pwskills\n"
     ]
    },
    {
     "name": "stdout",
     "output_type": "stream",
     "text": [
      "The reverse string is: pwskills is string reverse The\n"
     ]
    }
   ],
   "source": [
    "#22. Reverse the order of words in a string.\n",
    "\n",
    "string=input(\"Enter a string:\")\n",
    "split_string=string.split() #first I split the string into words\n",
    "\n",
    "reverse_words=split_string[::-1] #these splited string into words I reversed\n",
    "join_string=\" \".join(reverse_words) #Then I join these words of list into string\n",
    "\n",
    "print(\"The reverse string is:\",join_string)"
   ]
  },
  {
   "cell_type": "code",
   "execution_count": 68,
   "id": "12b68049-15cb-4ef1-916b-3cf187650dbc",
   "metadata": {},
   "outputs": [
    {
     "name": "stdin",
     "output_type": "stream",
     "text": [
      "Enter a string: hello123\n"
     ]
    },
    {
     "data": {
      "text/plain": [
       "True"
      ]
     },
     "execution_count": 68,
     "metadata": {},
     "output_type": "execute_result"
    }
   ],
   "source": [
    "#23. Check if a string is alphanumeric.\n",
    "\n",
    "string=input(\"Enter a string:\")\n",
    "result=string.isalnum() #I use the isalnum method for check string is alphanumeric or not\n",
    "result"
   ]
  },
  {
   "cell_type": "code",
   "execution_count": 70,
   "id": "48d74698-da2d-4867-8055-ff08ad7f145e",
   "metadata": {},
   "outputs": [
    {
     "name": "stdin",
     "output_type": "stream",
     "text": [
      "Enter a string: abc123def456ghi\n"
     ]
    },
    {
     "name": "stdout",
     "output_type": "stream",
     "text": [
      "The extracted digit is: 123456\n"
     ]
    }
   ],
   "source": [
    "#24. Extract all digits from a string.\n",
    "\n",
    "string=input(\"Enter a string:\")\n",
    "extracted_digit=\"\" #initialize the variable to store extracted digits\n",
    "\n",
    "for char in string: #use the for loop for check the string\n",
    "    if char.isdigit(): #check condition if on that string have any digit using isdigit method\n",
    "        extracted_digit+=char #if condition true these its extract the digits one by one\n",
    "print(\"The extracted digit is:\",extracted_digit)"
   ]
  },
  {
   "cell_type": "code",
   "execution_count": 71,
   "id": "5a30c196-0705-4498-a48c-1882805651e0",
   "metadata": {},
   "outputs": [
    {
     "name": "stdin",
     "output_type": "stream",
     "text": [
      "Enter a string: abc123def456ghi\n"
     ]
    },
    {
     "name": "stdout",
     "output_type": "stream",
     "text": [
      "The extracted alphabets is:  abcdefghi\n"
     ]
    }
   ],
   "source": [
    "#25. Extract all alphabets from a string.\n",
    "\n",
    "string=input(\"Enter a string:\")\n",
    "extracted_alpha=\"\"  #Initialize empty string to store extracted alphabets\n",
    "\n",
    "for char in string:   #use the for loop for check the string\n",
    "    if char.isalpha(): #check condition if on that string have any alphabets using isalpha method\n",
    "        extracted_alpha+=char #then add these alphabets in extracted_alpha variable\n",
    "        \n",
    "print(\"The extracted alphabets is: \",extracted_alpha)"
   ]
  },
  {
   "cell_type": "code",
   "execution_count": 73,
   "id": "1ed070a8-eada-414b-9c32-cd3b915a2bd4",
   "metadata": {},
   "outputs": [
    {
     "name": "stdin",
     "output_type": "stream",
     "text": [
      "Enter a string: sfsfYThghUYU\n"
     ]
    },
    {
     "name": "stdout",
     "output_type": "stream",
     "text": [
      "The uppercase letters count is:  5\n"
     ]
    }
   ],
   "source": [
    "#26. Count the number of uppercase letters in a string.\n",
    "\n",
    "string=input(\"Enter a string:\")\n",
    "count=0  #set the count initially 0\n",
    "\n",
    "for char in string:  #use the for loop to check uppercase letters in string\n",
    "    if char.isupper(): #check condition if these isupper\n",
    "        count+=1 #then increase count by 1\n",
    "print(\"The uppercase letters count is: \",count)"
   ]
  },
  {
   "cell_type": "code",
   "execution_count": 74,
   "id": "ba420834-eec4-43ef-8f59-ef4572688873",
   "metadata": {},
   "outputs": [
    {
     "name": "stdin",
     "output_type": "stream",
     "text": [
      "Enter a string: sfsfYThghUYU\n"
     ]
    },
    {
     "name": "stdout",
     "output_type": "stream",
     "text": [
      "The count of lowercase letters is:  7\n"
     ]
    }
   ],
   "source": [
    "#27. Count the number of lowercase letters in a string.\n",
    "\n",
    "string=input(\"Enter a string:\")\n",
    "count=0  #set the initial count is 0\n",
    "\n",
    "for char in string: #use the for loop to check lowercase letters in string\n",
    "    if char.islower(): #check condition if these islower\n",
    "        count+=1   #then increase count by 1\n",
    "        \n",
    "print(\"The count of lowercase letters is: \",count)"
   ]
  },
  {
   "cell_type": "code",
   "execution_count": 76,
   "id": "d2691099-1a9a-49fb-88f8-7fc94511d9de",
   "metadata": {},
   "outputs": [
    {
     "name": "stdin",
     "output_type": "stream",
     "text": [
      "Enter a string: shrADDha\n"
     ]
    },
    {
     "name": "stdout",
     "output_type": "stream",
     "text": [
      "The swap case characters is:  SHRaddHA\n"
     ]
    }
   ],
   "source": [
    "#28. Swap the case of each character in a string.\n",
    "\n",
    "string=input(\"Enter a string:\")\n",
    "swap_string=string.swapcase() #using the swapcase method I swap the case of each character \n",
    "print(\"The swap case characters is: \",swap_string)"
   ]
  },
  {
   "cell_type": "code",
   "execution_count": 78,
   "id": "285f5f88-2441-4733-8396-e84b91ff3eec",
   "metadata": {},
   "outputs": [
    {
     "name": "stdout",
     "output_type": "stream",
     "text": [
      "Am a  developer\n"
     ]
    }
   ],
   "source": [
    "#29. Remove a specific word from a string.\n",
    "\n",
    "string=\"Am a python developer\"\n",
    "remove_word=string.replace(\"python\",\"\") #using the replace method I remove a specific word\n",
    "print(remove_word)"
   ]
  },
  {
   "cell_type": "code",
   "execution_count": 85,
   "id": "450e0193-1646-48e2-bf35-047eb2882678",
   "metadata": {},
   "outputs": [
    {
     "name": "stdin",
     "output_type": "stream",
     "text": [
      "Enter the email address:  @example.com\n"
     ]
    },
    {
     "name": "stdout",
     "output_type": "stream",
     "text": [
      "The email address is not valid\n"
     ]
    }
   ],
   "source": [
    "#30. Check if a string is a valid email address.\n",
    "import re  #I import re for use the regex pattern\n",
    "email=input(\"Enter the email address: \") #get the email address from user\n",
    "\n",
    "pattern=r'^[a-zA-Z0-9._%+-]+@[a-zA-Z0-9.-]+\\.[a-zA-Z]{2,}$' #I used regex pattern to check email address\n",
    "\n",
    "if re.match(pattern,email): #check condition if email match these pattern\n",
    "    print(\"The email address is a valid\")\n",
    "else:\n",
    "    print(\"The email address is not valid\")"
   ]
  },
  {
   "cell_type": "code",
   "execution_count": 2,
   "id": "c6b32379-e1d1-432c-a05e-6360ad2165af",
   "metadata": {},
   "outputs": [
    {
     "name": "stdin",
     "output_type": "stream",
     "text": [
      "Enter the email:  example@example.com\n"
     ]
    },
    {
     "name": "stdout",
     "output_type": "stream",
     "text": [
      "Username:  example\n"
     ]
    }
   ],
   "source": [
    "#31. Extract the username from an email address string.\n",
    "\n",
    "email=input(\"Enter the email: \")\n",
    "username=email.split('@')[0] #split the email \n",
    "print(\"Username: \",username)"
   ]
  },
  {
   "cell_type": "code",
   "execution_count": 7,
   "id": "0e3aa904-45e7-49e6-a25c-969bdee15182",
   "metadata": {},
   "outputs": [
    {
     "name": "stdin",
     "output_type": "stream",
     "text": [
      "Enter the email:  example@example.com\n"
     ]
    },
    {
     "name": "stdout",
     "output_type": "stream",
     "text": [
      "Domain:  example.com\n"
     ]
    }
   ],
   "source": [
    "#32. Extract the domain name from an email address string.\n",
    "\n",
    "email=input(\"Enter the email: \")\n",
    "domain=email.split('@')[1] #split the email and get the 1 st index\n",
    "print(\"Domain: \",domain)"
   ]
  },
  {
   "cell_type": "code",
   "execution_count": 9,
   "id": "0e2f7f6a-518a-4ae2-8661-128cd17794cc",
   "metadata": {},
   "outputs": [
    {
     "name": "stdin",
     "output_type": "stream",
     "text": [
      "Enter a string:  This  is   an example    string with   multiple   spaces.\n"
     ]
    },
    {
     "name": "stdout",
     "output_type": "stream",
     "text": [
      "This is an example string with multiple spaces.\n"
     ]
    }
   ],
   "source": [
    "#33. Replace multiple spaces in a string with a single space.\n",
    "\n",
    "string=input(\"Enter a string: \")\n",
    "split_string=string.split() #split the string\n",
    "join_string=' '.join(split_string) #join the split string with single space\n",
    "print(join_string)"
   ]
  },
  {
   "cell_type": "code",
   "execution_count": 19,
   "id": "b8e31dcd-15d0-4089-9968-ccdb92806c72",
   "metadata": {},
   "outputs": [
    {
     "name": "stdin",
     "output_type": "stream",
     "text": [
      "Enter the URL:  https://www.example.com\n"
     ]
    },
    {
     "name": "stdout",
     "output_type": "stream",
     "text": [
      "True\n"
     ]
    }
   ],
   "source": [
    "#34. Check if a string is a valid URL.\n",
    "from urllib.parse import urlparse\n",
    "\n",
    "url=input(\"Enter the URL: \")\n",
    "\n",
    "parsed_url=urlparse(url) #parse these url into scheme,netloc,parameters\n",
    "\n",
    "is_valid= all([parsed_url.scheme,parsed_url.netloc]) #check scheme means http or ftp and network location www.example.com\n",
    "print(is_valid)"
   ]
  },
  {
   "cell_type": "code",
   "execution_count": 22,
   "id": "e9dab71b-998e-4872-8891-370ba0dc9aad",
   "metadata": {},
   "outputs": [
    {
     "name": "stdin",
     "output_type": "stream",
     "text": [
      "Enter the URL:  https://www.example.com\n"
     ]
    },
    {
     "name": "stdout",
     "output_type": "stream",
     "text": [
      "https\n"
     ]
    }
   ],
   "source": [
    "#35. Extract the protocol (http or https) from a URL string.\n",
    "from urllib.parse import urlparse #import the urlparse\n",
    "\n",
    "url=input(\"Enter the URL: \")\n",
    "parsed_url=urlparse(url) #parse these url into scheme,netloc,parameters\n",
    "print(parsed_url.scheme) #extract the protocol using scheme"
   ]
  },
  {
   "cell_type": "code",
   "execution_count": 23,
   "id": "f1dcd694-5335-4ab6-ad1d-7ad56e6eda1f",
   "metadata": {},
   "outputs": [
    {
     "name": "stdin",
     "output_type": "stream",
     "text": [
      "Enter a string:  hello world\n"
     ]
    },
    {
     "name": "stdout",
     "output_type": "stream",
     "text": [
      "{'h': 1, 'e': 1, 'l': 3, 'o': 2, ' ': 1, 'w': 1, 'r': 1, 'd': 1}\n"
     ]
    }
   ],
   "source": [
    "#36. Find the frequency of each character in a string.\n",
    "\n",
    "string=input(\"Enter a string: \")\n",
    "frequency={} #declare the empty dictionry\n",
    "\n",
    "for char in string: \n",
    "    frequency[char]=frequency.get(char,0)+1 #first check current count of a string then get count and add by 1\n",
    "print(frequency)"
   ]
  },
  {
   "cell_type": "code",
   "execution_count": 27,
   "id": "4471a785-3bec-4c3a-aaa6-83b1afbe307b",
   "metadata": {},
   "outputs": [
    {
     "name": "stdin",
     "output_type": "stream",
     "text": [
      "Enter a string:  Hello, world! This is an example text.\"\n"
     ]
    },
    {
     "name": "stdout",
     "output_type": "stream",
     "text": [
      "Hello world This is an example text\n"
     ]
    }
   ],
   "source": [
    "#37. Remove all punctuation from a string.\n",
    "\n",
    "import string #import string module for punctuation\n",
    "\n",
    "text=input(\"Enter a string: \")\n",
    "\n",
    "clean_string=''.join(char for char in text if char not in string.punctuation) #first it check each character if its find punctuation character using string.punctuation function then its remove these and show the clean text\n",
    "print(clean_string)"
   ]
  },
  {
   "cell_type": "code",
   "execution_count": 29,
   "id": "492af7e7-a983-4bd3-b66b-368e25e810a6",
   "metadata": {},
   "outputs": [
    {
     "name": "stdin",
     "output_type": "stream",
     "text": [
      "Enter a string:  1234\n"
     ]
    },
    {
     "name": "stdout",
     "output_type": "stream",
     "text": [
      "True\n"
     ]
    }
   ],
   "source": [
    "#38. Check if a string contains only digits.\n",
    "\n",
    "string=input(\"Enter a string: \")\n",
    "check_digit=string.isdigit() #check if string conatins only digit using isdigit function\n",
    "print(check_digit)"
   ]
  },
  {
   "cell_type": "code",
   "execution_count": 31,
   "id": "70d91f19-81f4-4bd3-84c6-a3d522f4be6e",
   "metadata": {},
   "outputs": [
    {
     "name": "stdin",
     "output_type": "stream",
     "text": [
      "Enter a string:  fsd88\n"
     ]
    },
    {
     "name": "stdout",
     "output_type": "stream",
     "text": [
      "False\n"
     ]
    }
   ],
   "source": [
    "#39. Check if a string contains only alphabets.\n",
    "\n",
    "string=input(\"Enter a string: \")\n",
    "\n",
    "check_alpha=string.isalpha() #check its only contains alphabets or not\n",
    "print(check_alpha)"
   ]
  },
  {
   "cell_type": "code",
   "execution_count": 33,
   "id": "0e913d4f-c417-47b2-bc43-6f7616e9bfb2",
   "metadata": {},
   "outputs": [
    {
     "name": "stdin",
     "output_type": "stream",
     "text": [
      "Enter a string:  hello\n"
     ]
    },
    {
     "data": {
      "text/plain": [
       "['h', 'e', 'l', 'l', 'o']"
      ]
     },
     "execution_count": 33,
     "metadata": {},
     "output_type": "execute_result"
    }
   ],
   "source": [
    "#40. Convert a string to a list of characters.\n",
    "\n",
    "string=input(\"Enter a string: \")\n",
    "list(string) #using the list function convert string into list"
   ]
  },
  {
   "cell_type": "code",
   "execution_count": 1,
   "id": "53f685e0-d8c6-4fc5-9e2c-f060d41f90a5",
   "metadata": {},
   "outputs": [
    {
     "name": "stdin",
     "output_type": "stream",
     "text": [
      "Enter a string1:  listen\n",
      "Enter a string2:  silent\n"
     ]
    },
    {
     "name": "stdout",
     "output_type": "stream",
     "text": [
      "Its a anagrams\n"
     ]
    }
   ],
   "source": [
    "#41. Check if two strings are anagrams.\n",
    "\n",
    "string1=input(\"Enter a string1: \")\n",
    "string2=input(\"Enter a string2: \")\n",
    "\n",
    "replace_string1=string1.replace(\" \",\"\").lower() #replace string 1 into lower and remove space\n",
    "replace_string2=string2.replace(\" \",\"\").lower() #replace string 2 into lower and remove space\n",
    "\n",
    "if len(string1) != len(string2): #check condition the length of both strings not match to each other\n",
    "    print(\"This is not a anagrams\")\n",
    "    \n",
    "else:\n",
    "    if sorted(string1)==sorted(string2): #sort the strings and compare\n",
    "        print(\"Its a anagrams\")\n",
    "    else:\n",
    "        print(\"Its not a anagrams\")"
   ]
  },
  {
   "cell_type": "code",
   "execution_count": 6,
   "id": "1db4027b-cf88-4340-b16d-7354c73183f8",
   "metadata": {},
   "outputs": [
    {
     "name": "stdin",
     "output_type": "stream",
     "text": [
      "Enter a text:  Hello, World!\n"
     ]
    },
    {
     "name": "stdout",
     "output_type": "stream",
     "text": [
      "Encrypted text:  Khoor, Zruog!\n"
     ]
    }
   ],
   "source": [
    "#42. Encode a string using a Caesar cipher.\n",
    "\n",
    "text=input(\"Enter a text: \")\n",
    "shift=3 #shift the alphabet by position 3\n",
    "encrypted_text=\"\" #declare empty to store encrypted text\n",
    "\n",
    "for char in text:\n",
    "    if char.isalpha(): #first check first condition text is aplha or not\n",
    "        shifted=ord(char)+shift #if alpha then shift the characters\n",
    "        \n",
    "        if char.islower(): #then check if text is in lower case\n",
    "            if shifted > ord('z'): #then check if shifted character is greter then lower case 'z'\n",
    "                shifted -=26 #then shift these reverse order means -26\n",
    "            elif shifted < ord('a'):   #then check if shifted character is less then lower case 'a'\n",
    "                shifted +=26 #then shift these +26\n",
    "        elif char.isupper():  #then check the charcters is in upper case\n",
    "            if shifted > ord('Z'):  #then check if shifted character is greter then upper case 'Z'\n",
    "                shifted -=26 #then shift these reverse order means -26\n",
    "            elif shifted < ord('A'):  #then check if shifted character is less then upper case 'A'\n",
    "                shifted +=26  #then shift these +26\n",
    "                \n",
    "        encrypted_text+=chr(shifted) #then add these shifted character in encrypted text also convert these into characters using chr.\n",
    "    else:\n",
    "        encrypted_text+=char\n",
    "        \n",
    "print(\"Encrypted text: \",encrypted_text)"
   ]
  },
  {
   "cell_type": "code",
   "execution_count": 9,
   "id": "2ef54b8b-036e-40c5-bcf6-57df15e90e34",
   "metadata": {},
   "outputs": [
    {
     "name": "stdin",
     "output_type": "stream",
     "text": [
      "Enter a text:  Khoor, Zruog!\n"
     ]
    },
    {
     "name": "stdout",
     "output_type": "stream",
     "text": [
      "Decoded text Hello, World!\n"
     ]
    }
   ],
   "source": [
    "#43. Decode a Caesar cipher encoded string.\n",
    "\n",
    "encoded_text=input(\"Enter a text: \")\n",
    "shift=3 #shift the character position by 3\n",
    "decoded_text=\"\" #declare empty for storing decoded text\n",
    "\n",
    "for char in encoded_text:\n",
    "    if char.isalpha():  #check first these text is alphabetical or not\n",
    "        shifted=ord(char)-shift  #the shift value substracted from ASCII value\n",
    "        \n",
    "        if char.islower(): #then check text is in lower case\n",
    "            if shifted < ord('a'): #check condition the shifted value is less then ASCII value\n",
    "                shifted += 26 #then its increase\n",
    "            elif shifted > ord('z'): #check the shifted value is greater than ASCII value\n",
    "                shifted -= 26 #then decrease \n",
    "        elif char.isupper(): #check the text is in upper case\n",
    "            if shifted < ord('A'): #check the shifted value is less than ASCII value\n",
    "                shifted += 26 #then its increase\n",
    "            elif shifted > ord('Z'): #check if shifted value is grater than ASCII value\n",
    "                shifted -= 26 #then its decrease\n",
    "        decoded_text+=chr(shifted) #convert ASCII value into character using chr\n",
    "    else:\n",
    "        decoded_text+=char\n",
    "        \n",
    "print(\"Decoded text\",decoded_text)"
   ]
  },
  {
   "cell_type": "code",
   "execution_count": 19,
   "id": "2e17aa16-efed-4ed8-984b-14496482ffd1",
   "metadata": {},
   "outputs": [
    {
     "name": "stdin",
     "output_type": "stream",
     "text": [
      "Enter a string:  This is a sample text with several words. This text is a simple example to demonstrate finding the most frequent word. The word 'text' appears several times in this text.\n"
     ]
    },
    {
     "name": "stdout",
     "output_type": "stream",
     "text": [
      "The most frequent word is 'text' with a frequency of 4.\n"
     ]
    }
   ],
   "source": [
    "#44. Find the most frequent word in a string.\n",
    "\n",
    "string=input(\"Enter a string: \")\n",
    "\n",
    "#convert into lower case\n",
    "lower_string=string.lower()\n",
    "\n",
    "#decalre the puncuation for remove\n",
    "punctuations= \".,!?;:'\\\"\"\n",
    "\n",
    "for p in punctuations:\n",
    "    lower_string=lower_string.replace(p,\"\") #remove punctuation replace with empty space\n",
    "\n",
    "#split the string into words\n",
    "split_string=lower_string.split()\n",
    "\n",
    "#declare empty dictionary to store word count\n",
    "word_counts={}\n",
    "\n",
    "for word in split_string:\n",
    "    #check if same word is find again then increase the count\n",
    "    if word in word_counts:\n",
    "        word_counts[word] +=1\n",
    "        \n",
    "    #otherwise add new count of that word\n",
    "    else:\n",
    "        word_counts[word] =1\n",
    "        \n",
    "#get the frequent word\n",
    "frequent_word=max(word_counts,key=word_counts.get)\n",
    "frequency=word_counts[frequent_word]\n",
    "\n",
    "print(f\"The most frequent word is '{frequent_word}' with a frequency of {frequency}.\")"
   ]
  },
  {
   "cell_type": "code",
   "execution_count": 24,
   "id": "c95fbe1e-79d5-4d94-8e08-907c3282861a",
   "metadata": {},
   "outputs": [
    {
     "name": "stdin",
     "output_type": "stream",
     "text": [
      "Enter a string:  This is a test. This test is only a test.\n"
     ]
    },
    {
     "name": "stdout",
     "output_type": "stream",
     "text": [
      "{'only', 'test', 'is', 'a', 'this'}\n"
     ]
    }
   ],
   "source": [
    "#45. Find all unique words in a string.\n",
    "\n",
    "string=input(\"Enter a string: \")\n",
    "\n",
    "#convert string into lower case\n",
    "lower_string=string.lower()\n",
    "\n",
    "#remove punctuations\n",
    "punctuations=\".,?!:;'\\\"\"\n",
    "\n",
    "for p in punctuations:\n",
    "    lower_string=lower_string.replace(p,\"\")\n",
    "    \n",
    "#split the string\n",
    "split_string=lower_string.split()\n",
    "\n",
    "#conert the split string into set because its remove duplications\n",
    "converted_string=set(split_string)\n",
    "\n",
    "#again converted into list\n",
    "unique_word=list(converted_string)\n",
    "\n",
    "print(converted_string)"
   ]
  },
  {
   "cell_type": "code",
   "execution_count": 1,
   "id": "609382e6-305c-4902-ac65-c7e353c57113",
   "metadata": {},
   "outputs": [
    {
     "name": "stdin",
     "output_type": "stream",
     "text": [
      "Enter a text:  Hello, how are you doing today?\n"
     ]
    },
    {
     "name": "stdout",
     "output_type": "stream",
     "text": [
      "total syllables:  8\n"
     ]
    }
   ],
   "source": [
    "#46. Count the number of syllables in a string.\n",
    "\n",
    "#declare vowels\n",
    "vowels=\"aeiou\"\n",
    "text=input(\"Enter a text: \")\n",
    "#split the text into words\n",
    "words=text.split()\n",
    "#declare the total_syllables 0 to store syllable count\n",
    "total_sylabbles=0\n",
    "\n",
    "for word in words:\n",
    "    #convert word into lower case\n",
    "    word=word.lower()\n",
    "    #set the count 0\n",
    "    count=0\n",
    "    #check first word first character if its in vowels\n",
    "    if word[0] in vowels:\n",
    "        count+=1 #then increase count\n",
    "    for index in range(1,len(word)):  #check 2nd character to last character\n",
    "        if word[index] in vowels and word[index-1] not in vowels: #check if 2nd character to above in vowels or first character not in vowels still increase count\n",
    "            count+=1\n",
    "    if word.endswith(\"e\"):  #if word ends with e\n",
    "        count-=1  #then decrease count\n",
    "    if count==0:\n",
    "        count+=1\n",
    "    total_sylabbles+=count\n",
    "    \n",
    "print(\"total syllables: \",total_sylabbles)"
   ]
  },
  {
   "cell_type": "code",
   "execution_count": 6,
   "id": "b54a4623-0712-4403-a0ff-0121d1665b66",
   "metadata": {},
   "outputs": [
    {
     "name": "stdin",
     "output_type": "stream",
     "text": [
      "Enter a string:  HelloWorld123\n"
     ]
    },
    {
     "name": "stdout",
     "output_type": "stream",
     "text": [
      "False\n"
     ]
    }
   ],
   "source": [
    "#47. Check if a string contains any special characters.\n",
    "\n",
    "string=input(\"Enter a string: \")\n",
    "conatin_special=False #set a flag by default false\n",
    "for char in string:\n",
    "    if not char.isalnum():  #check if character if not alpha and numeric\n",
    "        conatin_special= True #then converts flag to true\n",
    "        break\n",
    "print(conatin_special)"
   ]
  },
  {
   "cell_type": "code",
   "execution_count": 2,
   "id": "b8989068-7ee2-40df-9148-7e37dec70efa",
   "metadata": {},
   "outputs": [
    {
     "name": "stdin",
     "output_type": "stream",
     "text": [
      "Enter a string:  The quick brown fox jumps over the lazy dog\n"
     ]
    },
    {
     "name": "stdout",
     "output_type": "stream",
     "text": [
      "The quick fox jumps over the lazy dog\n"
     ]
    }
   ],
   "source": [
    "#48. Remove the nth word from a string.\n",
    "\n",
    "string=input(\"Enter a string: \")\n",
    "#declare the position of n for remove\n",
    "n=3\n",
    "\n",
    "#split the string\n",
    "words=string.split()\n",
    "\n",
    "#check n it atleast 1 and not exceed by words\n",
    "if 1 <= n <= len(words):\n",
    "    del words[n-1]\n",
    "\n",
    "join_string=' '.join(words)\n",
    "print(join_string)"
   ]
  },
  {
   "cell_type": "code",
   "execution_count": 3,
   "id": "c2bf8501-0782-4627-9015-c929f3fc5094",
   "metadata": {},
   "outputs": [
    {
     "name": "stdin",
     "output_type": "stream",
     "text": [
      "Enter a string:  my name is\n",
      "Enter a new word:  shraddha\n"
     ]
    },
    {
     "name": "stdout",
     "output_type": "stream",
     "text": [
      "my shraddha name is\n"
     ]
    }
   ],
   "source": [
    "#49. Insert a word at the nth position in a string.\n",
    "\n",
    "string=input(\"Enter a string: \")\n",
    "new_word=input(\"Enter a new word: \")\n",
    "#declare the n position\n",
    "n=2\n",
    "\n",
    "#split the string into words\n",
    "words=string.split()\n",
    "\n",
    "if 1<=n <= len(words) +1:\n",
    "    words.insert(n-1,new_word)\n",
    "join_string=' '.join(words)\n",
    "print(join_string)   "
   ]
  },
  {
   "cell_type": "code",
   "execution_count": 1,
   "id": "e3cf47db-2907-4878-8f69-c5ef00036612",
   "metadata": {},
   "outputs": [
    {
     "name": "stdin",
     "output_type": "stream",
     "text": [
      "Enter a csv  name,age,city\\nAlice,30,New York\\nBob,25,Los Angeles\\nCharlie,35,Chicago\n"
     ]
    },
    {
     "name": "stdout",
     "output_type": "stream",
     "text": [
      "[['name', 'age', 'city\\\\nAlice', '30', 'New York\\\\nBob', '25', 'Los Angeles\\\\nCharlie', '35', 'Chicago']]\n"
     ]
    }
   ],
   "source": [
    "#50. Convert a CSV string to a list of lists.\n",
    "\n",
    "csv_string=input(\"Enter a csv \")\n",
    "\n",
    "split_string=csv_string.split('\\n')\n",
    "\n",
    "seperated_string=[line.split(',') for line in split_string]\n",
    "print(seperated_string)"
   ]
  },
  {
   "cell_type": "code",
   "execution_count": 6,
   "id": "c53e913c-5c98-43e7-9745-83d2775d21a7",
   "metadata": {},
   "outputs": [
    {
     "name": "stdout",
     "output_type": "stream",
     "text": [
      "[1, 2, 3, 4, 5, 6, 7, 8, 9, 10]\n"
     ]
    }
   ],
   "source": [
    "#List Based Practice Problem :\n",
    "\n",
    "#1. Create a list with integers from 1 to 10.\n",
    "\n",
    "li=list(range(1,11)) #give the range function to print list 1 to 10\n",
    "print(li)"
   ]
  },
  {
   "cell_type": "code",
   "execution_count": 7,
   "id": "c260debf-759a-40d6-a89b-41d072a0467c",
   "metadata": {},
   "outputs": [
    {
     "name": "stdout",
     "output_type": "stream",
     "text": [
      "The length of list is:  4\n"
     ]
    }
   ],
   "source": [
    "#2. Find the length of a list without using the `len()` function.\n",
    "\n",
    "li1=['shraddha','kaushik',23,26.45]\n",
    "count=0  #set initial counter 0\n",
    "\n",
    "for element in li1:\n",
    "    count+=1\n",
    "    \n",
    "print(\"The length of list is: \",count)"
   ]
  },
  {
   "cell_type": "code",
   "execution_count": 10,
   "id": "90092171-9375-41db-acc8-0b6e648e2da7",
   "metadata": {},
   "outputs": [
    {
     "name": "stdout",
     "output_type": "stream",
     "text": [
      "['shraddha', 'kaushik', 23, 26.45, 'pwskills']\n"
     ]
    }
   ],
   "source": [
    "#3. Append an element to the end of a list.\n",
    "\n",
    "li1=['shraddha','kaushik',23,26.45]\n",
    "li1.append('pwskills') #using the append function to append element end of the list\n",
    "print(li1)"
   ]
  },
  {
   "cell_type": "code",
   "execution_count": 13,
   "id": "79c3c166-e56a-4f17-99d1-7386b27c3e09",
   "metadata": {},
   "outputs": [
    {
     "data": {
      "text/plain": [
       "['shraddha', 'pwskills', 'kaushik', 23, 26.45]"
      ]
     },
     "execution_count": 13,
     "metadata": {},
     "output_type": "execute_result"
    }
   ],
   "source": [
    "#4. Insert an element at a specific index in a list.\n",
    "\n",
    "li1=['shraddha','kaushik',23,26.45]\n",
    "li1.insert(1,'pwskills') #for insert a element on specific index I used insert function\n",
    "li1"
   ]
  },
  {
   "cell_type": "code",
   "execution_count": 15,
   "id": "84186d09-6e58-479e-90cc-8e0b37b3f4d2",
   "metadata": {},
   "outputs": [
    {
     "data": {
      "text/plain": [
       "['shraddha', 'kaushik', 26.45]"
      ]
     },
     "execution_count": 15,
     "metadata": {},
     "output_type": "execute_result"
    }
   ],
   "source": [
    "#5. Remove an element from a list by its value.\n",
    "li1=['shraddha','kaushik',23,26.45]\n",
    "li1.remove(23) #for remove element by its value I used remove function\n",
    "li1"
   ]
  },
  {
   "cell_type": "code",
   "execution_count": 17,
   "id": "9c4a2ff3-2eac-4e19-8b53-412ec0c1e23b",
   "metadata": {},
   "outputs": [
    {
     "data": {
      "text/plain": [
       "['shraddha', 23, 26.45]"
      ]
     },
     "execution_count": 17,
     "metadata": {},
     "output_type": "execute_result"
    }
   ],
   "source": [
    "#6. Remove an element from a list by its index.\n",
    "li1=['shraddha','kaushik',23,26.45]\n",
    "li1.pop(1)  #I remove element by its index using pop function\n",
    "li1"
   ]
  },
  {
   "cell_type": "code",
   "execution_count": 26,
   "id": "7fc9f4a2-138c-451f-ab6a-ae45dc3faa2d",
   "metadata": {},
   "outputs": [
    {
     "name": "stdout",
     "output_type": "stream",
     "text": [
      "The kaushik element exist in a list\n"
     ]
    }
   ],
   "source": [
    "#7. Check if an element exists in a list.\n",
    "li1=['shraddha','kaushik',23,26.45]\n",
    "check_element='kaushik' #declare the check element\n",
    "\n",
    "if check_element in li1: #check condition if these check element present in list or not\n",
    "    print(f\"The {check_element} element exist in a list\")\n",
    "else:\n",
    "    print(f\"The {check_element} element not exist in a list\")"
   ]
  },
  {
   "cell_type": "code",
   "execution_count": 32,
   "id": "e88797ca-7810-4592-9a90-edae14de2310",
   "metadata": {},
   "outputs": [
    {
     "data": {
      "text/plain": [
       "1"
      ]
     },
     "execution_count": 32,
     "metadata": {},
     "output_type": "execute_result"
    }
   ],
   "source": [
    "#8. Find the index of the first occurrence of an element in a list.\n",
    "li1=['shraddha','kaushik',23,26.45]\n",
    "x=li1.index('kaushik') #I used index function to show the index of that value \n",
    "x"
   ]
  },
  {
   "cell_type": "code",
   "execution_count": 37,
   "id": "3adf7b15-6368-4a69-b658-83cd82fbd614",
   "metadata": {},
   "outputs": [
    {
     "data": {
      "text/plain": [
       "3"
      ]
     },
     "execution_count": 37,
     "metadata": {},
     "output_type": "execute_result"
    }
   ],
   "source": [
    "#9. Count the occurrences of an element in a list.\n",
    "li1=['shraddha','kaushik',23,26.45,'shraddha','shraddha']\n",
    "count_element=li1.count('shraddha') #I used the count function to count number of occurences of element in string\n",
    "count_element"
   ]
  },
  {
   "cell_type": "code",
   "execution_count": 39,
   "id": "b8a85aad-4728-468e-81f4-24891753db26",
   "metadata": {},
   "outputs": [
    {
     "data": {
      "text/plain": [
       "[26.45, 23, 'kaushik', 'shraddha']"
      ]
     },
     "execution_count": 39,
     "metadata": {},
     "output_type": "execute_result"
    }
   ],
   "source": [
    "#10. Reverse the order of elements in a list.\n",
    "li1=['shraddha','kaushik',23,26.45]\n",
    "li1.reverse() #I used reverse methos to reverse the order of element in a list\n",
    "li1"
   ]
  },
  {
   "cell_type": "code",
   "execution_count": 42,
   "id": "c9a9174b-c37c-4e6e-bd64-039bc65a13cc",
   "metadata": {},
   "outputs": [
    {
     "data": {
      "text/plain": [
       "[1, 2, 4, 8, 9, 10]"
      ]
     },
     "execution_count": 42,
     "metadata": {},
     "output_type": "execute_result"
    }
   ],
   "source": [
    "#11. Sort a list in ascending order.\n",
    "li1=[1,8,9,2,4,10]\n",
    "li1.sort() #I used the  sort function to sort a list in ascending order\n",
    "li1"
   ]
  },
  {
   "cell_type": "code",
   "execution_count": 45,
   "id": "ba7d017f-0135-4c90-96ea-e47c17b93f90",
   "metadata": {},
   "outputs": [
    {
     "data": {
      "text/plain": [
       "[10, 9, 8, 4, 2, 1]"
      ]
     },
     "execution_count": 45,
     "metadata": {},
     "output_type": "execute_result"
    }
   ],
   "source": [
    "#12. Sort a list in descending order.\n",
    "li1=[1,8,9,2,4,10]\n",
    "li1.sort(reverse=True) #I used the sort function and set reverse flag true for descending order\n",
    "li1"
   ]
  },
  {
   "cell_type": "code",
   "execution_count": 47,
   "id": "1890698e-fbe6-427e-b97b-132214e7f3be",
   "metadata": {},
   "outputs": [
    {
     "name": "stdout",
     "output_type": "stream",
     "text": [
      "[2, 4, 6, 8, 10, 12, 14, 16, 18, 20]\n"
     ]
    }
   ],
   "source": [
    "#13. Create a list of even numbers from 1 to 20.\n",
    "\n",
    "even_list=[num for num in range(1,21) if num %2==0] #I used for loop to show even number in range 1 to 20\n",
    "print(even_list)"
   ]
  },
  {
   "cell_type": "code",
   "execution_count": 49,
   "id": "12e9ae1f-e66a-45ef-8812-c9eb1f05b35e",
   "metadata": {},
   "outputs": [
    {
     "name": "stdout",
     "output_type": "stream",
     "text": [
      "[1, 3, 5, 7, 9, 11, 13, 15, 17, 19]\n"
     ]
    }
   ],
   "source": [
    "#14. Create a list of odd numbers from 1 to 20.\n",
    "\n",
    "odd_numbers=[num for num in range(1,21) if num %2 !=0] #use loop to check if its not devided by 2 then its a odd number\n",
    "print(odd_numbers)"
   ]
  },
  {
   "cell_type": "code",
   "execution_count": 51,
   "id": "85bd850c-70d7-45f9-b32d-6056136a1de3",
   "metadata": {},
   "outputs": [
    {
     "name": "stdout",
     "output_type": "stream",
     "text": [
      "55\n"
     ]
    }
   ],
   "source": [
    "#15. Find the sum of all elements in a list.\n",
    "li=list(range(1,11))\n",
    "total_sum=sum(li) #I used sum function to sum of all elements\n",
    "print(total_sum)"
   ]
  },
  {
   "cell_type": "code",
   "execution_count": 53,
   "id": "a0445d2e-c305-492c-b9ad-8ddf12d35091",
   "metadata": {},
   "outputs": [
    {
     "name": "stdout",
     "output_type": "stream",
     "text": [
      "689\n"
     ]
    }
   ],
   "source": [
    "#16. Find the maximum value in a list.\n",
    "\n",
    "li=[2,25,689,145,458,555]\n",
    "max_value=max(li) #I used the max function to show the max value in list\n",
    "print(max_value)"
   ]
  },
  {
   "cell_type": "code",
   "execution_count": 54,
   "id": "441106d7-5c2a-412e-8021-91bb0d54a827",
   "metadata": {},
   "outputs": [
    {
     "name": "stdout",
     "output_type": "stream",
     "text": [
      "2\n"
     ]
    }
   ],
   "source": [
    "#17. Find the minimum value in a list.\n",
    "\n",
    "li=[2,25,689,145,458,555]\n",
    "min_value=min(li) #I used min function to show min value in list\n",
    "print(min_value)"
   ]
  },
  {
   "cell_type": "code",
   "execution_count": 1,
   "id": "ca494974-3054-4e07-a862-d6a4fadb8b0c",
   "metadata": {},
   "outputs": [
    {
     "name": "stdout",
     "output_type": "stream",
     "text": [
      "[1, 4, 9, 16, 25, 36, 49, 64, 81, 100]\n"
     ]
    }
   ],
   "source": [
    "#18. Create a list of squares of numbers from 1 to 10.\n",
    "\n",
    "square=[num ** 2 for num in range(1,11)] #I used for loop for each value to 1 to 10 its multiply by 2\n",
    "print(square)"
   ]
  },
  {
   "cell_type": "code",
   "execution_count": 2,
   "id": "1abd3546-3279-4490-ae7e-6a48fc372754",
   "metadata": {},
   "outputs": [
    {
     "name": "stdout",
     "output_type": "stream",
     "text": [
      "[54, 19, 4, 81, 66, 5, 4, 62, 29, 79]\n"
     ]
    }
   ],
   "source": [
    "#19. Create a list of random numbers.\n",
    "import random #import random module\n",
    "random_numbers=[random.randint(1,100) for _ in range(10)] #I used random.randint for create random number to 1 to 100\n",
    "print(random_numbers)"
   ]
  },
  {
   "cell_type": "code",
   "execution_count": 5,
   "id": "aa1a0411-31ae-48dd-a416-b07e2aa7f376",
   "metadata": {},
   "outputs": [
    {
     "data": {
      "text/plain": [
       "[2, 4, 5, 6, 8, 9]"
      ]
     },
     "execution_count": 5,
     "metadata": {},
     "output_type": "execute_result"
    }
   ],
   "source": [
    "#20. Remove duplicates from a list.\n",
    "li=[2,8,2,9,4,5,6,8,6,5]\n",
    "convert_li=set(li) #for remove duplicates I convert list to set\n",
    "convert_set=list(convert_li) #again I convert set to list\n",
    "convert_set"
   ]
  },
  {
   "cell_type": "code",
   "execution_count": 10,
   "id": "0b1cd72f-df0e-49d8-aa1f-c1c22b9f8db1",
   "metadata": {},
   "outputs": [
    {
     "name": "stdout",
     "output_type": "stream",
     "text": [
      "[1, 2]\n"
     ]
    }
   ],
   "source": [
    "#21. Find the common elements between two lists.\n",
    "\n",
    "li1=[1,2,3,4,5]\n",
    "li2=[1,2,6,7,8]\n",
    "\n",
    "convert_li1=set(li1) #convert list 1 into set\n",
    "convert_li2=set(li2) #convert list 2 into set\n",
    "\n",
    "common_element=convert_li1 & convert_li2 #I used intersection operator for get common element\n",
    "convert_list=list(common_element) #again convert into list\n",
    "\n",
    "print(convert_list)"
   ]
  },
  {
   "cell_type": "code",
   "execution_count": 12,
   "id": "9f3ab3b8-16d4-4916-80ad-8d8d918ab012",
   "metadata": {},
   "outputs": [
    {
     "name": "stdout",
     "output_type": "stream",
     "text": [
      "[3, 4, 5, 6, 7, 8]\n"
     ]
    }
   ],
   "source": [
    "#22. Find the difference between two lists.\n",
    "li1=[1,2,3,4,5]\n",
    "li2=[1,2,6,7,8]\n",
    "\n",
    "convert_li1=set(li1) #convert list 1 into set\n",
    "convert_li2=set(li2) #convert list 2 into set\n",
    "\n",
    "diff_element=convert_li1 ^ convert_li2 #I used symmetric difference operator for get difference element\n",
    "convert_list=list(diff_element) #again convert into list\n",
    "\n",
    "print(convert_list)"
   ]
  },
  {
   "cell_type": "code",
   "execution_count": 14,
   "id": "cf0c88df-fce3-4f72-b4e6-a93670367464",
   "metadata": {},
   "outputs": [
    {
     "name": "stdout",
     "output_type": "stream",
     "text": [
      "[1, 2, 3, 4, 5, 1, 2, 6, 7, 8]\n"
     ]
    }
   ],
   "source": [
    "#23. Merge two lists.\n",
    "li1=[1,2,3,4,5]\n",
    "li2=[1,2,6,7,8]\n",
    "\n",
    "merge_list=li1+li2 #I used + operator to merge two list\n",
    "print(merge_list)"
   ]
  },
  {
   "cell_type": "code",
   "execution_count": 17,
   "id": "de50b50c-8196-4db1-8461-11cf32b66463",
   "metadata": {},
   "outputs": [
    {
     "name": "stdout",
     "output_type": "stream",
     "text": [
      "[2, 4, 6, 8, 10, 12, 14, 16, 18, 20, 22, 24, 26, 28, 30, 32, 34, 36, 38, 40]\n"
     ]
    }
   ],
   "source": [
    "#24. Multiply all elements in a list by 2.\n",
    "\n",
    "element=[num * 2 for num in range(1,21)] #I used for loop multiple all elements in a list by 2\n",
    "print(element)"
   ]
  },
  {
   "cell_type": "code",
   "execution_count": 19,
   "id": "d90d8425-2942-4e58-a0b0-0d13ed5d0831",
   "metadata": {},
   "outputs": [
    {
     "name": "stdout",
     "output_type": "stream",
     "text": [
      "[2, 4, 6, 8, 10]\n"
     ]
    }
   ],
   "source": [
    "#25. Filter out all even numbers from a list.\n",
    "\n",
    "li=list(range(1,11))\n",
    "even_numbers=[num for num in li if num % 2 == 0] #I check condition if the element its divided into 2 so its even\n",
    "print(even_numbers)"
   ]
  },
  {
   "cell_type": "code",
   "execution_count": 22,
   "id": "57251cc3-5553-4066-940e-8d949a8e7054",
   "metadata": {},
   "outputs": [
    {
     "name": "stdout",
     "output_type": "stream",
     "text": [
      "[1, 2, 3, 4]\n"
     ]
    }
   ],
   "source": [
    "#26. Convert a list of strings to a list of integers.\n",
    "\n",
    "li=[\"1\",\"2\",\"3\",\"4\"]\n",
    "converted_list=[int(num) for num in li] #I used int method to convert string of list into integers\n",
    "print(converted_list)"
   ]
  },
  {
   "cell_type": "code",
   "execution_count": 23,
   "id": "c3fa3da2-b1e6-4a43-b70d-55de3892a6f6",
   "metadata": {},
   "outputs": [
    {
     "name": "stdout",
     "output_type": "stream",
     "text": [
      "['1', '2', '3', '4', '5']\n"
     ]
    }
   ],
   "source": [
    "#27. Convert a list of integers to a list of strings.\n",
    "\n",
    "li=[1,2,3,4,5]\n",
    "converted_list=[str(num) for num in li] #I used str method to convert integer list into string list\n",
    "print(converted_list)"
   ]
  },
  {
   "cell_type": "code",
   "execution_count": 24,
   "id": "2d463ab0-6803-47cb-aa53-0e26390c0cf7",
   "metadata": {},
   "outputs": [
    {
     "name": "stdout",
     "output_type": "stream",
     "text": [
      "[1, 2, [3, 4], 5, 6, 7, [8, 9]]\n"
     ]
    }
   ],
   "source": [
    "#28. Flatten a nested list.\n",
    "li=[[1, 2, [3, 4]], [5, 6], [7, [8, 9]]]\n",
    "\n",
    "flat_list=[item for sublist in li for item in (sublist if isinstance(sublist,list) else [sublist])]\n",
    "\n",
    "print(flat_list)"
   ]
  },
  {
   "cell_type": "code",
   "execution_count": 2,
   "id": "4fa39eb9-be96-444e-abe4-3344731b66df",
   "metadata": {},
   "outputs": [
    {
     "name": "stdout",
     "output_type": "stream",
     "text": [
      "[0, 1, 1, 2, 3, 5, 8, 13, 21, 34]\n"
     ]
    }
   ],
   "source": [
    "#29. Create a list of the first 10 Fibonacci numbers.\n",
    "fibonacci_numbers=[0,1]\n",
    "\n",
    "while len(fibonacci_numbers)<10:\n",
    "    next_number=fibonacci_numbers[-1]+fibonacci_numbers[-2]\n",
    "    fibonacci_numbers.append(next_number)\n",
    "print(fibonacci_numbers)"
   ]
  },
  {
   "cell_type": "code",
   "execution_count": 6,
   "id": "7143655c-7f97-4677-896b-98897629ce48",
   "metadata": {},
   "outputs": [
    {
     "name": "stdout",
     "output_type": "stream",
     "text": [
      "list is sorted\n"
     ]
    }
   ],
   "source": [
    "#30. Check if a list is sorted.\n",
    "li=[1,2,3,4]\n",
    "is_sorted=True\n",
    "\n",
    "for i in range(len(li)-1):\n",
    "    if li[i]>li[i+1]:\n",
    "        is_sorted:False\n",
    "        break\n",
    "if is_sorted:\n",
    "    print(\"list is sorted\")\n",
    "else:\n",
    "    print(\"Its not sorted\")"
   ]
  },
  {
   "cell_type": "code",
   "execution_count": 2,
   "id": "92539d8e-80ec-4587-957e-6bf9aba5c3af",
   "metadata": {},
   "outputs": [
    {
     "name": "stdin",
     "output_type": "stream",
     "text": [
      "Enter the n position:  3\n"
     ]
    },
    {
     "name": "stdout",
     "output_type": "stream",
     "text": [
      "[4, 5, 6, 7, 1, 2, 3]\n"
     ]
    }
   ],
   "source": [
    "#31. Rotate a list to the left by `n` positions.\n",
    "\n",
    "#declare the list\n",
    "li=[1,2,3,4,5,6,7]\n",
    "\n",
    "#declare the n position\n",
    "n=int(input(\"Enter the n position: \"))\n",
    "\n",
    "#rotate it starting n -th to n th position and combine it\n",
    "rotate_li=li[n:]+li[:n]\n",
    "\n",
    "print(rotate_li)"
   ]
  },
  {
   "cell_type": "code",
   "execution_count": 7,
   "id": "b2ff9f66-4e93-4807-bf53-e09bd8fe2432",
   "metadata": {},
   "outputs": [
    {
     "name": "stdin",
     "output_type": "stream",
     "text": [
      "Enter the n position:  2\n"
     ]
    },
    {
     "name": "stdout",
     "output_type": "stream",
     "text": [
      "[6, 7, 1, 2, 3, 4, 5]\n"
     ]
    }
   ],
   "source": [
    "#32. Rotate a list to the right by `n` positions.\n",
    "\n",
    "#declare the list\n",
    "li=[1,2,3,4,5,6,7]\n",
    "\n",
    "#declare the n position\n",
    "n=int(input(\"Enter the n position: \"))\n",
    "\n",
    "#To calculate list length does not exceed to given position\n",
    "n= n % len(li)\n",
    "\n",
    "#rotate it starting n -th to n th position and combine it\n",
    "rotate_li=li[-n:]+li[:-n]\n",
    "\n",
    "print(rotate_li)"
   ]
  },
  {
   "cell_type": "code",
   "execution_count": 2,
   "id": "6586da3f-75f9-4c3c-a59e-69c587705b10",
   "metadata": {},
   "outputs": [
    {
     "name": "stdout",
     "output_type": "stream",
     "text": [
      "[2, 3, 5, 7, 11, 13, 17, 19, 23, 29, 31, 37, 41, 43, 47]\n"
     ]
    }
   ],
   "source": [
    "#33. Create a list of prime numbers up to 50.\n",
    "\n",
    "#declare empty list to store prime numbers\n",
    "primes=[]\n",
    "\n",
    "#use for loop to define range of prime numbers\n",
    "for num in range(2,51):\n",
    "    #set is_prime is true\n",
    "    is_prime=True\n",
    "    \n",
    "    #use for loop to check prime numbers\n",
    "    for i in range(2,int(num ** 0.5)+1):\n",
    "        if num%i==0:\n",
    "            is_prime=False\n",
    "            break\n",
    "            \n",
    "    if is_prime==True:\n",
    "        primes.append(num)\n",
    "        \n",
    "print(primes)"
   ]
  },
  {
   "cell_type": "code",
   "execution_count": 3,
   "id": "6248aa65-4188-40f2-9505-84c1f5f2d124",
   "metadata": {},
   "outputs": [
    {
     "name": "stdout",
     "output_type": "stream",
     "text": [
      "[[1, 2, 3, 4], [5, 6, 7, 8], [9, 10]]\n"
     ]
    }
   ],
   "source": [
    "#34. Split a list into chunks of size `n`.\n",
    "\n",
    "li=[1, 2, 3, 4, 5, 6, 7, 8, 9, 10]\n",
    "\n",
    "n=4\n",
    "\n",
    "chunks=[]\n",
    "\n",
    "for i in range(0,len(li),n):\n",
    "    chunks.append(li[i:i+n])\n",
    "print(chunks)"
   ]
  },
  {
   "cell_type": "code",
   "execution_count": 2,
   "id": "9bedbdc2-1309-494d-a3fc-cc555eef0d05",
   "metadata": {},
   "outputs": [
    {
     "name": "stdout",
     "output_type": "stream",
     "text": [
      "8\n"
     ]
    }
   ],
   "source": [
    "#35. Find the second largest number in a list.\n",
    "\n",
    "li=[2,4,6,8,9]\n",
    "\n",
    "largest=float('-inf')\n",
    "second_largest=float('-inf')\n",
    "\n",
    "for number in li:\n",
    "    if number > largest:\n",
    "        largest=number\n",
    "        \n",
    "for number in li:\n",
    "    if number!=largest and number>second_largest:\n",
    "        second_largest=number\n",
    "        \n",
    "print(second_largest)"
   ]
  },
  {
   "cell_type": "code",
   "execution_count": 3,
   "id": "d8f81b2f-0d35-43e0-b80c-06c3be0c0bbd",
   "metadata": {},
   "outputs": [
    {
     "name": "stdout",
     "output_type": "stream",
     "text": [
      "[4, 9, 16, 25, 36]\n"
     ]
    }
   ],
   "source": [
    "#36. Replace every element in a list with its square.\n",
    "\n",
    "li=[2,3,4,5,6]\n",
    "\n",
    "square_list=[]\n",
    "\n",
    "for i in li:\n",
    "    square_list.append(i**2)\n",
    "print(square_list)"
   ]
  },
  {
   "cell_type": "code",
   "execution_count": 9,
   "id": "2b466cd3-0c49-46e5-b786-dbc6737877b3",
   "metadata": {},
   "outputs": [
    {
     "name": "stdout",
     "output_type": "stream",
     "text": [
      "{1: 0, 2: 1, 3: 2, 4: 3, 5: 4}\n"
     ]
    }
   ],
   "source": [
    "#37. Convert a list to a dictionary where list elements become keys and their indices become values.\n",
    "\n",
    "li=[1,2,3,4,5]\n",
    "\n",
    "my_dict={li[i]:i for i in range(len(li))}\n",
    "\n",
    "print(my_dict)"
   ]
  },
  {
   "cell_type": "code",
   "execution_count": 10,
   "id": "0f95efbf-5472-477a-ac74-b282805c7f2d",
   "metadata": {},
   "outputs": [
    {
     "name": "stdout",
     "output_type": "stream",
     "text": [
      "[1, 4, 2, 6, 3, 5]\n"
     ]
    }
   ],
   "source": [
    "#38. Shuffle the elements of a list randomly.\n",
    "\n",
    "import random\n",
    "\n",
    "li=[1,2,3,4,5,6]\n",
    "\n",
    "random.shuffle(li)\n",
    "\n",
    "print(li)"
   ]
  },
  {
   "cell_type": "code",
   "execution_count": 13,
   "id": "ea4e6c8d-72c9-4157-9b65-84409e11291d",
   "metadata": {},
   "outputs": [
    {
     "name": "stdout",
     "output_type": "stream",
     "text": [
      "[1, 2, 6, 24, 120, 720, 5040, 40320, 362880, 3628800]\n"
     ]
    }
   ],
   "source": [
    "#39. Create a list of the first 10 factorial numbers.\n",
    "\n",
    "n=10\n",
    "\n",
    "factorials=[]\n",
    "\n",
    "fact=1\n",
    "for i in range(1,n+1):\n",
    "    fact*=i\n",
    "    factorials.append(fact)\n",
    "print(factorials)"
   ]
  },
  {
   "cell_type": "code",
   "execution_count": 16,
   "id": "4c994c7c-3271-4a17-b95b-547682941672",
   "metadata": {},
   "outputs": [
    {
     "name": "stdout",
     "output_type": "stream",
     "text": [
      "The lists have at least one element is common\n"
     ]
    }
   ],
   "source": [
    "#40. Check if two lists have at least one element in common.\n",
    "\n",
    "li1=[1,2,3,4,5]\n",
    "li2=[5,6,7,8,9]\n",
    "\n",
    "common_found=False\n",
    "\n",
    "for element in li1:\n",
    "    if element in li2:\n",
    "        common_found=True\n",
    "        break\n",
    "        \n",
    "if common_found:\n",
    "    print(\"The lists have at least one element is common\")\n",
    "else:\n",
    "    print(\"Does not have any common element\")"
   ]
  },
  {
   "cell_type": "code",
   "execution_count": 20,
   "id": "ea213ad1-55b0-4b92-a701-21e98ee2ab18",
   "metadata": {},
   "outputs": [
    {
     "name": "stdout",
     "output_type": "stream",
     "text": [
      "[]\n"
     ]
    }
   ],
   "source": [
    "#41. Remove all elements from a list.\n",
    "\n",
    "li=[1,2,3,4,5,6]\n",
    "li.clear()\n",
    "print(li)"
   ]
  },
  {
   "cell_type": "code",
   "execution_count": 21,
   "id": "837d110f-6091-4d47-abf6-4f1f77fa1d95",
   "metadata": {},
   "outputs": [
    {
     "name": "stdout",
     "output_type": "stream",
     "text": [
      "[1, 3, 4, 0, 2, 0]\n"
     ]
    }
   ],
   "source": [
    "#42. Replace negative numbers in a list with 0.\n",
    "\n",
    "li=[1,3,4,-5,2,-6]\n",
    "\n",
    "for i in range(len(li)):\n",
    "    if li[i]<0:\n",
    "        li[i]=0\n",
    "print(li)"
   ]
  },
  {
   "cell_type": "code",
   "execution_count": 25,
   "id": "c67778a1-fdfa-4dbf-bb37-8da7adefddae",
   "metadata": {},
   "outputs": [
    {
     "name": "stdout",
     "output_type": "stream",
     "text": [
      "['hello', 'World']\n"
     ]
    }
   ],
   "source": [
    "#43. Convert a string into a list of words.\n",
    "\n",
    "string=\"hello World\"\n",
    "converted_string=string.split()\n",
    "print(converted_string)"
   ]
  },
  {
   "cell_type": "code",
   "execution_count": 29,
   "id": "fdd31903-7558-4906-ab4d-77ae6c5aa584",
   "metadata": {},
   "outputs": [
    {
     "name": "stdout",
     "output_type": "stream",
     "text": [
      "hello World\n"
     ]
    }
   ],
   "source": [
    "#44. Convert a list of words into a string.\n",
    "\n",
    "li=['hello', 'World']\n",
    "converted_li=' '.join(li)\n",
    "print(converted_li)"
   ]
  },
  {
   "cell_type": "code",
   "execution_count": 3,
   "id": "4ef2b04e-d576-439f-97d6-6ef67032a1aa",
   "metadata": {},
   "outputs": [
    {
     "name": "stdout",
     "output_type": "stream",
     "text": [
      "[1, 2, 4, 8, 16, 32, 64, 128, 256, 512]\n"
     ]
    }
   ],
   "source": [
    "#45. Create a list of the first `n` powers of 2.\n",
    "\n",
    "#declare the n value\n",
    "n=10\n",
    "\n",
    "#declare the empty list to store n power of 2 \n",
    "power_of_2=[]\n",
    "\n",
    "#use the for loop \n",
    "for i in range(n):\n",
    "    power_of_2.append(2**i)\n",
    "print(power_of_2)"
   ]
  },
  {
   "cell_type": "code",
   "execution_count": 7,
   "id": "8fbed6ef-2574-4400-959c-2aae255317cf",
   "metadata": {},
   "outputs": [
    {
     "name": "stdout",
     "output_type": "stream",
     "text": [
      "shraddha\n"
     ]
    }
   ],
   "source": [
    "#46. Find the longest string in a list of strings.\n",
    "\n",
    "li=['kau','mau','shraddha','kaushik']\n",
    "\n",
    "longets_string=\"\"\n",
    "\n",
    "for i in li:\n",
    "    if len(i)>len(longets_string):\n",
    "        longets_string=i\n",
    "        \n",
    "print(longets_string)"
   ]
  },
  {
   "cell_type": "code",
   "execution_count": 13,
   "id": "79d36c9b-0f31-42ae-902a-db9f812dabfe",
   "metadata": {},
   "outputs": [
    {
     "name": "stdout",
     "output_type": "stream",
     "text": [
      "kau\n"
     ]
    }
   ],
   "source": [
    "#47. Find the shortest string in a list of strings.\n",
    "li=['kau','mauu','shraddha','kaushik']\n",
    "\n",
    "if li:\n",
    "    shortest_string=li[0]\n",
    "    for i in li:\n",
    "        if len(i)<len(shortest_string):\n",
    "            shortest_string=i\n",
    "\n",
    "    print(shortest_string)\n",
    "    \n",
    "else:\n",
    "    print(\"list is empty\")"
   ]
  },
  {
   "cell_type": "code",
   "execution_count": 16,
   "id": "51ccdd6b-934e-4f05-bbc7-fb5c12562388",
   "metadata": {},
   "outputs": [
    {
     "name": "stdout",
     "output_type": "stream",
     "text": [
      "[1, 3, 6, 10, 15, 21, 28, 36, 45, 55]\n"
     ]
    }
   ],
   "source": [
    "#48. Create a list of the first `n` triangular numbers.\n",
    "\n",
    "n=10\n",
    "\n",
    "triangular_numbers=[]\n",
    "\n",
    "for i in range(1,n+1):\n",
    "    t_n=i*(i+1)//2\n",
    "    triangular_numbers.append(t_n)\n",
    "print(triangular_numbers)"
   ]
  },
  {
   "cell_type": "code",
   "execution_count": 2,
   "id": "d2639a35-9405-411b-9867-30dc7067432f",
   "metadata": {},
   "outputs": [
    {
     "name": "stdout",
     "output_type": "stream",
     "text": [
      "Its not a subsequence of main list\n"
     ]
    }
   ],
   "source": [
    "#49. Check if a list contains another list as a subsequence.\n",
    "\n",
    "main_li=[1,2,3,4,5]\n",
    "sub_li=[6,7]\n",
    "\n",
    "main_length=len(main_li)\n",
    "sub_length=len(sub_li)\n",
    "\n",
    "i=0\n",
    "j=0\n",
    "\n",
    "while i<main_length and j<sub_length:\n",
    "    if main_li[i]==sub_li[j]:\n",
    "        j+=1\n",
    "    i+=1\n",
    "    \n",
    "if j==sub_length:\n",
    "    print(\"The list is subsequence of main list\")\n",
    "else:\n",
    "    print(\"Its not a subsequence of main list\")"
   ]
  },
  {
   "cell_type": "code",
   "execution_count": 4,
   "id": "ec97c89e-2c17-4942-a31b-e9dbcb98adb6",
   "metadata": {},
   "outputs": [
    {
     "name": "stdout",
     "output_type": "stream",
     "text": [
      "Original list:  [1, 2, 3, 4, 5]\n",
      "modified list [1, 3, 2, 4, 5]\n"
     ]
    }
   ],
   "source": [
    "#50. Swap two elements in a list by their indices.\n",
    "li=[1,2,3,4,5]\n",
    "\n",
    "index1=1\n",
    "index2=2\n",
    "\n",
    "print(\"Original list: \",li)\n",
    "\n",
    "li[index1],li[index2]=li[index2],li[index1]\n",
    "\n",
    "print(\"modified list\",li)"
   ]
  },
  {
   "cell_type": "code",
   "execution_count": 5,
   "id": "d0058686-0e22-4477-8086-f4458e78f91c",
   "metadata": {},
   "outputs": [
    {
     "data": {
      "text/plain": [
       "(1, 2, 3, 4, 5)"
      ]
     },
     "execution_count": 5,
     "metadata": {},
     "output_type": "execute_result"
    }
   ],
   "source": [
    "#Tuple Based Practice Problem \n",
    "\n",
    "#1. Create a tuple with integers from 1 to 5.\n",
    "\n",
    "t=(1,2,3,4,5)\n",
    "t"
   ]
  },
  {
   "cell_type": "code",
   "execution_count": 8,
   "id": "4b3ca9bc-43b8-4711-abcb-51db064531a8",
   "metadata": {},
   "outputs": [
    {
     "data": {
      "text/plain": [
       "3"
      ]
     },
     "execution_count": 8,
     "metadata": {},
     "output_type": "execute_result"
    }
   ],
   "source": [
    "#2. Access the third element of a tuple.\n",
    "\n",
    "t=(1,2,3,4,5)\n",
    "t[2]"
   ]
  },
  {
   "cell_type": "code",
   "execution_count": 9,
   "id": "b2c04d95-11ce-4715-8310-103c1dd229df",
   "metadata": {},
   "outputs": [
    {
     "name": "stdout",
     "output_type": "stream",
     "text": [
      "5\n"
     ]
    }
   ],
   "source": [
    "#3. Find the length of a tuple without using the `len()` function.\n",
    "t=(1,2,3,4,5)\n",
    "count=0\n",
    "for i in t:\n",
    "    count+=1\n",
    "print(count)"
   ]
  },
  {
   "cell_type": "code",
   "execution_count": 14,
   "id": "66650620-7b20-4ed7-9d5a-51c54fca9fe8",
   "metadata": {},
   "outputs": [
    {
     "data": {
      "text/plain": [
       "4"
      ]
     },
     "execution_count": 14,
     "metadata": {},
     "output_type": "execute_result"
    }
   ],
   "source": [
    "#4. Count the occurrences of an element in a tuple.\n",
    "\n",
    "t=(1,2,3,4,3,5,3,6,7,3)\n",
    "\n",
    "t.count(3)"
   ]
  },
  {
   "cell_type": "code",
   "execution_count": 17,
   "id": "b4ccf008-7780-4ac0-adf8-725916afd5e1",
   "metadata": {},
   "outputs": [
    {
     "data": {
      "text/plain": [
       "1"
      ]
     },
     "execution_count": 17,
     "metadata": {},
     "output_type": "execute_result"
    }
   ],
   "source": [
    "#5. Find the index of the first occurrence of an element in a tuple.\n",
    "\n",
    "t=(1,2,3,4,5,6,2)\n",
    "t.index(2)"
   ]
  },
  {
   "cell_type": "code",
   "execution_count": 20,
   "id": "9cae0da7-064c-4f70-a170-4d23bd4b43c9",
   "metadata": {},
   "outputs": [
    {
     "name": "stdin",
     "output_type": "stream",
     "text": [
      "Enter the number to check:  2\n"
     ]
    },
    {
     "name": "stdout",
     "output_type": "stream",
     "text": [
      "Element exists in a tuple\n"
     ]
    }
   ],
   "source": [
    "#6. Check if an element exists in a tuple.\n",
    "\n",
    "t=(1,2,3,4,5,6,2)\n",
    "\n",
    "element_to_check=int(input(\"Enter the number to check: \"))\n",
    "\n",
    "if element_to_check in t:\n",
    "    print(\"Element exists in a tuple\")\n",
    "else:\n",
    "    print(\"Element does not exists in a tuple\")"
   ]
  },
  {
   "cell_type": "code",
   "execution_count": 21,
   "id": "f9741ddc-e379-4800-b826-05bf260c8192",
   "metadata": {},
   "outputs": [
    {
     "name": "stdout",
     "output_type": "stream",
     "text": [
      "[1, 2, 3, 4, 5, 6, 2]\n"
     ]
    }
   ],
   "source": [
    "#7. Convert a tuple to a list.\n",
    "\n",
    "t=(1,2,3,4,5,6,2)\n",
    "\n",
    "converted_tuple=list(t)\n",
    "\n",
    "print(converted_tuple)"
   ]
  },
  {
   "cell_type": "code",
   "execution_count": 22,
   "id": "49af5559-6e8f-4258-9ea6-5b52dc0545df",
   "metadata": {},
   "outputs": [
    {
     "name": "stdout",
     "output_type": "stream",
     "text": [
      "(1, 2, 3, 4, 5, 6, 2)\n"
     ]
    }
   ],
   "source": [
    "#8. Convert a list to a tuple.\n",
    "\n",
    "li=[1, 2, 3, 4, 5, 6, 2]\n",
    "\n",
    "converted_li=tuple(li)\n",
    "\n",
    "print(converted_li)"
   ]
  },
  {
   "cell_type": "code",
   "execution_count": 23,
   "id": "d9e944e3-53de-40fb-946c-5415b23b318e",
   "metadata": {},
   "outputs": [
    {
     "name": "stdout",
     "output_type": "stream",
     "text": [
      "a:  1\n",
      "b:  2\n",
      "c:  3\n"
     ]
    }
   ],
   "source": [
    "#9. Unpack the elements of a tuple into variables.\n",
    "\n",
    "t=(1,2,3)\n",
    "\n",
    "a,b,c=t\n",
    "\n",
    "print(\"a: \",a)\n",
    "print(\"b: \",b)\n",
    "print(\"c: \",c)"
   ]
  },
  {
   "cell_type": "code",
   "execution_count": 27,
   "id": "9e361bc2-df91-4f03-bbbc-94365871c8d0",
   "metadata": {},
   "outputs": [
    {
     "name": "stdout",
     "output_type": "stream",
     "text": [
      "(2, 4, 6, 8, 10)\n"
     ]
    }
   ],
   "source": [
    "#10. Create a tuple of even numbers from 1 to 10.\n",
    "\n",
    "even_tuple=[]\n",
    "\n",
    "for i in range(1,11):\n",
    "    if i%2==0:\n",
    "        even_tuple.append(i)\n",
    "print(tuple(even_tuple))"
   ]
  },
  {
   "cell_type": "code",
   "execution_count": 28,
   "id": "3d4ad8b7-0513-494c-a7f4-7acfd44fc4ac",
   "metadata": {},
   "outputs": [
    {
     "name": "stdout",
     "output_type": "stream",
     "text": [
      "(1, 3, 5, 7, 9)\n"
     ]
    }
   ],
   "source": [
    "#11. Create a tuple of odd numbers from 1 to 10.\n",
    "\n",
    "odd_tuple=[]\n",
    "\n",
    "for i in range(1,11):\n",
    "    if i%2!=0:\n",
    "        odd_tuple.append(i)\n",
    "print(tuple(odd_tuple))"
   ]
  },
  {
   "cell_type": "code",
   "execution_count": 29,
   "id": "bfa2c6a6-0ef3-4a47-a8ea-d71c5c2ee952",
   "metadata": {},
   "outputs": [
    {
     "name": "stdout",
     "output_type": "stream",
     "text": [
      "(1, 2, 3, 4, 5, 6)\n"
     ]
    }
   ],
   "source": [
    "#12. Concatenate two tuples.\n",
    "t1=(1,2,3)\n",
    "t2=(4,5,6)\n",
    "\n",
    "print(t1+t2)"
   ]
  },
  {
   "cell_type": "code",
   "execution_count": 30,
   "id": "74506079-9ee2-4d19-8a35-08ff98a70a26",
   "metadata": {},
   "outputs": [
    {
     "name": "stdout",
     "output_type": "stream",
     "text": [
      "(1, 2, 3, 4, 5, 1, 2, 3, 4, 5, 1, 2, 3, 4, 5)\n"
     ]
    }
   ],
   "source": [
    "#13. Repeat a tuple three times.\n",
    "\n",
    "t=(1,2,3,4,5)\n",
    "\n",
    "repeted_tuple=t*3\n",
    "\n",
    "print(repeted_tuple)"
   ]
  },
  {
   "cell_type": "code",
   "execution_count": 32,
   "id": "1f6052f9-f21f-403b-a6f6-84f0b3b90fac",
   "metadata": {},
   "outputs": [
    {
     "name": "stdout",
     "output_type": "stream",
     "text": [
      "tuple is empty\n"
     ]
    }
   ],
   "source": [
    "#14. Check if a tuple is empty.\n",
    "\n",
    "t=()\n",
    "\n",
    "if not t:\n",
    "    print(\"tuple is empty\")\n",
    "else:\n",
    "    print(\"tuple is not empty\")"
   ]
  },
  {
   "cell_type": "code",
   "execution_count": 33,
   "id": "eec1c11f-33de-4cdb-89e9-2fcf0a43c7d6",
   "metadata": {},
   "outputs": [
    {
     "name": "stdout",
     "output_type": "stream",
     "text": [
      "((1, 2), (3, 4), (5, 6), (6, 7))\n"
     ]
    }
   ],
   "source": [
    "#15. Create a nested tuple.\n",
    "\n",
    "t=((1,2),(3,4),(5,6),(6,7))\n",
    "print(t)"
   ]
  },
  {
   "cell_type": "code",
   "execution_count": 35,
   "id": "ea7e2b91-d040-4cea-b6c9-6d8552425c88",
   "metadata": {},
   "outputs": [
    {
     "name": "stdout",
     "output_type": "stream",
     "text": [
      "1\n"
     ]
    }
   ],
   "source": [
    "#16. Access the first element of a nested tuple.\n",
    "\n",
    "t=((1,2),(3,4),(5,6),(6,7))\n",
    "\n",
    "first_element=t[0][0]\n",
    "\n",
    "print(first_element)"
   ]
  },
  {
   "cell_type": "code",
   "execution_count": 37,
   "id": "7d804822-2440-4816-bd2f-009c80a863ec",
   "metadata": {},
   "outputs": [
    {
     "data": {
      "text/plain": [
       "(1,)"
      ]
     },
     "execution_count": 37,
     "metadata": {},
     "output_type": "execute_result"
    }
   ],
   "source": [
    "#17. Create a tuple with a single element.\n",
    "\n",
    "t=(1,)\n",
    "t"
   ]
  },
  {
   "cell_type": "code",
   "execution_count": 40,
   "id": "d73ea2f4-9764-4ab9-a91a-9271ef521cc7",
   "metadata": {},
   "outputs": [
    {
     "name": "stdout",
     "output_type": "stream",
     "text": [
      "Tuples are not equal\n"
     ]
    }
   ],
   "source": [
    "#18. Compare two tuples.\n",
    "\n",
    "t1=(1,2,3,4)\n",
    "t2=(5,2,3,4)\n",
    "\n",
    "if t1==t2:\n",
    "    print(\"Tuples are equal\")\n",
    "else:\n",
    "    print(\"Tuples are not equal\")"
   ]
  },
  {
   "cell_type": "code",
   "execution_count": 43,
   "id": "7186fab4-3ecf-4aa9-86ef-4944669d7fb7",
   "metadata": {},
   "outputs": [],
   "source": [
    "#19. Delete a tuple.\n",
    "t=(1,2,3,4,5)\n",
    "del t"
   ]
  },
  {
   "cell_type": "code",
   "execution_count": 45,
   "id": "4a05a75c-84cc-4dc0-b022-9dbde249f4f7",
   "metadata": {},
   "outputs": [
    {
     "name": "stdout",
     "output_type": "stream",
     "text": [
      "(2, 3, 4)\n"
     ]
    }
   ],
   "source": [
    "#20. Slice a tuple.\n",
    "\n",
    "t=(1,2,3,4,5)\n",
    "\n",
    "slicing_tuple=t[1:4]\n",
    "\n",
    "print(slicing_tuple)"
   ]
  },
  {
   "cell_type": "code",
   "execution_count": 46,
   "id": "3b084fc4-e4b1-4426-ace6-e5cd63abd75b",
   "metadata": {},
   "outputs": [
    {
     "name": "stdout",
     "output_type": "stream",
     "text": [
      "5\n"
     ]
    }
   ],
   "source": [
    "#21. Find the maximum value in a tuple.\n",
    "\n",
    "t=(1,2,3,4,5)\n",
    "\n",
    "maximum_value=max(t)\n",
    "\n",
    "print(maximum_value)"
   ]
  },
  {
   "cell_type": "code",
   "execution_count": 47,
   "id": "473b99af-c9b7-421f-84f3-ed9ff2b5cc50",
   "metadata": {},
   "outputs": [
    {
     "name": "stdout",
     "output_type": "stream",
     "text": [
      "1\n"
     ]
    }
   ],
   "source": [
    "#22. Find the minimum value in a tuple.\n",
    "\n",
    "t=(1,2,3,4,5)\n",
    "\n",
    "minimum_value=min(t)\n",
    "\n",
    "print(minimum_value)"
   ]
  },
  {
   "cell_type": "code",
   "execution_count": 49,
   "id": "c442debe-2366-4112-ace6-ab5a72b1593a",
   "metadata": {},
   "outputs": [
    {
     "data": {
      "text/plain": [
       "('s', 'h', 'r', 'a', 'd', 'd', 'h', 'a')"
      ]
     },
     "execution_count": 49,
     "metadata": {},
     "output_type": "execute_result"
    }
   ],
   "source": [
    "#23. Convert a string to a tuple of characters.\n",
    "\n",
    "string=\"shraddha\"\n",
    "tuple(string)"
   ]
  },
  {
   "cell_type": "code",
   "execution_count": 54,
   "id": "5e88f452-b9f7-42b1-b52b-86e3c5caebce",
   "metadata": {},
   "outputs": [
    {
     "name": "stdout",
     "output_type": "stream",
     "text": [
      "shraddha\n"
     ]
    }
   ],
   "source": [
    "#24. Convert a tuple of characters to a string.\n",
    "\n",
    "char=('s', 'h', 'r', 'a', 'd', 'd', 'h', 'a')\n",
    "string=''.join(char)\n",
    "print(string)"
   ]
  },
  {
   "cell_type": "code",
   "execution_count": 55,
   "id": "f01aad79-d170-4631-8408-53b5b52ca93f",
   "metadata": {},
   "outputs": [
    {
     "data": {
      "text/plain": [
       "(1, 2.5, 'mau', (2, 3))"
      ]
     },
     "execution_count": 55,
     "metadata": {},
     "output_type": "execute_result"
    }
   ],
   "source": [
    "#25. Create a tuple from multiple data types.\n",
    "\n",
    "t=(1,2.5,\"mau\",(2,3))\n",
    "t"
   ]
  },
  {
   "cell_type": "code",
   "execution_count": 57,
   "id": "af37b0cb-01fa-4230-8522-825afe00dde2",
   "metadata": {},
   "outputs": [
    {
     "name": "stdout",
     "output_type": "stream",
     "text": [
      "Tuples are identical\n"
     ]
    }
   ],
   "source": [
    "#26. Check if two tuples are identical.\n",
    "t1=(1,2,3)\n",
    "t2=(1,2,3)\n",
    "\n",
    "if t1==t2:\n",
    "    print(\"Tuples are identical\")\n",
    "else:\n",
    "    print(\"Tuples are not identical\")"
   ]
  },
  {
   "cell_type": "code",
   "execution_count": 59,
   "id": "7596e64b-9c1b-4ac6-b61f-880333269e94",
   "metadata": {},
   "outputs": [
    {
     "name": "stdout",
     "output_type": "stream",
     "text": [
      "(1, 3, 4, 5, 7, 8)\n"
     ]
    }
   ],
   "source": [
    "#27. Sort the elements of a tuple.\n",
    "\n",
    "t=(1,3,4,5,8,7)\n",
    "sorted_tuple=tuple(sorted(t))\n",
    "print(sorted_tuple)"
   ]
  },
  {
   "cell_type": "code",
   "execution_count": 63,
   "id": "2e936a4f-4799-48d0-9e07-9234ab7693bd",
   "metadata": {},
   "outputs": [
    {
     "name": "stdout",
     "output_type": "stream",
     "text": [
      "('1', '2', '3', '4', '5')\n"
     ]
    }
   ],
   "source": [
    "#28. Convert a tuple of integers to a tuple of strings.\n",
    "\n",
    "tuple_of_integers=(1,2,3,4,5)\n",
    "\n",
    "tuple_of_string=(tuple(str(i) for i in tuple_of_integers))\n",
    "\n",
    "print(tuple_of_string)"
   ]
  },
  {
   "cell_type": "code",
   "execution_count": 64,
   "id": "98da609e-a611-4692-b100-3bdccdbfd424",
   "metadata": {},
   "outputs": [
    {
     "name": "stdout",
     "output_type": "stream",
     "text": [
      "(1, 2, 3, 4, 5)\n"
     ]
    }
   ],
   "source": [
    "#29. Convert a tuple of strings to a tuple of integers.\n",
    "\n",
    "tuple_of_string=('1', '2', '3', '4', '5')\n",
    "\n",
    "tuple_of_integers=tuple(int(i) for i in tuple_of_string)\n",
    "\n",
    "print(tuple_of_integers)"
   ]
  },
  {
   "cell_type": "code",
   "execution_count": 65,
   "id": "7c9bf8cd-e0a3-4334-9860-8176a691107a",
   "metadata": {},
   "outputs": [
    {
     "name": "stdout",
     "output_type": "stream",
     "text": [
      "(1, 2, 3, 4, 5, 6)\n"
     ]
    }
   ],
   "source": [
    "#30. Merge two tuples.\n",
    "\n",
    "t1=(1,2,3)\n",
    "t2=(4,5,6)\n",
    "\n",
    "merge_tuple=t1+t2\n",
    "\n",
    "print(merge_tuple)"
   ]
  },
  {
   "cell_type": "code",
   "execution_count": 67,
   "id": "e52e6e5d-7425-4f2a-90a3-6ab7a8aebaac",
   "metadata": {},
   "outputs": [
    {
     "name": "stdout",
     "output_type": "stream",
     "text": [
      "(1, 2, 3, 4, 5, 6, 7, 8)\n"
     ]
    }
   ],
   "source": [
    "#31. Flatten a nested tuple.\n",
    "\n",
    "t=((1,2),(3,4),(5,6),(7,8))\n",
    "\n",
    "flatten_tuple=tuple((item for i in t for item in i))\n",
    "\n",
    "print(flatten_tuple)"
   ]
  },
  {
   "cell_type": "code",
   "execution_count": 69,
   "id": "b49943b6-dad9-480e-a625-c77230cb0a42",
   "metadata": {},
   "outputs": [
    {
     "name": "stdout",
     "output_type": "stream",
     "text": [
      "(2, 3, 5)\n"
     ]
    }
   ],
   "source": [
    "#32. Create a tuple of the first 5 prime numbers.\n",
    "\n",
    "prime_numbers=[]\n",
    "\n",
    "for num in range(2,6):\n",
    "    is_prime=True\n",
    "    \n",
    "    for i in range(2,int(num ** 0.5)+1):\n",
    "        if num%i==0:\n",
    "            is_prime=False\n",
    "            break\n",
    "    if is_prime:\n",
    "        prime_numbers.append(num)\n",
    "        \n",
    "print(tuple(prime_numbers))"
   ]
  },
  {
   "cell_type": "code",
   "execution_count": 72,
   "id": "cf47e169-6284-4ead-a449-414ec0ecc990",
   "metadata": {},
   "outputs": [
    {
     "name": "stdout",
     "output_type": "stream",
     "text": [
      "Tuple is a palindrome\n"
     ]
    }
   ],
   "source": [
    "#33. Check if a tuple is a palindrome.\n",
    "\n",
    "t=(1,2,2,1)\n",
    "\n",
    "palindrome_list=list(t)\n",
    "\n",
    "reversed_list=palindrome_list[::-1]\n",
    "\n",
    "palindrome_tuple=tuple(reversed_list)\n",
    "\n",
    "if t==palindrome_tuple:\n",
    "    print(\"Tuple is a palindrome\")\n",
    "else:\n",
    "    print(\"Tuple is not palindrome\")"
   ]
  },
  {
   "cell_type": "code",
   "execution_count": 73,
   "id": "1e6b49ea-4893-41e1-ad27-54b0c19ff926",
   "metadata": {},
   "outputs": [
    {
     "name": "stdout",
     "output_type": "stream",
     "text": [
      "(1, 4, 9, 16, 25)\n"
     ]
    }
   ],
   "source": [
    "#34. Create a tuple of squares of numbers from 1 to 5.\n",
    "\n",
    "sqaures_of_numbers=[]\n",
    "\n",
    "for i in range(1,6):\n",
    "    sqaures_of_numbers.append(i**2)\n",
    "print(tuple(sqaures_of_numbers))"
   ]
  },
  {
   "cell_type": "code",
   "execution_count": 78,
   "id": "5bac39d9-f5f9-40a7-b266-7a035e8751db",
   "metadata": {},
   "outputs": [
    {
     "name": "stdout",
     "output_type": "stream",
     "text": [
      "(2, 4, 6, 8, 10, 12)\n"
     ]
    }
   ],
   "source": [
    "#35. Filter out all even numbers from a tuple.\n",
    "\n",
    "t=(1,2,3,4,5,6,7,8,9,10,12)\n",
    "\n",
    "even_numbers=tuple(i for i in t if i%2==0)\n",
    "\n",
    "print(even_numbers)"
   ]
  },
  {
   "cell_type": "code",
   "execution_count": 81,
   "id": "0dd78a53-553a-475d-875b-f430686b2c6f",
   "metadata": {},
   "outputs": [
    {
     "name": "stdout",
     "output_type": "stream",
     "text": [
      "(2, 4, 6, 8, 10)\n"
     ]
    }
   ],
   "source": [
    "#36. Multiply all elements in a tuple by 2.\n",
    "\n",
    "t=(1,2,3,4,5)\n",
    "\n",
    "multiple_by_two=tuple(i*2 for i in t)\n",
    "\n",
    "print(multiple_by_two)"
   ]
  },
  {
   "cell_type": "code",
   "execution_count": 85,
   "id": "2713c076-21ed-4f8b-9498-b66f84e7292b",
   "metadata": {},
   "outputs": [
    {
     "name": "stdout",
     "output_type": "stream",
     "text": [
      "(11, 15, 3, 23, 42)\n"
     ]
    }
   ],
   "source": [
    "#37. Create a tuple of random numbers.\n",
    "import random\n",
    "\n",
    "random_tuples=tuple(random.randint(1,100) for i in range(5))\n",
    "\n",
    "print(random_tuples)"
   ]
  },
  {
   "cell_type": "code",
   "execution_count": 89,
   "id": "0d50f8e8-b9d8-4d73-b23a-20f08244e6b7",
   "metadata": {},
   "outputs": [
    {
     "name": "stdout",
     "output_type": "stream",
     "text": [
      "The tuple is not sorted\n"
     ]
    }
   ],
   "source": [
    "#38. Check if a tuple is sorted.\n",
    "\n",
    "t=(1,2,3,8,6,7)\n",
    "\n",
    "sorted_tuple=tuple(sorted(t))\n",
    "\n",
    "if t==sorted_tuple:\n",
    "    print(\"The tuple is sorted\")\n",
    "else:\n",
    "    print(\"The tuple is not sorted\")"
   ]
  },
  {
   "cell_type": "code",
   "execution_count": 90,
   "id": "f11009ed-8c1c-4e8f-b337-1f12c1e900e1",
   "metadata": {},
   "outputs": [
    {
     "name": "stdout",
     "output_type": "stream",
     "text": [
      "(3, 4, 5, 6, 1, 2)\n"
     ]
    }
   ],
   "source": [
    "#39. Rotate a tuple to the left by `n` positions.\n",
    "\n",
    "t=(1,2,3,4,5,6)\n",
    "\n",
    "n=2\n",
    "rotate_left=t[n:]+t[:n]\n",
    "print(rotate_left)"
   ]
  },
  {
   "cell_type": "code",
   "execution_count": 91,
   "id": "6f26562a-ab14-415d-b3d4-3a6b35ca2880",
   "metadata": {},
   "outputs": [
    {
     "name": "stdout",
     "output_type": "stream",
     "text": [
      "(5, 6, 1, 2, 3, 4)\n"
     ]
    }
   ],
   "source": [
    "#40. Rotate a tuple to the right by `n` positions.\n",
    "t=(1,2,3,4,5,6)\n",
    "\n",
    "n=2\n",
    "rotate_right=t[-n:]+t[:-n]\n",
    "print(rotate_right)"
   ]
  },
  {
   "cell_type": "code",
   "execution_count": 97,
   "id": "03355ab7-3093-4a93-9821-b6e7da4caa98",
   "metadata": {},
   "outputs": [
    {
     "name": "stdout",
     "output_type": "stream",
     "text": [
      "(0, 1, 1, 2, 3)\n"
     ]
    }
   ],
   "source": [
    "#41. Create a tuple of the first 5 Fibonacci numbers.\n",
    "n=5\n",
    "\n",
    "fibonacci_series=[0,1]\n",
    "\n",
    "for _ in range(2,n):\n",
    "    next_fibonacci=fibonacci_series[-1]+fibonacci_series[-2]\n",
    "    fibonacci_series.append(next_fibonacci)\n",
    "print(tuple(fibonacci_series))"
   ]
  },
  {
   "cell_type": "code",
   "execution_count": 102,
   "id": "084a2fc5-6926-4055-a905-716f2596c852",
   "metadata": {},
   "outputs": [
    {
     "name": "stdin",
     "output_type": "stream",
     "text": [
      "Enter the elements seperated by spaces:  1 2 3 4 5 6\n"
     ]
    },
    {
     "name": "stdout",
     "output_type": "stream",
     "text": [
      "(1, 2, 3, 4, 5, 6)\n"
     ]
    }
   ],
   "source": [
    "#42. Create a tuple from user input.\n",
    "t=input(\"Enter the elements seperated by spaces: \").split()\n",
    "\n",
    "user_tuple=tuple(int(i) for i in t)\n",
    "\n",
    "print(user_tuple)"
   ]
  },
  {
   "cell_type": "code",
   "execution_count": 104,
   "id": "1d26d6fe-7f20-482f-9291-a6273cb07c7b",
   "metadata": {},
   "outputs": [
    {
     "data": {
      "text/plain": [
       "(1, 3, 2, 4, 5)"
      ]
     },
     "execution_count": 104,
     "metadata": {},
     "output_type": "execute_result"
    }
   ],
   "source": [
    "#43. Swap two elements in a tuple.\n",
    "\n",
    "t=(1,2,3,4,5)\n",
    "\n",
    "convert_list=list(t)\n",
    "\n",
    "convert_list[1],convert_list[2]=convert_list[2],convert_list[1]\n",
    "\n",
    "tuple(convert_list)"
   ]
  },
  {
   "cell_type": "code",
   "execution_count": 105,
   "id": "f436bf5c-8b0c-45d7-95bd-d6ccd1ba55b6",
   "metadata": {},
   "outputs": [
    {
     "name": "stdout",
     "output_type": "stream",
     "text": [
      "(5, 4, 3, 2, 1)\n"
     ]
    }
   ],
   "source": [
    "#44. Reverse the elements of a tuple.\n",
    "t=(1,2,3,4,5)\n",
    "reverse_elements=t[::-1]\n",
    "print(reverse_elements)"
   ]
  },
  {
   "cell_type": "code",
   "execution_count": 106,
   "id": "df6d0147-08f1-478e-a1bf-e68099ae6065",
   "metadata": {},
   "outputs": [
    {
     "name": "stdout",
     "output_type": "stream",
     "text": [
      "(1, 2, 4, 8, 16)\n"
     ]
    }
   ],
   "source": [
    "#45. Create a tuple of the first `n` powers of 2.\n",
    "n=5\n",
    "\n",
    "power_of_two=tuple(2**i for i in range(n))\n",
    "\n",
    "print(power_of_two)"
   ]
  },
  {
   "cell_type": "code",
   "execution_count": 107,
   "id": "c3098e79-5427-490d-92bb-3f0e4753493b",
   "metadata": {},
   "outputs": [
    {
     "name": "stdout",
     "output_type": "stream",
     "text": [
      "shraddha\n"
     ]
    }
   ],
   "source": [
    "#46. Find the longest string in a tuple of strings.\n",
    "\n",
    "t=(\"kau\",\"mau\",\"shraddha\")\n",
    "\n",
    "longets_string=\"\"\n",
    "\n",
    "for i in t:\n",
    "    if len(i)>len(longets_string):\n",
    "        longets_string=i\n",
    "print(longets_string)"
   ]
  },
  {
   "cell_type": "code",
   "execution_count": 111,
   "id": "ae62b0f5-091d-4ce9-bd89-3b88736c98fe",
   "metadata": {},
   "outputs": [
    {
     "name": "stdout",
     "output_type": "stream",
     "text": [
      "a\n"
     ]
    }
   ],
   "source": [
    "#47. Find the shortest string in a tuple of strings.\n",
    "t=(\"kauu\",\"mau\",\"shraddha\",\"ok\",\"a\")\n",
    "\n",
    "if t:\n",
    "    shorted_string=t[0]\n",
    "    \n",
    "    for i in t:\n",
    "        if len(i)<len(shorted_string):\n",
    "            shorted_string=i\n",
    "    print(shorted_string)"
   ]
  },
  {
   "cell_type": "code",
   "execution_count": 114,
   "id": "2143afc1-544d-4269-8882-8801fd879571",
   "metadata": {},
   "outputs": [
    {
     "name": "stdout",
     "output_type": "stream",
     "text": [
      "(1, 3, 6, 10, 15)\n"
     ]
    }
   ],
   "source": [
    "#48. Create a tuple of the first `n` triangular numbers.\n",
    "n=5\n",
    "numbers=[]\n",
    "for i in range(1,n+1):\n",
    "    traingular_numbers=i*(i+1)//2\n",
    "    numbers.append(traingular_numbers)\n",
    "print(tuple(numbers))"
   ]
  },
  {
   "cell_type": "code",
   "execution_count": 2,
   "id": "23854ff6-0b6f-42af-98f9-27241b1cf437",
   "metadata": {},
   "outputs": [
    {
     "name": "stdout",
     "output_type": "stream",
     "text": [
      "The tuple does not contain subsequence\n"
     ]
    }
   ],
   "source": [
    "#49. Check if a tuple contains another tuple as a subsequence.\n",
    "main_tuple=(1,2,3,4,5)\n",
    "sub_tuple=(10,15)\n",
    "\n",
    "len_main_tuple=len(main_tuple)\n",
    "len_sub_tuple=len(sub_tuple)\n",
    "\n",
    "i=0\n",
    "j=0\n",
    "\n",
    "while i<len_main_tuple and j<len_sub_tuple:\n",
    "    if sub_tuple[j]==main_tuple[i]:\n",
    "        j+=1\n",
    "    i+=1\n",
    "    \n",
    "if j==len_sub_tuple:\n",
    "    print(\"The tuple contains subsequence\")\n",
    "else:\n",
    "    print(\"The tuple does not contain subsequence\")"
   ]
  },
  {
   "cell_type": "code",
   "execution_count": 3,
   "id": "20358594-64fe-43ce-ab1d-a255af943c4b",
   "metadata": {},
   "outputs": [
    {
     "name": "stdin",
     "output_type": "stream",
     "text": [
      "Enter the n value:  5\n"
     ]
    },
    {
     "name": "stdout",
     "output_type": "stream",
     "text": [
      "(1, 0, 1, 0, 1)\n"
     ]
    }
   ],
   "source": [
    "#50. Create a tuple of alternating 1s and 0s of length `n`.\n",
    "\n",
    "n=int(input(\"Enter the n value: \"))\n",
    "\n",
    "alternation=tuple(1 if i%2==0 else 0 for i in range(n))\n",
    "print(alternation)"
   ]
  },
  {
   "cell_type": "code",
   "execution_count": 8,
   "id": "ed907d68-282f-4530-85f1-50472d1a5053",
   "metadata": {},
   "outputs": [
    {
     "name": "stdout",
     "output_type": "stream",
     "text": [
      "{1, 2, 3, 4, 5}\n"
     ]
    }
   ],
   "source": [
    "#Set Based Practice Problem \n",
    "\n",
    "#1. Create a set with integers from 1 to 5.\n",
    "\n",
    "s=set(range(1,6))\n",
    "print(s)"
   ]
  },
  {
   "cell_type": "code",
   "execution_count": 10,
   "id": "f62ad45e-715d-4cf0-bc10-8642276660c7",
   "metadata": {},
   "outputs": [
    {
     "name": "stdout",
     "output_type": "stream",
     "text": [
      "{1, 2, 3, 4, 5, 6}\n"
     ]
    }
   ],
   "source": [
    "#2. Add an element to a set.\n",
    "s={1, 2, 3, 4, 5}\n",
    "\n",
    "add_element=s.add(6)\n",
    "print(s)"
   ]
  },
  {
   "cell_type": "code",
   "execution_count": 11,
   "id": "f2a737e0-89c5-4bd2-82fe-a746726c8472",
   "metadata": {},
   "outputs": [
    {
     "name": "stdout",
     "output_type": "stream",
     "text": [
      "{1, 2, 3, 4, 5}\n"
     ]
    }
   ],
   "source": [
    "#3. Remove an element from a set.\n",
    "s={1,2,3,4,5,6}\n",
    "remove_element=s.remove(6)\n",
    "print(s)"
   ]
  },
  {
   "cell_type": "code",
   "execution_count": 15,
   "id": "140d3b71-bdc8-4494-8da6-562cb26a1e80",
   "metadata": {},
   "outputs": [
    {
     "name": "stdin",
     "output_type": "stream",
     "text": [
      "Enter the element:  5\n"
     ]
    },
    {
     "name": "stdout",
     "output_type": "stream",
     "text": [
      "Element is exists in tuple\n"
     ]
    }
   ],
   "source": [
    "#4. Check if an element exists in a set.\n",
    "s={1,2,3,4,5,6}\n",
    "element_to_check=int(input(\"Enter the element: \"))\n",
    "\n",
    "if element_to_check in s:\n",
    "    print(\"Element is exists in tuple\")\n",
    "else:\n",
    "    print(\"Element not exists in tuple\")"
   ]
  },
  {
   "cell_type": "code",
   "execution_count": 16,
   "id": "cbc7cb01-c84a-4b97-a30a-622d52e5c8e5",
   "metadata": {},
   "outputs": [
    {
     "name": "stdout",
     "output_type": "stream",
     "text": [
      "7\n"
     ]
    }
   ],
   "source": [
    "#5. Find the length of a set without using the `len()` function.\n",
    "s={1,2,3,4,5,6,7}\n",
    "count=0\n",
    "\n",
    "for i in s:\n",
    "    count+=1\n",
    "print(count)"
   ]
  },
  {
   "cell_type": "code",
   "execution_count": 17,
   "id": "e04e2206-378e-4b77-a2fd-4b98b7689a45",
   "metadata": {},
   "outputs": [],
   "source": [
    "#6. Clear all elements from a set.\n",
    "\n",
    "s={1,2,3,4,5}\n",
    "s.clear()"
   ]
  },
  {
   "cell_type": "code",
   "execution_count": 20,
   "id": "f9449f2a-26ae-4a57-ac45-fd0010cd6f8b",
   "metadata": {},
   "outputs": [
    {
     "name": "stdout",
     "output_type": "stream",
     "text": [
      "{2, 4, 6, 8, 10}\n"
     ]
    }
   ],
   "source": [
    "#7. Create a set of even numbers from 1 to 10.\n",
    "\n",
    "set_even_numbers=set(i for i in range(1,11) if i%2==0)\n",
    "print(set_even_numbers)"
   ]
  },
  {
   "cell_type": "code",
   "execution_count": 21,
   "id": "55bf12fb-e62e-4056-9cc7-d191fc474202",
   "metadata": {},
   "outputs": [
    {
     "name": "stdout",
     "output_type": "stream",
     "text": [
      "{1, 3, 5, 7, 9}\n"
     ]
    }
   ],
   "source": [
    "#8. Create a set of odd numbers from 1 to 10.\n",
    "set_odd_numbers=set(i for i in range(1,11) if i%2!=0)\n",
    "print(set_odd_numbers)"
   ]
  },
  {
   "cell_type": "code",
   "execution_count": 25,
   "id": "e3e15c51-374c-4a00-9b87-377ecad6b5b7",
   "metadata": {},
   "outputs": [
    {
     "name": "stdout",
     "output_type": "stream",
     "text": [
      "{1, 2, 3, 4, 5, 6, 7, 8, 9}\n"
     ]
    }
   ],
   "source": [
    "#9. Find the union of two sets.\n",
    "s1={1,2,3,4,5}\n",
    "s2={5,6,7,8,9}\n",
    "\n",
    "union_set=s1 | s2\n",
    "print(union_set)"
   ]
  },
  {
   "cell_type": "code",
   "execution_count": 27,
   "id": "b56532b0-453e-422f-8efb-7a99ee5862ad",
   "metadata": {},
   "outputs": [
    {
     "name": "stdout",
     "output_type": "stream",
     "text": [
      "{1, 5}\n"
     ]
    }
   ],
   "source": [
    "#10. Find the intersection of two sets.\n",
    "s1={1,2,3,4,5}\n",
    "s2={5,6,7,8,9,1}\n",
    "\n",
    "intersection_set=s1 & s2\n",
    "print(intersection_set)"
   ]
  },
  {
   "cell_type": "code",
   "execution_count": 30,
   "id": "23c3d48a-680f-40e2-bde8-3d1cbb8f7c08",
   "metadata": {},
   "outputs": [
    {
     "name": "stdout",
     "output_type": "stream",
     "text": [
      "{2, 3, 4}\n"
     ]
    }
   ],
   "source": [
    "#11. Find the difference between two sets.\n",
    "s1={1,2,3,4,5}\n",
    "s2={5,6,7,8,9,1}\n",
    "\n",
    "difference_elements=s1.difference(s2)\n",
    "print(difference_elements)"
   ]
  },
  {
   "cell_type": "code",
   "execution_count": 33,
   "id": "c2986932-e606-4498-8d33-2d6609ae3407",
   "metadata": {},
   "outputs": [
    {
     "name": "stdout",
     "output_type": "stream",
     "text": [
      "True\n"
     ]
    }
   ],
   "source": [
    "#12. Check if a set is a subset of another set.\n",
    "s1={1,2,3}\n",
    "s2={1,2,3,4,5}\n",
    "\n",
    "check_subset=s1.issubset(s2)\n",
    "print(check_subset)"
   ]
  },
  {
   "cell_type": "code",
   "execution_count": 35,
   "id": "a80b3805-ac4a-4dc3-aaa8-efa80efd25a5",
   "metadata": {},
   "outputs": [
    {
     "name": "stdout",
     "output_type": "stream",
     "text": [
      "True\n"
     ]
    }
   ],
   "source": [
    "#13. Check if a set is a superset of another set.\n",
    "s1={1,2,3,4,5}\n",
    "s2={1,2,3}\n",
    "\n",
    "check_superset=s1.issuperset(s2)\n",
    "print(check_superset)"
   ]
  },
  {
   "cell_type": "code",
   "execution_count": 36,
   "id": "d41e90ef-e77e-409e-96d7-7f7c4993f610",
   "metadata": {},
   "outputs": [
    {
     "name": "stdout",
     "output_type": "stream",
     "text": [
      "{1, 2, 3, 4, 5}\n"
     ]
    }
   ],
   "source": [
    "#14. Create a set from a list.\n",
    "li=[1,2,3,4,5]\n",
    "list_to_set=set(li)\n",
    "print(list_to_set)"
   ]
  },
  {
   "cell_type": "code",
   "execution_count": 37,
   "id": "783edf3f-12d0-401b-972b-9739710dcef3",
   "metadata": {},
   "outputs": [
    {
     "name": "stdout",
     "output_type": "stream",
     "text": [
      "[1, 2, 3, 4, 5]\n"
     ]
    }
   ],
   "source": [
    "#15. Convert a set to a list.\n",
    "s={1,2,3,4,5}\n",
    "set_to_list=list(s)\n",
    "print(set_to_list)"
   ]
  },
  {
   "cell_type": "code",
   "execution_count": 43,
   "id": "77268d59-7f0c-4291-a0f2-f0e7266bd0e1",
   "metadata": {},
   "outputs": [
    {
     "name": "stdout",
     "output_type": "stream",
     "text": [
      "The original set:  {1, 2, 3, 4, 5}\n",
      "The modified set:  {2, 3, 4, 5}\n",
      "The random element is:  1\n"
     ]
    }
   ],
   "source": [
    "#16. Remove a random element from a set.\n",
    "s={1,2,3,4,5}\n",
    "print(\"The original set: \",s)\n",
    "remove_random_element=s.pop()\n",
    "print(\"The modified set: \",s)\n",
    "print(\"The random element is: \",remove_random_element)"
   ]
  },
  {
   "cell_type": "code",
   "execution_count": 45,
   "id": "44a061d4-9f5a-4804-9f06-34cbe6354c14",
   "metadata": {},
   "outputs": [
    {
     "name": "stdout",
     "output_type": "stream",
     "text": [
      "1\n"
     ]
    }
   ],
   "source": [
    "#17. Pop an element from a set.\n",
    "s={1,2,3,4,5}\n",
    "pop_element=s.pop()\n",
    "print(pop_element)"
   ]
  },
  {
   "cell_type": "code",
   "execution_count": 47,
   "id": "e1449d8e-3f67-438e-befc-e188717d6e04",
   "metadata": {},
   "outputs": [
    {
     "name": "stdout",
     "output_type": "stream",
     "text": [
      "The sets have no common elements\n"
     ]
    }
   ],
   "source": [
    "#18. Check if two sets have no elements in common.\n",
    "s1={1,2,3,4,5}\n",
    "s2={6,7,8,9}\n",
    "\n",
    "check_no_common=s1.isdisjoint(s2)\n",
    "if check_no_common:\n",
    "    print(\"The sets have no common elements\")\n",
    "else:\n",
    "    print(\"The sets have common elements\")"
   ]
  },
  {
   "cell_type": "code",
   "execution_count": 51,
   "id": "cb2de216-e0d0-4298-8d00-a6a463ad458e",
   "metadata": {},
   "outputs": [
    {
     "name": "stdout",
     "output_type": "stream",
     "text": [
      "{1, 2, 3, 4, 7, 8, 9}\n"
     ]
    }
   ],
   "source": [
    "#19. Find the symmetric difference between two sets.\n",
    "s1={1,2,3,4,5,6}\n",
    "s2={5,6,7,8,9}\n",
    "\n",
    "symmetric_diff=s1.symmetric_difference(s2)\n",
    "print(symmetric_diff)"
   ]
  },
  {
   "cell_type": "code",
   "execution_count": 53,
   "id": "06648a27-84dc-47df-8397-e42d48ef6b40",
   "metadata": {},
   "outputs": [
    {
     "name": "stdout",
     "output_type": "stream",
     "text": [
      "{1, 2, 3, 4, 5, 6, 7}\n"
     ]
    }
   ],
   "source": [
    "#20. Update a set with elements from another set.\n",
    "s1={1,2,3,4}\n",
    "s2={4,5,6,7}\n",
    "\n",
    "update_elements=s1.update(s2)\n",
    "print(s1)"
   ]
  },
  {
   "cell_type": "code",
   "execution_count": 55,
   "id": "b028817f-17db-4bcf-a765-ccb9ff29f498",
   "metadata": {},
   "outputs": [
    {
     "name": "stdout",
     "output_type": "stream",
     "text": [
      "{2, 3, 5}\n"
     ]
    }
   ],
   "source": [
    "#21. Create a set of the first 5 prime numbers.\n",
    "prime_numbers=[]\n",
    "\n",
    "for num in range(2,6):\n",
    "    is_prime=True\n",
    "    \n",
    "    for i in range(2,int(num**0.5)+1):\n",
    "        if num%i==0:\n",
    "            is_prime=False\n",
    "            break\n",
    "    if is_prime:\n",
    "        prime_numbers.append(num)\n",
    "print(set(prime_numbers))"
   ]
  },
  {
   "cell_type": "code",
   "execution_count": 57,
   "id": "59ab7cce-ce7c-43c3-8ab8-eddc5aaa4b93",
   "metadata": {},
   "outputs": [
    {
     "name": "stdout",
     "output_type": "stream",
     "text": [
      "The sets are not identical\n"
     ]
    }
   ],
   "source": [
    "#22. Check if two sets are identical.\n",
    "s1={1,2,3}\n",
    "s2={1,2,3,4}\n",
    "\n",
    "if s1==s2:\n",
    "    print(\"The sets are identical\")\n",
    "else:\n",
    "    print(\"The sets are not identical\")"
   ]
  },
  {
   "cell_type": "code",
   "execution_count": 59,
   "id": "f82a419b-938d-4174-99c1-3c28b3cf69c5",
   "metadata": {},
   "outputs": [
    {
     "name": "stdout",
     "output_type": "stream",
     "text": [
      "frozenset({1, 2, 3, 4, 5, 6})\n"
     ]
    }
   ],
   "source": [
    "#23. Create a frozen set.\n",
    "\n",
    "s={1,2,3,4,5,6}\n",
    "\n",
    "frozent_sets=frozenset(s)\n",
    "print(frozent_sets)"
   ]
  },
  {
   "cell_type": "code",
   "execution_count": 60,
   "id": "8727f600-2669-40ec-9261-944350c64e5d",
   "metadata": {},
   "outputs": [
    {
     "name": "stdout",
     "output_type": "stream",
     "text": [
      "The sets have no common elements\n"
     ]
    }
   ],
   "source": [
    "#24. Check if a set is disjoint with another set.\n",
    "s1={1,2,3,4,5}\n",
    "s2={6,7,8,9}\n",
    "\n",
    "check_no_common=s1.isdisjoint(s2)\n",
    "if check_no_common:\n",
    "    print(\"The sets have no common elements\")\n",
    "else:\n",
    "    print(\"The sets have common elements\")"
   ]
  },
  {
   "cell_type": "code",
   "execution_count": 61,
   "id": "bb46422b-ed24-4243-8989-8d8a56884e52",
   "metadata": {},
   "outputs": [
    {
     "name": "stdout",
     "output_type": "stream",
     "text": [
      "{1, 4, 9, 16, 25}\n"
     ]
    }
   ],
   "source": [
    "#25. Create a set of squares of numbers from 1 to 5.\n",
    "\n",
    "squares_numbers=set(i**2 for i in range(1,6))\n",
    "print(squares_numbers)"
   ]
  },
  {
   "cell_type": "code",
   "execution_count": 62,
   "id": "dda0e1d5-b7d2-48bd-be97-50b8ab6bc272",
   "metadata": {},
   "outputs": [
    {
     "name": "stdout",
     "output_type": "stream",
     "text": [
      "{8, 2, 4, 6}\n"
     ]
    }
   ],
   "source": [
    "#26. Filter out all even numbers from a set.\n",
    "s={1,2,5,8,3,4,9,7,6}\n",
    "\n",
    "even_numbers=set(i for i in s if i%2==0)\n",
    "print(even_numbers)"
   ]
  },
  {
   "cell_type": "code",
   "execution_count": 63,
   "id": "3aab6474-ecec-4fbb-b509-c881f139f2ca",
   "metadata": {},
   "outputs": [
    {
     "name": "stdout",
     "output_type": "stream",
     "text": [
      "{2, 4, 6, 8, 10}\n"
     ]
    }
   ],
   "source": [
    "#27. Multiply all elements in a set by 2.\n",
    "s={1,2,3,4,5}\n",
    "\n",
    "multiply_by_two=set(i*2 for i in s)\n",
    "print(multiply_by_two)"
   ]
  },
  {
   "cell_type": "code",
   "execution_count": 65,
   "id": "26602eda-a846-4beb-8cc2-513c4f93db4c",
   "metadata": {},
   "outputs": [
    {
     "name": "stdout",
     "output_type": "stream",
     "text": [
      "{64, 36, 5, 42, 46, 56, 89, 26, 91, 28}\n"
     ]
    }
   ],
   "source": [
    "#28. Create a set of random numbers.\n",
    "import random\n",
    "\n",
    "random_set=set(random.randint(1,100) for i in range(10))\n",
    "\n",
    "print(random_set)"
   ]
  },
  {
   "cell_type": "code",
   "execution_count": 68,
   "id": "d52590bc-24bc-4bc8-8a5b-34e05e4823b6",
   "metadata": {},
   "outputs": [
    {
     "name": "stdout",
     "output_type": "stream",
     "text": [
      "set is empty\n"
     ]
    }
   ],
   "source": [
    "#29. Check if a set is empty.\n",
    "s=set()\n",
    "\n",
    "if len(s)==0:\n",
    "    print(\"set is empty\")\n",
    "else:\n",
    "    print(\"set is not empty\")"
   ]
  },
  {
   "cell_type": "code",
   "execution_count": 75,
   "id": "dd8a7acc-e89d-4922-8fd1-a9b04463d448",
   "metadata": {},
   "outputs": [
    {
     "name": "stdout",
     "output_type": "stream",
     "text": [
      "frozenset({frozenset({1, 2, 3}), frozenset({4, 5, 6})})\n"
     ]
    }
   ],
   "source": [
    "#30. Create a nested set (hint: use frozenset).\n",
    "s1=frozenset({1,2,3})\n",
    "s2=frozenset({4,5,6})\n",
    "\n",
    "frozenset_set=frozenset({s1,s2})\n",
    "print(frozenset_set)"
   ]
  },
  {
   "cell_type": "code",
   "execution_count": 1,
   "id": "a05a76e7-a741-4dd9-93bf-27999c47d611",
   "metadata": {},
   "outputs": [
    {
     "name": "stdout",
     "output_type": "stream",
     "text": [
      "{1, 3, 4, 5}\n"
     ]
    }
   ],
   "source": [
    "#31. Remove an element from a set using the discard method.\n",
    "s={1,2,3,4,5} \n",
    "remove_elements=s.discard(2)\n",
    "print(s)"
   ]
  },
  {
   "cell_type": "code",
   "execution_count": 78,
   "id": "773b6b5f-d94e-4f3a-afd3-db7658015435",
   "metadata": {},
   "outputs": [
    {
     "name": "stdout",
     "output_type": "stream",
     "text": [
      "sets are not equal\n"
     ]
    }
   ],
   "source": [
    "#32. Compare two sets.\n",
    "s1={1,2,3}\n",
    "s2={1,2,3,4,5}\n",
    "\n",
    "if s1==s2:\n",
    "    print(\"sets are equal\")\n",
    "elif s1!=s2:\n",
    "    print(\"sets are not equal\")\n",
    "elif s1<=s2:\n",
    "    print(\"sets are subset of another set\")\n",
    "elif s1<s2:\n",
    "    print(\"The set are proper subset of another set\")\n",
    "elif s1>=s2:\n",
    "    print(\"The set is superset of another set\")\n",
    "elif s1>s2:\n",
    "    print(\"The set is proper superset of another set\")\n",
    "else:\n",
    "    print(\"Not compare set\")"
   ]
  },
  {
   "cell_type": "code",
   "execution_count": 80,
   "id": "8c4684ca-f21c-46c9-af70-898942099890",
   "metadata": {},
   "outputs": [
    {
     "name": "stdout",
     "output_type": "stream",
     "text": [
      "{'H', 'r', 'd', 'o', ' ', 'e', 'w', 'l'}\n"
     ]
    }
   ],
   "source": [
    "#33. Create a set from a string.\n",
    "string=\"Hello world\"\n",
    "\n",
    "string_to_set=set(string)\n",
    "print(string_to_set)"
   ]
  },
  {
   "cell_type": "code",
   "execution_count": 86,
   "id": "70f373bc-b803-4f39-9ef2-be84239c273a",
   "metadata": {},
   "outputs": [
    {
     "name": "stdout",
     "output_type": "stream",
     "text": [
      "{1, 2, 3, 4, 5}\n"
     ]
    }
   ],
   "source": [
    "#34. Convert a set of strings to a set of integers.\n",
    "s={\"1\",\"2\",\"3\",\"4\",\"5\"}\n",
    "\n",
    "convert_to_integers={int(i) for i in s}\n",
    "print(convert_to_integers)"
   ]
  },
  {
   "cell_type": "code",
   "execution_count": 3,
   "id": "0e75c6d1-47aa-4899-9464-b865c5ff5164",
   "metadata": {},
   "outputs": [
    {
     "name": "stdout",
     "output_type": "stream",
     "text": [
      "{'4', '3', '5', '1', '2'}\n"
     ]
    }
   ],
   "source": [
    "#35. Convert a set of integers to a set of strings.\n",
    "s={1,2,3,4,5}\n",
    "\n",
    "convert_to_string={str(i) for i in s}\n",
    "print(convert_to_string)"
   ]
  },
  {
   "cell_type": "code",
   "execution_count": 4,
   "id": "3acd751a-4722-42ee-8fcc-b62707f739a5",
   "metadata": {},
   "outputs": [
    {
     "name": "stdout",
     "output_type": "stream",
     "text": [
      "{1, 2, 3, 4, 5}\n"
     ]
    }
   ],
   "source": [
    "#36. Create a set from a tuple.\n",
    "t=(1,2,3,4,5)\n",
    "convert_to_set=set(t)\n",
    "print(convert_to_set)"
   ]
  },
  {
   "cell_type": "code",
   "execution_count": 5,
   "id": "6ed7fe4d-d37f-4130-90da-9069a0d47feb",
   "metadata": {},
   "outputs": [
    {
     "name": "stdout",
     "output_type": "stream",
     "text": [
      "(1, 2, 3, 4, 5)\n"
     ]
    }
   ],
   "source": [
    "#37. Convert a set to a tuple.\n",
    "s={1,2,3,4,5}\n",
    "convert_to_tuple=tuple(s)\n",
    "print(convert_to_tuple)"
   ]
  },
  {
   "cell_type": "code",
   "execution_count": 6,
   "id": "39409295-8a99-44c5-ae9d-888261662bf7",
   "metadata": {},
   "outputs": [
    {
     "name": "stdout",
     "output_type": "stream",
     "text": [
      "5\n"
     ]
    }
   ],
   "source": [
    "#38. Find the maximum value in a set.\n",
    "\n",
    "s={1,2,3,4,5}\n",
    "maximun_value=max(s)\n",
    "print(maximun_value)"
   ]
  },
  {
   "cell_type": "code",
   "execution_count": 7,
   "id": "9b0acef0-4270-45bc-a901-afa5abb8954c",
   "metadata": {},
   "outputs": [
    {
     "name": "stdout",
     "output_type": "stream",
     "text": [
      "1\n"
     ]
    }
   ],
   "source": [
    "#39. Find the minimum value in a set.\n",
    "\n",
    "s={1,2,3,4,5}\n",
    "minimum_value=min(s)\n",
    "print(minimum_value)"
   ]
  },
  {
   "cell_type": "code",
   "execution_count": 14,
   "id": "3b312225-0968-402a-8d21-53cd2af365db",
   "metadata": {},
   "outputs": [
    {
     "name": "stdin",
     "output_type": "stream",
     "text": [
      "Enter elements seperated by spaces:  1 2 3\n"
     ]
    },
    {
     "name": "stdout",
     "output_type": "stream",
     "text": [
      "{'3', '1', '2'}\n"
     ]
    }
   ],
   "source": [
    "#40. Create a set from user input.\n",
    "s=input(\"Enter elements seperated by spaces: \").split()\n",
    "convert_to_set=set(s)\n",
    "print(convert_to_set)"
   ]
  },
  {
   "cell_type": "code",
   "execution_count": 17,
   "id": "ae891d22-f769-45b8-9315-ca7b63351084",
   "metadata": {},
   "outputs": [
    {
     "name": "stdout",
     "output_type": "stream",
     "text": [
      "The sets are not empty {3}\n"
     ]
    }
   ],
   "source": [
    "#41. Check if the intersection of two sets is empty.\n",
    "s1={1,2,3}\n",
    "s2={3,4,5,6}\n",
    "\n",
    "intersection_set=s1 & s2\n",
    "\n",
    "if intersection_set:\n",
    "    print(\"The sets are not empty\",intersection_set)\n",
    "else:\n",
    "    print(\"The sets are empty\")"
   ]
  },
  {
   "cell_type": "code",
   "execution_count": 22,
   "id": "50096fd3-2be0-4e36-8c42-26824ff630a5",
   "metadata": {},
   "outputs": [
    {
     "name": "stdout",
     "output_type": "stream",
     "text": [
      "{0, 1, 2, 3, 5}\n"
     ]
    }
   ],
   "source": [
    "#42. Create a set of the first 5 Fibonacci numbers.\n",
    "fibonacci=[0,1]\n",
    "\n",
    "for i in range(2,6):\n",
    "    next_fibonacci=fibonacci[i-1]+fibonacci[i-2]\n",
    "    fibonacci.append(next_fibonacci)\n",
    "print(set(fibonacci))"
   ]
  },
  {
   "cell_type": "code",
   "execution_count": 24,
   "id": "3f03ee4d-4ca8-46b7-b93e-0580ef2ef135",
   "metadata": {},
   "outputs": [
    {
     "name": "stdout",
     "output_type": "stream",
     "text": [
      "[1, 2, 3, 4, 5]\n"
     ]
    }
   ],
   "source": [
    "#43. Remove duplicates from a list using sets.\n",
    "\n",
    "li=[1,2,2,3,4,5,4,1]\n",
    "convert_set=set(li)\n",
    "print(list(convert_set))"
   ]
  },
  {
   "cell_type": "code",
   "execution_count": 26,
   "id": "05033bea-3f1e-438d-91ef-31ecbcaf7314",
   "metadata": {},
   "outputs": [
    {
     "name": "stdout",
     "output_type": "stream",
     "text": [
      "The sets do not have same elements\n"
     ]
    }
   ],
   "source": [
    "#44. Check if two sets have the same elements, regardless of their count.\n",
    "s1={1,2,3}\n",
    "s2={1,2,3,4}\n",
    "\n",
    "if s1==s2:\n",
    "    print(\"The sets have same elements\")\n",
    "else:\n",
    "    print(\"The sets do not have same elements\")"
   ]
  },
  {
   "cell_type": "code",
   "execution_count": 27,
   "id": "749b736f-54d4-4cdd-b35a-8e98bc9cb60f",
   "metadata": {},
   "outputs": [
    {
     "name": "stdout",
     "output_type": "stream",
     "text": [
      "{1, 2, 4, 8, 16}\n"
     ]
    }
   ],
   "source": [
    "#45. Create a set of the first `n` powers of 2.\n",
    "n=5\n",
    "\n",
    "power_of_two=set(2**i for i in range(n))\n",
    "print(power_of_two)"
   ]
  },
  {
   "cell_type": "code",
   "execution_count": 29,
   "id": "0a520d5e-b8d0-4235-add9-ca70d54a2ef5",
   "metadata": {},
   "outputs": [
    {
     "name": "stdout",
     "output_type": "stream",
     "text": [
      "{5}\n"
     ]
    }
   ],
   "source": [
    "#46. Find the common elements between a set and a list.\n",
    "s={1,2,3,4,5}\n",
    "li=[5,6,7,8,9]\n",
    "\n",
    "common_elements=s.intersection(li)\n",
    "print(common_elements)"
   ]
  },
  {
   "cell_type": "code",
   "execution_count": 32,
   "id": "769f663a-87a3-4e17-97f3-4507a3daa76c",
   "metadata": {},
   "outputs": [
    {
     "name": "stdout",
     "output_type": "stream",
     "text": [
      "{1, 3, 6, 10, 15}\n"
     ]
    }
   ],
   "source": [
    "#47. Create a set of the first `n` triangular numbers.\n",
    "n=5\n",
    "traingular_num=[]\n",
    "for i in range(1,n+1):\n",
    "    traingular_numbers=i*(i+1)//2\n",
    "    traingular_num.append(traingular_numbers)\n",
    "print(set(traingular_num))"
   ]
  },
  {
   "cell_type": "code",
   "execution_count": 33,
   "id": "bb24c597-1c96-4019-be70-a4f70fbffbe5",
   "metadata": {},
   "outputs": [
    {
     "name": "stdout",
     "output_type": "stream",
     "text": [
      "True\n"
     ]
    }
   ],
   "source": [
    "#48. Check if a set contains another set as a subset.\n",
    "s1={1,2,3,4,5}\n",
    "s2={1,2}\n",
    "\n",
    "check_subset=s2.issubset(s1)\n",
    "print(check_subset)"
   ]
  },
  {
   "cell_type": "code",
   "execution_count": 38,
   "id": "d169d9e5-3255-4879-9832-5e3b2f7397c1",
   "metadata": {},
   "outputs": [
    {
     "name": "stdin",
     "output_type": "stream",
     "text": [
      "Enter the number:  10\n"
     ]
    },
    {
     "name": "stdout",
     "output_type": "stream",
     "text": [
      "{0, 1}\n"
     ]
    }
   ],
   "source": [
    "#49. Create a set of alternating 1s and 0s of length `n`.\n",
    "n=int(input(\"Enter the number: \"))\n",
    "\n",
    "alternating_number=set(1 if i%2==0 else 0 for i in range(n))\n",
    "print(alternating_number)"
   ]
  },
  {
   "cell_type": "code",
   "execution_count": 39,
   "id": "475e8a01-01d0-437a-b986-682b0f3c843b",
   "metadata": {},
   "outputs": [
    {
     "name": "stdout",
     "output_type": "stream",
     "text": [
      "{1, 2, 3, 4, 5, 6, 7, 8, 9}\n"
     ]
    }
   ],
   "source": [
    "#50. Merge multiple sets into one.\n",
    "\n",
    "s1={1,2,3}\n",
    "s2={4,5,6}\n",
    "s3={7,8,9}\n",
    "\n",
    "merge_set=s1.union(s2,s3)\n",
    "print(merge_set)"
   ]
  },
  {
   "cell_type": "code",
   "execution_count": null,
   "id": "a770d821-18c2-461e-9e1c-2ccabfa65555",
   "metadata": {},
   "outputs": [],
   "source": []
  }
 ],
 "metadata": {
  "kernelspec": {
   "display_name": "Python 3 (ipykernel)",
   "language": "python",
   "name": "python3"
  },
  "language_info": {
   "codemirror_mode": {
    "name": "ipython",
    "version": 3
   },
   "file_extension": ".py",
   "mimetype": "text/x-python",
   "name": "python",
   "nbconvert_exporter": "python",
   "pygments_lexer": "ipython3",
   "version": "3.10.8"
  }
 },
 "nbformat": 4,
 "nbformat_minor": 5
}
