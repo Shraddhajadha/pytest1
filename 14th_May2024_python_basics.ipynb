{
 "cells": [
  {
   "cell_type": "code",
   "execution_count": 1,
   "id": "b6a4064a-8cc8-4558-af00-16a880b1aaaf",
   "metadata": {},
   "outputs": [
    {
     "data": {
      "text/plain": [
       "'Declare two variables, `x` and `y`, and assign them integer values. Swap the\\nvalues of these variables without using any temporary variable.'"
      ]
     },
     "execution_count": 1,
     "metadata": {},
     "output_type": "execute_result"
    }
   ],
   "source": [
    "'''Declare two variables, `x` and `y`, and assign them integer values. Swap the\n",
    "values of these variables without using any temporary variable.'''"
   ]
  },
  {
   "cell_type": "code",
   "execution_count": 21,
   "id": "c99b1fcd-e06d-4900-98f3-14d363877d93",
   "metadata": {},
   "outputs": [],
   "source": [
    "#Declare the x & y variables value\n",
    "x=10"
   ]
  },
  {
   "cell_type": "code",
   "execution_count": 17,
   "id": "687b8dfc-ceb8-4fe2-8274-2531d0cb872d",
   "metadata": {},
   "outputs": [],
   "source": [
    "y=20"
   ]
  },
  {
   "cell_type": "code",
   "execution_count": 22,
   "id": "b7c88863-1a98-437e-ba67-f8d464a5f320",
   "metadata": {},
   "outputs": [],
   "source": [
    "#swap the variables value \n",
    "x,y=y,x"
   ]
  },
  {
   "cell_type": "code",
   "execution_count": 23,
   "id": "45934db1-e972-46c4-accd-b9996073f9fa",
   "metadata": {},
   "outputs": [
    {
     "data": {
      "text/plain": [
       "10"
      ]
     },
     "execution_count": 23,
     "metadata": {},
     "output_type": "execute_result"
    }
   ],
   "source": [
    "#show the x value\n",
    "x"
   ]
  },
  {
   "cell_type": "code",
   "execution_count": 24,
   "id": "2080487d-0537-40a4-9df6-a133f967c878",
   "metadata": {},
   "outputs": [
    {
     "data": {
      "text/plain": [
       "10"
      ]
     },
     "execution_count": 24,
     "metadata": {},
     "output_type": "execute_result"
    }
   ],
   "source": [
    "#show the y value\n",
    "y"
   ]
  },
  {
   "cell_type": "code",
   "execution_count": 25,
   "id": "34b83e55-fe3c-41b1-ad4b-d61686617a96",
   "metadata": {},
   "outputs": [
    {
     "name": "stdin",
     "output_type": "stream",
     "text": [
      " 15\n"
     ]
    }
   ],
   "source": [
    "'''Create a program that calculates the area of a rectangle. Take the length and\n",
    "width as inputs from the user and store them in variables. Calculate and\n",
    "display the area.'''\n",
    "\n",
    "#decalre the length of rectangle\n",
    "length=float(input())"
   ]
  },
  {
   "cell_type": "code",
   "execution_count": 26,
   "id": "c754e589-3709-4505-8193-15c1efaf085b",
   "metadata": {},
   "outputs": [
    {
     "name": "stdin",
     "output_type": "stream",
     "text": [
      " 10\n"
     ]
    }
   ],
   "source": [
    "#declare the width of rectangle\n",
    "width=float(input())"
   ]
  },
  {
   "cell_type": "code",
   "execution_count": 28,
   "id": "a3924978-0d99-4aba-958f-d035e949ef32",
   "metadata": {},
   "outputs": [
    {
     "data": {
      "text/plain": [
       "150.0"
      ]
     },
     "execution_count": 28,
     "metadata": {},
     "output_type": "execute_result"
    }
   ],
   "source": [
    "#formula of calculating area of rectangle\n",
    "area=length*width\n",
    "area"
   ]
  },
  {
   "cell_type": "code",
   "execution_count": 29,
   "id": "94958013-3197-4294-969c-8a591f5675af",
   "metadata": {},
   "outputs": [
    {
     "name": "stdin",
     "output_type": "stream",
     "text": [
      "Enter the Temperature in Celsius :\n",
      " 10\n"
     ]
    },
    {
     "name": "stdout",
     "output_type": "stream",
     "text": [
      "Temperature in Fahrenheit : 50.0\n"
     ]
    }
   ],
   "source": [
    "'''Write a Python program that converts temperatures from Celsius to\n",
    "Fahrenheit. Take the temperature in Celsius as input, store it in a variable,\n",
    "convert it to Fahrenheit, and display the result.'''\n",
    "\n",
    "celsius = int(input(\"Enter the Temperature in Celsius :\\n\"))  #give the celsius input from user\n",
    "fahrenheit = (1.8 * celsius) + 32 #convert the celsius to fahrenheit formula\n",
    "print(\"Temperature in Fahrenheit :\", fahrenheit)"
   ]
  },
  {
   "cell_type": "code",
   "execution_count": 32,
   "id": "c47c53c3-fb94-4830-b3ba-835d2f48cc73",
   "metadata": {},
   "outputs": [
    {
     "name": "stdin",
     "output_type": "stream",
     "text": [
      " shraddha\n"
     ]
    }
   ],
   "source": [
    "#String Based Questions\n",
    "\n",
    "'''Write a Python program that takes a string as input and prints the length of\n",
    "the string.'''\n",
    "\n",
    "#Take input of string\n",
    "string=input()"
   ]
  },
  {
   "cell_type": "code",
   "execution_count": 33,
   "id": "f1f487ac-e8e8-4200-94de-7a844ed6caa3",
   "metadata": {},
   "outputs": [
    {
     "name": "stdout",
     "output_type": "stream",
     "text": [
      "Length of string 8\n"
     ]
    }
   ],
   "source": [
    "#Display the result\n",
    "print(\"Length of string\", len(string))"
   ]
  },
  {
   "cell_type": "code",
   "execution_count": 3,
   "id": "0c0ae415-7daa-4c59-8b10-3dda54cc400a",
   "metadata": {},
   "outputs": [
    {
     "name": "stdin",
     "output_type": "stream",
     "text": [
      "Enter a sentence:  Hello,I love dancing & eating a food.\n"
     ]
    },
    {
     "name": "stdout",
     "output_type": "stream",
     "text": [
      "Number of vowels: 13\n"
     ]
    }
   ],
   "source": [
    "'''Create a program that takes a sentence from the user and counts the number\n",
    "of vowels (a, e, i, o, u) in the string.'''\n",
    "\n",
    "sentence = input(\"Enter a sentence: \") #giving the sentence from user\n",
    "vowels = 'aeiouAEIOU' #Declare the vowels lowecase and uppercase\n",
    "vowel_count = 0  #set count 0\n",
    "\n",
    "for char in sentence: #use the for loop to check vowels in sentence\n",
    "    if char in vowels: #using condition if vowels is present then increase the count by 1\n",
    "        vowel_count += 1\n",
    "\n",
    "print(\"Number of vowels:\", vowel_count) #display the result\n"
   ]
  },
  {
   "cell_type": "code",
   "execution_count": 7,
   "id": "325065c7-bcc4-488d-bea4-e6dba642aa8f",
   "metadata": {},
   "outputs": [
    {
     "name": "stdout",
     "output_type": "stream",
     "text": [
      "The reversed string is: ahddarhs\n"
     ]
    }
   ],
   "source": [
    "'''Given a string, reverse the order of characters using string slicing and print\n",
    "the reversed string.'''\n",
    "\n",
    "string=\"shraddha\" #store the string in one variable\n",
    "reverse_string=string[::-1] #reverse the string give the staring point and ending point is empty and I want reverse on negative direction so jumb on -1\n",
    "print(\"The reversed string is:\",reverse_string) #display the result"
   ]
  },
  {
   "cell_type": "code",
   "execution_count": 9,
   "id": "56936e5c-0474-48ab-b138-85485ad86e50",
   "metadata": {},
   "outputs": [
    {
     "name": "stdin",
     "output_type": "stream",
     "text": [
      "Enter a string:  malayalam\n"
     ]
    },
    {
     "name": "stdout",
     "output_type": "stream",
     "text": [
      "The string is a palindrome.\n"
     ]
    }
   ],
   "source": [
    "'''Write a program that takes a string as input and checks if it is a palindrome\n",
    "(reads the same forwards and backwards).'''\n",
    "\n",
    "string = input(\"Enter a string: \")\n",
    "\n",
    "# Remove spaces and convert to lowercase\n",
    "string = string.replace(\" \", \"\").lower()\n",
    "\n",
    "# Check if the string is equal to its reverse\n",
    "if string == string[::-1]:\n",
    "    print(\"The string is a palindrome.\")\n",
    "else:\n",
    "    print(\"The string is not a palindrome.\")\n"
   ]
  },
  {
   "cell_type": "code",
   "execution_count": 13,
   "id": "1345ab9f-6275-4ad7-84e0-bf939b85cdb1",
   "metadata": {},
   "outputs": [
    {
     "name": "stdin",
     "output_type": "stream",
     "text": [
      "Enter a string:     Hello   I   am    shraddha.\n"
     ]
    },
    {
     "name": "stdout",
     "output_type": "stream",
     "text": [
      "Modified string without spaces: HelloIamshraddha.\n"
     ]
    }
   ],
   "source": [
    "'''Create a program that takes a string as input and removes all the spaces from\n",
    "it. Print the modified string without spaces.'''\n",
    "\n",
    "string = input(\"Enter a string: \")\n",
    "\n",
    "# Remove all spaces from the string using replace(), then strip() to remove leading and trailing spaces (if any)\n",
    "string_without_spaces = string.replace(\" \", \"\").strip()\n",
    "\n",
    "# Print the modified string without spaces\n",
    "print(\"Modified string without spaces:\", string_without_spaces)\n"
   ]
  },
  {
   "cell_type": "code",
   "execution_count": null,
   "id": "e4fca48e-5b3f-44d1-8790-39a5c73cbbc5",
   "metadata": {},
   "outputs": [],
   "source": []
  }
 ],
 "metadata": {
  "kernelspec": {
   "display_name": "Python 3 (ipykernel)",
   "language": "python",
   "name": "python3"
  },
  "language_info": {
   "codemirror_mode": {
    "name": "ipython",
    "version": 3
   },
   "file_extension": ".py",
   "mimetype": "text/x-python",
   "name": "python",
   "nbconvert_exporter": "python",
   "pygments_lexer": "ipython3",
   "version": "3.10.8"
  }
 },
 "nbformat": 4,
 "nbformat_minor": 5
}
