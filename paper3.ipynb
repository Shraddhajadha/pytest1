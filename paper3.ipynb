{
 "cells": [
  {
   "cell_type": "code",
   "execution_count": 47,
   "id": "6e30844d-93f2-43ab-b47b-1853a4b8e4d2",
   "metadata": {},
   "outputs": [
    {
     "name": "stdout",
     "output_type": "stream",
     "text": [
      "1\n",
      "2\n",
      "3\n",
      "4\n",
      "5\n",
      "6\n",
      "7\n",
      "8\n",
      "9\n",
      "10\n"
     ]
    }
   ],
   "source": [
    "#Basic level\n",
    "#1. Write a Python program to print the numbers from 1 to 10 using a `for` loop.\n",
    "\n",
    "for i in range(1,11): #use the for loop with range function to print numbers\n",
    "    print(i)"
   ]
  },
  {
   "cell_type": "code",
   "execution_count": 5,
   "id": "cddbb66b-8f82-46da-8741-3e465559e82b",
   "metadata": {},
   "outputs": [
    {
     "name": "stdout",
     "output_type": "stream",
     "text": [
      "The total sum is:  92\n"
     ]
    }
   ],
   "source": [
    "#2. Create a program that calculates the sum of all numbers in a list using a `for` loop.\n",
    "li=[20,25,30,8,9]\n",
    "total_sum=0\n",
    "\n",
    "for i in li:\n",
    "    total_sum +=i\n",
    "    \n",
    "print(\"The total sum is: \",total_sum)"
   ]
  },
  {
   "cell_type": "code",
   "execution_count": 31,
   "id": "ff2e466f-b5f7-4cd6-a90e-b579d4afd25e",
   "metadata": {},
   "outputs": [
    {
     "name": "stdout",
     "output_type": "stream",
     "text": [
      "dlrow !ahddarhs"
     ]
    }
   ],
   "source": [
    "#3. Write a program to print the characters of a string in reverse order using a `for` loop.\n",
    "\n",
    "string=\"shraddha! world\"\n",
    "\n",
    "for i in string[::-1]:\n",
    "    print(i,end='')"
   ]
  },
  {
   "cell_type": "code",
   "execution_count": 14,
   "id": "906c117f-a672-49d0-9a62-a68bfcd9ad03",
   "metadata": {},
   "outputs": [
    {
     "name": "stdout",
     "output_type": "stream",
     "text": [
      "The factorial number is:  120\n"
     ]
    }
   ],
   "source": [
    "#4. Develop a program that finds the factorial of a given number using a `for` loop.\n",
    "\n",
    "number=5\n",
    "\n",
    "factorial=1\n",
    "\n",
    "for i in range(1,number+1):\n",
    "    factorial *=i\n",
    "    \n",
    "print(\"The factorial number is: \",factorial)"
   ]
  },
  {
   "cell_type": "code",
   "execution_count": 16,
   "id": "e6bca0ec-b871-4e0e-a44e-e619c4c3f14f",
   "metadata": {},
   "outputs": [
    {
     "name": "stdout",
     "output_type": "stream",
     "text": [
      "5\n",
      "10\n",
      "15\n",
      "20\n",
      "25\n",
      "30\n",
      "35\n",
      "40\n",
      "45\n",
      "50\n"
     ]
    }
   ],
   "source": [
    "#5. Create a program to print the multiplication table of a given number using a `for` loop.\n",
    "\n",
    "number=5\n",
    "\n",
    "for i in range(1,11):\n",
    "    multi=number*i\n",
    "    print(multi)"
   ]
  },
  {
   "cell_type": "code",
   "execution_count": 17,
   "id": "8109196d-2707-4534-aabb-b2c55427e2fc",
   "metadata": {},
   "outputs": [
    {
     "name": "stdout",
     "output_type": "stream",
     "text": [
      "The even number count is:  2\n",
      "The odd number count is:  4\n"
     ]
    }
   ],
   "source": [
    "#6. Write a program that counts the number of even and odd numbers in a list using a `for` loop.\n",
    "\n",
    "li=[2,8,9,7,3,5]\n",
    "even_count=0\n",
    "odd_count=0\n",
    "\n",
    "for i in li:\n",
    "    if i%2==0:\n",
    "        even_count +=1\n",
    "    else:\n",
    "        odd_count +=1\n",
    "        \n",
    "print(\"The even number count is: \",even_count)\n",
    "print(\"The odd number count is: \",odd_count)"
   ]
  },
  {
   "cell_type": "code",
   "execution_count": 19,
   "id": "68eb3367-e72a-4bd9-b7d3-46c82c6f60d1",
   "metadata": {},
   "outputs": [
    {
     "name": "stdout",
     "output_type": "stream",
     "text": [
      "1\n",
      "4\n",
      "9\n",
      "16\n",
      "25\n"
     ]
    }
   ],
   "source": [
    "#7. Develop a program that prints the squares of numbers from 1 to 5 using a `for` loop.\n",
    "\n",
    "for i in range(1,6):\n",
    "    square=i**2\n",
    "    print(square)"
   ]
  },
  {
   "cell_type": "code",
   "execution_count": 20,
   "id": "88bca8a4-1ef0-4a39-b7b7-e33568933a86",
   "metadata": {},
   "outputs": [
    {
     "name": "stdin",
     "output_type": "stream",
     "text": [
      "Enter the string:  kau\n"
     ]
    },
    {
     "name": "stdout",
     "output_type": "stream",
     "text": [
      "3\n"
     ]
    }
   ],
   "source": [
    "#8. Create a program to find the length of a string without using the `len()` function.\n",
    "\n",
    "string=input(\"Enter the string: \")\n",
    "count=0\n",
    "\n",
    "for i in string:\n",
    "    count+=1\n",
    "print(count)"
   ]
  },
  {
   "cell_type": "code",
   "execution_count": 23,
   "id": "2b3461ab-0310-4850-95f2-c7dae6c484e3",
   "metadata": {},
   "outputs": [
    {
     "name": "stdout",
     "output_type": "stream",
     "text": [
      "The average is:  30\n"
     ]
    }
   ],
   "source": [
    "#9. Write a program that calculates the average of a list of numbers using a `for` loop.\n",
    "\n",
    "li=[10,20,30,40,50]\n",
    "\n",
    "count=0\n",
    "total=0\n",
    "\n",
    "for i in li:\n",
    "    total +=i\n",
    "    count+=1\n",
    "    \n",
    "#calculate the average\n",
    "average=total//count\n",
    "print(\"The average is: \",average)"
   ]
  },
  {
   "cell_type": "code",
   "execution_count": 25,
   "id": "6ba44ec7-0bf4-4ec3-998c-9a5ab60dc990",
   "metadata": {},
   "outputs": [
    {
     "name": "stdout",
     "output_type": "stream",
     "text": [
      "[0, 1, 1, 2, 3, 5, 8, 13, 21, 34]\n"
     ]
    }
   ],
   "source": [
    "#10. Develop a program that prints the first `n` Fibonacci numbers using a `for` loop.\n",
    "\n",
    "n=10\n",
    "\n",
    "fibonacci_sequence=[0,1]\n",
    "\n",
    "for i in range(2,n):\n",
    "    next_fibonacci=fibonacci_sequence[i-1]+fibonacci_sequence[i-2]\n",
    "    fibonacci_sequence.append(next_fibonacci)\n",
    "print(fibonacci_sequence)"
   ]
  },
  {
   "cell_type": "code",
   "execution_count": 48,
   "id": "f6ae16d4-5390-447c-9049-3c8a7345adba",
   "metadata": {},
   "outputs": [
    {
     "name": "stdout",
     "output_type": "stream",
     "text": [
      "The list contains duplicates\n"
     ]
    }
   ],
   "source": [
    "#Intermediate Level:\n",
    "\n",
    "#11. Write a program to check if a given list contains any duplicates using a `for` loop.\n",
    "\n",
    "li=[10,10,80,30]\n",
    "seen=set() #I decalre the empty set\n",
    "for i in li:\n",
    "    if i in seen: #check if then elements present in set that means its contain duplicates\n",
    "        print(\"The list contains duplicates\")\n",
    "        break\n",
    "    seen.add(i) #otherwise add in set\n",
    "else:\n",
    "    print(\"The list does not contain duplicates\")"
   ]
  },
  {
   "cell_type": "code",
   "execution_count": 6,
   "id": "80c5b546-d38b-48c8-bd05-1ed259cab46e",
   "metadata": {},
   "outputs": [
    {
     "name": "stdin",
     "output_type": "stream",
     "text": [
      "Enter the starting range:  10\n",
      "Enter the ending range:  20\n"
     ]
    },
    {
     "name": "stdout",
     "output_type": "stream",
     "text": [
      "11\n",
      "13\n",
      "17\n",
      "19\n"
     ]
    }
   ],
   "source": [
    "#12. Create a program that prints the prime numbers in a given range using a `for` loop.\n",
    "\n",
    "start=int(input(\"Enter the starting range: \"))\n",
    "end=int(input(\"Enter the ending range: \"))\n",
    "\n",
    "for i in range(start,end+1):\n",
    "    flag=0\n",
    "    for j in range(2,i):\n",
    "        if i%j==0:\n",
    "            flag=1\n",
    "            break\n",
    "    if flag==0:\n",
    "        print(i)"
   ]
  },
  {
   "cell_type": "code",
   "execution_count": 3,
   "id": "ca170bb1-4178-452b-bc0f-2b0123297535",
   "metadata": {},
   "outputs": [
    {
     "name": "stdin",
     "output_type": "stream",
     "text": [
      "Enter a string:  shraddhA\n"
     ]
    },
    {
     "name": "stdout",
     "output_type": "stream",
     "text": [
      "2\n"
     ]
    }
   ],
   "source": [
    "#13. Develop a program that counts the number of vowels in a string using a `for` loop.\n",
    "\n",
    "string=input(\"Enter a string: \")\n",
    "vowels=\"aeiouAEIOU\" #declare the vowels for check in string\n",
    "count=0\n",
    "\n",
    "for i in string:\n",
    "    if i in vowels: #check condition if vowels is present in string then count increase by 1\n",
    "        count +=1\n",
    "print(count)"
   ]
  },
  {
   "cell_type": "code",
   "execution_count": 4,
   "id": "c7b4874a-5a48-4dc2-a77f-453636f87e0c",
   "metadata": {},
   "outputs": [
    {
     "name": "stdout",
     "output_type": "stream",
     "text": [
      "The maximum element is:  9\n"
     ]
    }
   ],
   "source": [
    "#14. Write a program to find the maximum element in a 2D list using a nested `for` loop.\n",
    "\n",
    "li=[[8,9],[5,2],[6,7]]\n",
    "\n",
    "max_element=li[0][0]\n",
    "\n",
    "for row in li:\n",
    "    for element in row:\n",
    "        if element > max_element:\n",
    "            max_element=element\n",
    "print(\"The maximum element is: \",max_element)"
   ]
  },
  {
   "cell_type": "code",
   "execution_count": 14,
   "id": "ce41389a-1c2b-4c63-8ab8-b813fe11fe53",
   "metadata": {},
   "outputs": [
    {
     "name": "stdout",
     "output_type": "stream",
     "text": [
      "The result list is:  ['kau', 2, 4]\n"
     ]
    }
   ],
   "source": [
    "#15. Create a program that removes all occurrences of a specific element from a list using a `for` loop.\n",
    "\n",
    "li=[8,\"kau\",2,4]\n",
    "\n",
    "element_to_remove=8\n",
    "result_list=[] #initialize empty list\n",
    "\n",
    "for element in li:\n",
    "    if element != element_to_remove: #check if element not match to element_to_remove then append these in result list\n",
    "        result_list.append(element)\n",
    "print(\"The result list is: \",result_list)"
   ]
  },
  {
   "cell_type": "code",
   "execution_count": 27,
   "id": "fa56e80f-9d18-48aa-a455-a4afbd645413",
   "metadata": {},
   "outputs": [
    {
     "name": "stdout",
     "output_type": "stream",
     "text": [
      "1\t2\t3\t4\t5\t\n",
      "2\t4\t6\t8\t10\t\n",
      "3\t6\t9\t12\t15\t\n",
      "4\t8\t12\t16\t20\t\n",
      "5\t10\t15\t20\t25\t\n"
     ]
    }
   ],
   "source": [
    "#16. Develop a program that generates a multiplication table for numbers from 1 to 5 using a nested `for` loop.\n",
    "\n",
    "start=1 #initialize starting and ending point\n",
    "end=5\n",
    "\n",
    "for i in range(start,end+1):\n",
    "    for j in range(start,end+1):\n",
    "        # multiplication_table=i*j\n",
    "        print(f\"{i*j}\\t\",end=\"\")\n",
    "    print()"
   ]
  },
  {
   "cell_type": "code",
   "execution_count": 31,
   "id": "dad71748-4636-450f-b9fd-7c681ba12921",
   "metadata": {},
   "outputs": [
    {
     "name": "stdout",
     "output_type": "stream",
     "text": [
      "[0.0, 20.0, 25.0, 40.0, 50.0]\n"
     ]
    }
   ],
   "source": [
    "#17. Write a program that converts a list of Fahrenheit temperatures to Celsius using a `for` loop.\n",
    "\n",
    "fahrenheit_temp=[32,68,77,104,122]\n",
    "\n",
    "celcius_temp=[]\n",
    "\n",
    "for temp in fahrenheit_temp:\n",
    "    celcius= (temp-32)*5/9\n",
    "    celcius_temp.append(celcius)\n",
    "print(celcius_temp)"
   ]
  },
  {
   "cell_type": "code",
   "execution_count": 36,
   "id": "9d25521d-7ca9-4512-8ec2-989651271b0d",
   "metadata": {},
   "outputs": [
    {
     "name": "stdout",
     "output_type": "stream",
     "text": [
      "The common element are:  [10, 20, 40]\n"
     ]
    }
   ],
   "source": [
    "#18. Create a program to print the common elements from two lists using a `for` loop.\n",
    "\n",
    "l1=[10,20,30,40]\n",
    "l2=[40,50,60,70,20,10]\n",
    "\n",
    "common_element=[]\n",
    "\n",
    "for i in l1:\n",
    "    if i in l2:\n",
    "        common_element.append(i)\n",
    "print(\"The common element are: \",common_element)"
   ]
  },
  {
   "cell_type": "code",
   "execution_count": 39,
   "id": "d7262081-67f4-4125-aad8-da81c73b9592",
   "metadata": {},
   "outputs": [
    {
     "name": "stdout",
     "output_type": "stream",
     "text": [
      "* \n",
      "* * \n",
      "* * * \n",
      "* * * * \n",
      "* * * * * \n"
     ]
    }
   ],
   "source": [
    "#19. Develop a program that prints the pattern of right-angled triangles using a `for` loop. Use ‘*’ to draw the pattern\n",
    "\n",
    "for i in range(5):\n",
    "    for j in range(i+1):\n",
    "        print(\"*\",end=\" \")\n",
    "    print()"
   ]
  },
  {
   "cell_type": "code",
   "execution_count": 48,
   "id": "ea1033d3-3115-48e0-9802-b048aec60022",
   "metadata": {},
   "outputs": [
    {
     "name": "stdin",
     "output_type": "stream",
     "text": [
      "Enter the first number:  2\n",
      "Enter the second number:  7\n"
     ]
    },
    {
     "name": "stdout",
     "output_type": "stream",
     "text": [
      "1\n"
     ]
    }
   ],
   "source": [
    "#20. Write a program to find the greatest common divisor (GCD) of two numbers using a `for` loop.\n",
    "\n",
    "num1=int(input(\"Enter the first number: \"))\n",
    "num2=int(input(\"Enter the second number: \"))\n",
    "\n",
    "minimum_number=min(num1,num2) #Need the minimum number from two numbers\n",
    "\n",
    "gcd=1 #set gcd\n",
    "\n",
    "for i in range(1,minimum_number+1):\n",
    "    if num1%i==0 and num2%i==0:\n",
    "        gcd=i\n",
    "print(gcd)"
   ]
  },
  {
   "cell_type": "code",
   "execution_count": 2,
   "id": "0271ed84-3417-40da-91ab-832bd252b32e",
   "metadata": {},
   "outputs": [
    {
     "name": "stdout",
     "output_type": "stream",
     "text": [
      "[5, 12, 10]\n"
     ]
    }
   ],
   "source": [
    "#Advanced Level\n",
    "\n",
    "#21. Create a program that calculates the sum of the digits of numbers in a list using a list comprehension.\n",
    "\n",
    "numbers=[122,75,82]\n",
    "\n",
    "sums=[sum(int(digit) for digit in str(number)) for number in numbers]\n",
    "print(sums)"
   ]
  },
  {
   "cell_type": "code",
   "execution_count": 4,
   "id": "744f39d0-90ee-4410-b8e7-e19ed4974d1c",
   "metadata": {},
   "outputs": [
    {
     "name": "stdin",
     "output_type": "stream",
     "text": [
      "Enter the number:  40\n"
     ]
    },
    {
     "name": "stdout",
     "output_type": "stream",
     "text": [
      "[2, 2, 2, 5]\n"
     ]
    }
   ],
   "source": [
    "#22. Write a program to find the prime factors of a given number using a `for` loop and list comprehension.\n",
    "\n",
    "n=int(input(\"Enter the number: \"))\n",
    "\n",
    "prime_factors=[]  #Initialize empty list to store prime factors\n",
    "\n",
    "for i in range(2,n+1): #I use the for loop to check prime factors\n",
    "    #first check its a prime factor or not\n",
    "    while n%i==0:\n",
    "        #if its a prime factor then append these on a list\n",
    "        prime_factors.append(i)\n",
    "        n//=i  #divide n by i\n",
    "print(prime_factors)  #2,2,2,5"
   ]
  },
  {
   "cell_type": "code",
   "execution_count": 10,
   "id": "d8d1684a-8015-416a-8b39-e7c7fc869ec1",
   "metadata": {},
   "outputs": [
    {
     "name": "stdin",
     "output_type": "stream",
     "text": [
      "Enter the list numbers:  1 2 2 3 3 5 5 4 9 9 7\n"
     ]
    },
    {
     "name": "stdout",
     "output_type": "stream",
     "text": [
      "[1, 2, 3, 5, 4, 9, 7]\n"
     ]
    }
   ],
   "source": [
    "#23. Develop a program that extracts unique elements from a list and stores them in a new list using a list comprehension.\n",
    "\n",
    "#I get the list seperated by spaces from uset and then split into string and again convert into integer\n",
    "input_list=[int(x) for x in input(\"Enter the list numbers: \").split()]\n",
    "\n",
    "#Initialize empty list to store unique list\n",
    "unique_list=[]\n",
    "\n",
    "#execute for loop in input list and check these element is not in unique list then append if it is in list then don't append it\n",
    "[unique_list.append(x) for x in input_list if x not in unique_list]\n",
    "\n",
    "print(unique_list)"
   ]
  },
  {
   "cell_type": "code",
   "execution_count": 2,
   "id": "16cbb649-0dd3-4d2b-a541-644a040aff7c",
   "metadata": {},
   "outputs": [
    {
     "name": "stdin",
     "output_type": "stream",
     "text": [
      "Enter the limit:  50\n"
     ]
    },
    {
     "name": "stdout",
     "output_type": "stream",
     "text": [
      "[1, 2, 3, 4, 5, 6, 7, 8, 9, 11, 22, 33, 44]\n"
     ]
    }
   ],
   "source": [
    "#24. Create a program that generates a list of all palindromic numbers up to a specified limit using a list comprehension.\n",
    "\n",
    "#get the input limit from user\n",
    "limit=int(input(\"Enter the limit: \"))\n",
    "\n",
    "#get the palindrome numbers using list comprehension\n",
    "palindrome_numbers=[num for num in range(1,limit+1) if str(num)==str(num)[::-1]]\n",
    "\n",
    "print(palindrome_numbers)"
   ]
  },
  {
   "cell_type": "code",
   "execution_count": 3,
   "id": "16673970-c9bc-46cd-9490-6e2a54c60344",
   "metadata": {},
   "outputs": [
    {
     "name": "stdout",
     "output_type": "stream",
     "text": [
      "[1, 2, 3, 8, 9, 10, 4, 5, 6]\n"
     ]
    }
   ],
   "source": [
    "#25. Write a program to flatten a nested list using list comprehension.\n",
    "\n",
    "#Decalre the nested list\n",
    "li=[[1,2,3],[8,9,10],[4,5,6]]\n",
    "\n",
    "#flatten a nested list\n",
    "flattened_list=[item for inner_list in li for item in inner_list]\n",
    "\n",
    "print(flattened_list)"
   ]
  },
  {
   "cell_type": "code",
   "execution_count": 4,
   "id": "fc4456ad-033c-4284-84e4-ac384714fd20",
   "metadata": {},
   "outputs": [
    {
     "name": "stdout",
     "output_type": "stream",
     "text": [
      "The sum of even numbers:  30\n",
      "The sum of odd numbers:  25\n"
     ]
    }
   ],
   "source": [
    "#26. Develop a program that computes the sum of even and odd numbers in a list separately using list comprehension.\n",
    "\n",
    "li=[1,2,3,4,5,6,7,8,9,10]\n",
    "\n",
    "even_numbers=sum([num for num in li if num%2==0])\n",
    "odd_numbers=sum([num for num in li if num%2!=0])\n",
    "\n",
    "print(\"The sum of even numbers: \",even_numbers)\n",
    "print(\"The sum of odd numbers: \",odd_numbers)"
   ]
  },
  {
   "cell_type": "code",
   "execution_count": 5,
   "id": "649f22b8-e204-4887-963e-6b1fa08f305b",
   "metadata": {},
   "outputs": [
    {
     "name": "stdout",
     "output_type": "stream",
     "text": [
      "[1, 9, 25, 49, 81]\n"
     ]
    }
   ],
   "source": [
    "#27. Create a program that generates a list of squares of odd numbers between 1 and 10 using list comprehension.\n",
    "\n",
    "squares_odd_numbers=[num ** 2 for num in range(1,11) if num%2!=0]\n",
    "print(squares_odd_numbers)"
   ]
  },
  {
   "cell_type": "code",
   "execution_count": 1,
   "id": "a420eefe-47b3-47c0-a129-bb16181bf9db",
   "metadata": {},
   "outputs": [
    {
     "name": "stdout",
     "output_type": "stream",
     "text": [
      "{'a': 1, 'b': 2, 'c': 3}\n"
     ]
    }
   ],
   "source": [
    "#28. Write a program that combines two lists into a dictionary using list comprehension.\n",
    "\n",
    "#declare keys and values list\n",
    "keys=['a','b','c']\n",
    "values=[1,2,3]\n",
    "\n",
    "#now combine two lists into dictionaries\n",
    "comine_dict={keys[i]:values[i] for i in range(len(keys))}\n",
    "\n",
    "print(comine_dict)"
   ]
  },
  {
   "cell_type": "code",
   "execution_count": 4,
   "id": "3ae214dd-6e0e-4bd5-9a39-ac615191993e",
   "metadata": {},
   "outputs": [
    {
     "name": "stdin",
     "output_type": "stream",
     "text": [
      "Enter a string:  kaushik\n"
     ]
    },
    {
     "name": "stdout",
     "output_type": "stream",
     "text": [
      "['a', 'u', 'i']\n"
     ]
    }
   ],
   "source": [
    "#29. Develop a program that extracts the vowels from a string and stores them in a list using list comprehension.\n",
    "\n",
    "#declare string\n",
    "string=input(\"Enter a string: \")\n",
    "vowels='aeiouAEIOU'\n",
    "\n",
    "#check the vowels is present on string\n",
    "vowels_list=[char for char in string if char in vowels]\n",
    "print(vowels_list)"
   ]
  },
  {
   "cell_type": "code",
   "execution_count": 2,
   "id": "705e04a3-af28-4e82-b89c-0c3c41aa049a",
   "metadata": {},
   "outputs": [
    {
     "name": "stdout",
     "output_type": "stream",
     "text": [
      "['88', '89', '87']\n"
     ]
    }
   ],
   "source": [
    "#30. Create a program that removes all non-numeric characters from a list of strings using list comprehension.\n",
    "\n",
    "li=['fsd88df','rter89ter','wefsf87df']\n",
    "\n",
    "non_numeric_list=[''.join([char for char in string if char.isdigit()]) for string in li]\n",
    "print(non_numeric_list)"
   ]
  },
  {
   "cell_type": "code",
   "execution_count": 4,
   "id": "d1ffe18d-95a8-46a3-b335-77d777d1dfbc",
   "metadata": {},
   "outputs": [
    {
     "name": "stdout",
     "output_type": "stream",
     "text": [
      "[2, 3, 5, 7, 11, 13, 17, 19, 23, 29]\n"
     ]
    }
   ],
   "source": [
    "#Challenge Level\n",
    "\n",
    "#31. Write a program to generate a list of prime numbers using the Sieve of Eratosthenes algorithm and list comprehension.\n",
    "\n",
    "n=30\n",
    "\n",
    "sieve=[True]*(n+1)\n",
    "sieve[0]=sieve[1]=False\n",
    "\n",
    "for i in range(2,int(n**0.5)+1):\n",
    "    if sieve[i]:\n",
    "        sieve[i*i:n+1:i]=[False] * len(range(i*i,n+1,i))\n",
    "        \n",
    "primes=[i for i in range(n+1) if sieve[i]]\n",
    "print(primes)"
   ]
  },
  {
   "cell_type": "code",
   "execution_count": 6,
   "id": "a30d1a07-86a7-41bd-a636-4bf3cd2b4b40",
   "metadata": {},
   "outputs": [
    {
     "name": "stdout",
     "output_type": "stream",
     "text": [
      "[(3, 4, 5), (5, 12, 13), (6, 8, 10), (8, 15, 17), (9, 12, 15), (12, 16, 20)]\n"
     ]
    }
   ],
   "source": [
    "#32. Create a program that generates a list of all Pythagorean triplets up to a specified limit using list comprehension.\n",
    "\n",
    "limit=20\n",
    "\n",
    "#I check the logic a^2+b^2=c^2\n",
    "pythagorean_triplets=[(a,b,c) for a in range(1,limit+1) for b in range(a,limit+1) for c in range(b,limit+1) if a*a+b*b==c*c]\n",
    "print(pythagorean_triplets)"
   ]
  },
  {
   "cell_type": "code",
   "execution_count": 7,
   "id": "7fe26480-d341-4837-8cc0-672baf767168",
   "metadata": {},
   "outputs": [
    {
     "name": "stdout",
     "output_type": "stream",
     "text": [
      "[('a', 1), ('a', 2), ('a', 3), ('b', 1), ('b', 2), ('b', 3), ('c', 1), ('c', 2), ('c', 3)]\n"
     ]
    }
   ],
   "source": [
    "#33. Develop a program that generates a list of all possible combinations of two lists using list comprehension.\n",
    "\n",
    "lis1=['a','b','c']\n",
    "lis2=[1,2,3]\n",
    "\n",
    "combinations=[(x,y) for x in lis1 for y in lis2]\n",
    "print(combinations)"
   ]
  },
  {
   "cell_type": "code",
   "execution_count": 34,
   "id": "b6596d2a-4e45-4a15-bc21-273427487f03",
   "metadata": {},
   "outputs": [
    {
     "name": "stdout",
     "output_type": "stream",
     "text": [
      "Mean: 4.25\n",
      "Median: 4.5\n",
      "Mode: [2, 6]\n"
     ]
    }
   ],
   "source": [
    "#34. Write a program that calculates the mean, median, and mode of a list of numbers using list comprehension.\n",
    "\n",
    "from collections import Counter\n",
    "\n",
    "li=[1,2,2,4,6,6,5,8]\n",
    "\n",
    "mean=sum(li)/len(li)\n",
    "\n",
    "sorted_numbers=sorted(li)\n",
    "n=len(li)\n",
    "median=(sorted_numbers[n//2-1]+sorted_numbers[n//2])/2 if n%2==0 else sorted_numbers[n//2]\n",
    "\n",
    "frequency=Counter(li)\n",
    "max_freq=max(frequency.values())\n",
    "mode=[num for num,freq in frequency.items() if freq==max_freq]\n",
    "\n",
    "print(f\"Mean: {mean}\")\n",
    "print(f\"Median: {median}\")\n",
    "print(f\"Mode: {mode}\")"
   ]
  },
  {
   "cell_type": "code",
   "execution_count": 40,
   "id": "f6c71437-141f-4248-bdac-7b9f38a4561c",
   "metadata": {},
   "outputs": [
    {
     "name": "stdout",
     "output_type": "stream",
     "text": [
      "[1]\n",
      "[1, 1]\n",
      "[1, 2, 1]\n",
      "[1, 3, 3, 1]\n",
      "[1, 4, 6, 4, 1]\n"
     ]
    }
   ],
   "source": [
    "#35. Create a program that generates Pascal's triangle up to a specified number of rows using list comprehension.\n",
    "\n",
    "rows=5\n",
    "\n",
    "traingle=[[1] * (row+1) for row in range(rows)]\n",
    "\n",
    "for i in range(2,rows):\n",
    "    for j in range(1,i):\n",
    "        traingle[i][j]=traingle[i-1][j-1]+traingle[i-1][j]\n",
    "for row in traingle:\n",
    "    print(row)"
   ]
  },
  {
   "cell_type": "code",
   "execution_count": 42,
   "id": "c9c325fa-50c9-493f-9dd4-52325e1c9e06",
   "metadata": {},
   "outputs": [
    {
     "name": "stdout",
     "output_type": "stream",
     "text": [
      "[1, 1, 2, 6, 6, 3]\n"
     ]
    }
   ],
   "source": [
    "#36. Develop a program that calculates the sum of the digits of a factorial of numbers from 1 to 5 using list comprehension.\n",
    "\n",
    "factorial=[1]\n",
    "for i in range(1,6):\n",
    "    factorial.append(factorial[-1]*i)\n",
    "sum_of_digits=[sum(int(digit) for digit in str(fact)) for fact in factorial]\n",
    "\n",
    "\n",
    "print(sum_of_digits)"
   ]
  },
  {
   "cell_type": "code",
   "execution_count": 45,
   "id": "37dfeb45-ab5b-46ec-b82e-7176e0f2b6f4",
   "metadata": {},
   "outputs": [
    {
     "name": "stdout",
     "output_type": "stream",
     "text": [
      "The longest word in a sentence is:  shraddha\n"
     ]
    }
   ],
   "source": [
    "#37. Write a program that finds the longest word in a sentence using list comprehension.\n",
    "\n",
    "sentence = \"Hello, Am shraddha Patil coming from nashik to learn data science.\"\n",
    "\n",
    "words=sentence.split()\n",
    "max_word=max(words,key= lambda word: len(word))\n",
    "print(\"The longest word in a sentence is: \",max_word)"
   ]
  },
  {
   "cell_type": "code",
   "execution_count": 48,
   "id": "2f918afd-b79b-4359-ae24-dafb0e8dddb9",
   "metadata": {},
   "outputs": [
    {
     "name": "stdout",
     "output_type": "stream",
     "text": [
      "Strings with more than three vowels: ['Hello, welcome to OpenAI ChatGPT!', 'This is a sample sentence with vowels.', 'Python programming is awesome.', 'I love coding and AI.', 'How many vowels are in this sentence?']\n",
      "Hello, welcome to OpenAI ChatGPT!\n",
      "This is a sample sentence with vowels.\n",
      "Python programming is awesome.\n",
      "I love coding and AI.\n",
      "How many vowels are in this sentence?\n"
     ]
    }
   ],
   "source": [
    "#38. Create a program that filters a list of strings to include only those with more than three vowels using list comprehension.\n",
    "\n",
    "# Define the list of strings\n",
    "strings = [\n",
    "    \"Hello, welcome to OpenAI ChatGPT!\",\n",
    "    \"This is a sample sentence with vowels.\",\n",
    "    \"Python programming is awesome.\",\n",
    "    \"I love coding and AI.\",\n",
    "    \"How many vowels are in this sentence?\"\n",
    "]\n",
    "\n",
    "# Define vowels set\n",
    "vowels = {'a', 'e', 'i', 'o', 'u', 'A', 'E', 'I', 'O', 'U'}\n",
    "\n",
    "# Filter strings with more than three vowels using list comprehension\n",
    "filtered_strings = [s for s in strings if sum(1 for char in s if char in vowels) > 3]\n",
    "\n",
    "# Print the filtered strings\n",
    "print(\"Strings with more than three vowels:\",filtered_strings)\n",
    "for string in filtered_strings:\n",
    "    print(string)\n"
   ]
  },
  {
   "cell_type": "code",
   "execution_count": 49,
   "id": "a89b42d1-f102-42ad-8e5b-b1d5bb557242",
   "metadata": {},
   "outputs": [
    {
     "name": "stdout",
     "output_type": "stream",
     "text": [
      "The sum of the digits of numbers from 1 to 1000 is: 13501\n"
     ]
    }
   ],
   "source": [
    "#39. Develop a program that calculates the sum of the digits of numbers from 1 to 1000 using list comprehension.\n",
    "\n",
    "# Calculate sum of digits for numbers from 1 to 1000 using list comprehension\n",
    "sum_of_digits = sum(sum(int(digit) for digit in str(num)) for num in range(1, 1001))\n",
    "\n",
    "# Print the result\n",
    "print(f\"The sum of the digits of numbers from 1 to 1000 is: {sum_of_digits}\")\n"
   ]
  },
  {
   "cell_type": "code",
   "execution_count": 50,
   "id": "24dfd8f4-9b8a-4499-91ce-ba4545e12470",
   "metadata": {},
   "outputs": [
    {
     "name": "stdout",
     "output_type": "stream",
     "text": [
      "Prime palindromic numbers: [2, 3, 5, 7, 11, 101, 131, 151, 181, 191, 313, 353, 373, 383, 727, 757, 787, 797, 919, 929]\n"
     ]
    }
   ],
   "source": [
    "#40. Write a program that generates a list of prime palindromic numbers using list comprehension.\n",
    "\n",
    "# Generate a list of prime palindromic numbers using list comprehension\n",
    "prime_palindromes = [num for num in range(2, 1000)\n",
    "                     if all(num % i != 0 for i in range(2, int(num**0.5) + 1))\n",
    "                     and str(num) == str(num)[::-1]]\n",
    "\n",
    "# Print the list of prime palindromic numbers\n",
    "print(\"Prime palindromic numbers:\", prime_palindromes)\n"
   ]
  },
  {
   "cell_type": "code",
   "execution_count": null,
   "id": "8f8f89d7-8ba8-4fff-8072-cb216ac29c23",
   "metadata": {},
   "outputs": [],
   "source": []
  }
 ],
 "metadata": {
  "kernelspec": {
   "display_name": "Python 3 (ipykernel)",
   "language": "python",
   "name": "python3"
  },
  "language_info": {
   "codemirror_mode": {
    "name": "ipython",
    "version": 3
   },
   "file_extension": ".py",
   "mimetype": "text/x-python",
   "name": "python",
   "nbconvert_exporter": "python",
   "pygments_lexer": "ipython3",
   "version": "3.10.8"
  }
 },
 "nbformat": 4,
 "nbformat_minor": 5
}
