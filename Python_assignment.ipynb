{
 "cells": [
  {
   "cell_type": "code",
   "execution_count": 3,
   "id": "079e420c-8a47-469d-89dc-4388fe72b033",
   "metadata": {},
   "outputs": [
    {
     "name": "stdout",
     "output_type": "stream",
     "text": [
      "1\n",
      "2\n",
      "3\n",
      "4\n",
      "5\n",
      "6\n",
      "7\n",
      "8\n",
      "9\n",
      "10\n"
     ]
    }
   ],
   "source": [
    "#For Loop :-\n",
    "#1. Write a Python program to print numbers from 1 to 10 using a for loop.\n",
    "\n",
    "for i in range(1,11): #Used range function for printing the numbers\n",
    "    print(i)"
   ]
  },
  {
   "cell_type": "code",
   "execution_count": 5,
   "id": "b53262f0-1471-4c09-bbc8-4ae2d8f67bc8",
   "metadata": {},
   "outputs": [],
   "source": [
    "#2. Explain the difference between a for loop and a while loop in Python.\n",
    "\n",
    "for loop:\n",
    "When you want to iterate over a sequence (like a list, tuple, string, or range) and you know in advance how many times to loop.\n",
    "\n",
    "syntax:\n",
    "for item in sequence:\n",
    "    # code block\n",
    "\n",
    "exmaple:\n",
    "for i in range(5):\n",
    "    print(i)\n",
    "\n",
    "#output:\n",
    "0\n",
    "1\n",
    "2\n",
    "3\n",
    "4\n",
    "\n",
    "while loop:\n",
    "    When you want to repeat a block of code as long as a condition is True. You don’t need to know in advance how many times the loop will run.\n",
    "\n",
    "syntax:\n",
    "while condition:\n",
    "    # code block\n",
    "\n",
    "example:\n",
    "i = 0\n",
    "while i < 5:\n",
    "    print(i)\n",
    "    i += 1\n",
    "\n",
    "#output:\n",
    "0\n",
    "1\n",
    "2\n",
    "3\n",
    "4"
   ]
  },
  {
   "cell_type": "code",
   "execution_count": 7,
   "id": "3b383bd6-e581-442d-be5a-3fad671ee71b",
   "metadata": {},
   "outputs": [
    {
     "name": "stdout",
     "output_type": "stream",
     "text": [
      "5050\n"
     ]
    }
   ],
   "source": [
    "#3. Write a Python program to calculate the sum of all numbers from 1 to 100 using a for loop.\n",
    "result=0\n",
    "for i in range(1,101):\n",
    "    result+=i\n",
    "print(result)"
   ]
  },
  {
   "cell_type": "code",
   "execution_count": 9,
   "id": "a72fa1c2-91ec-4c1e-94c9-de467bb20044",
   "metadata": {},
   "outputs": [
    {
     "name": "stdout",
     "output_type": "stream",
     "text": [
      "4\n",
      "5\n",
      "8\n",
      "9\n"
     ]
    }
   ],
   "source": [
    "#4. How do you iterate through a list using a for loop in Python?\n",
    "l4=[4,5,8,9]\n",
    "\n",
    "#for loop iterate each element on by one on list\n",
    "for i in l4:\n",
    "    print(i)"
   ]
  },
  {
   "cell_type": "code",
   "execution_count": 11,
   "id": "1767fd28-48d4-4a00-9c5a-0368ae94d012",
   "metadata": {},
   "outputs": [
    {
     "name": "stdout",
     "output_type": "stream",
     "text": [
      "3456\n"
     ]
    }
   ],
   "source": [
    "#5. Write a Python program to find the product of all elements in a list using a for loop.\n",
    "l5=[8,9,2,4,6]\n",
    "#start with result = 1 (since 1 is the identity for multiplication).\n",
    "result=1\n",
    "\n",
    "#for loop multiplies each element of the list into result.\n",
    "for i in l5:\n",
    "    result*=i\n",
    "print(result)"
   ]
  },
  {
   "cell_type": "code",
   "execution_count": 12,
   "id": "cd933741-4b5f-4da1-acfc-39ee510be027",
   "metadata": {},
   "outputs": [
    {
     "name": "stdout",
     "output_type": "stream",
     "text": [
      "2\n",
      "4\n",
      "6\n",
      "8\n",
      "10\n",
      "12\n",
      "14\n",
      "16\n",
      "18\n",
      "20\n"
     ]
    }
   ],
   "source": [
    "#6. Create a Python program that prints all even numbers from 1 to 20 using a for loop\n",
    "\n",
    "#In for loop use range function for 1 to 20\n",
    "for i in range(1,21):\n",
    "    if i%2==0:        #check i is divided and gives reminder 0 so its even\n",
    "        print(i)"
   ]
  },
  {
   "cell_type": "code",
   "execution_count": 15,
   "id": "6fc678ab-7fe2-486b-9a23-8876974ebaf6",
   "metadata": {},
   "outputs": [
    {
     "name": "stdin",
     "output_type": "stream",
     "text": [
      "Enter the number:  4\n"
     ]
    },
    {
     "name": "stdout",
     "output_type": "stream",
     "text": [
      "24\n"
     ]
    }
   ],
   "source": [
    "#7. Write a Python program that calculates the factorial of a number using a for loop.\n",
    "n=int(input(\"Enter the number: \"))\n",
    "\n",
    "#Initialize the factorial variable\n",
    "factorial=1\n",
    "\n",
    "for i in range(1,n+1):\n",
    "    factorial*=i\n",
    "print(factorial)"
   ]
  },
  {
   "cell_type": "code",
   "execution_count": 16,
   "id": "a7c5a96d-a08c-4d67-a7be-ef783431194c",
   "metadata": {},
   "outputs": [
    {
     "name": "stdout",
     "output_type": "stream",
     "text": [
      "s\n",
      "h\n",
      "r\n",
      "a\n",
      "d\n",
      "d\n",
      "h\n",
      "a\n"
     ]
    }
   ],
   "source": [
    "#8. How can you iterate through the characters of a string using a for loop in Python?\n",
    "\n",
    "#First initialize string\n",
    "s8=\"shraddha\"\n",
    "\n",
    "for i in s8:\n",
    "    print(i)"
   ]
  },
  {
   "cell_type": "code",
   "execution_count": 20,
   "id": "e1ba2f3c-977d-4a8d-bcbf-32058b4bebce",
   "metadata": {},
   "outputs": [
    {
     "name": "stdout",
     "output_type": "stream",
     "text": [
      "9\n"
     ]
    }
   ],
   "source": [
    "#9. Write a Python program to find the largest number in a list using a for loop.\n",
    "l9=[8,6,7,4,9]\n",
    "max_num=l9[0]\n",
    "\n",
    "for i in l9:\n",
    "    if i>max_num:\n",
    "        max_num=i\n",
    "print(max_num)"
   ]
  },
  {
   "cell_type": "code",
   "execution_count": 22,
   "id": "0039c557-8230-4980-9a81-6a8df1f1b5fc",
   "metadata": {},
   "outputs": [
    {
     "name": "stdin",
     "output_type": "stream",
     "text": [
      "Enter the limit:  5\n"
     ]
    },
    {
     "name": "stdout",
     "output_type": "stream",
     "text": [
      "[0, 1, 1, 2, 3]\n"
     ]
    }
   ],
   "source": [
    "#10. Create a Python program that prints the Fibonacci sequence up to a specified limit using a for loop.\n",
    "\n",
    "limit=int(input(\"Enter the limit: \"))\n",
    "fibonacci_series=[0,1]\n",
    "\n",
    "for i in range(2,limit):\n",
    "        next_fibonacci=fibonacci_series[i-1]+fibonacci_series[i-2]\n",
    "        fibonacci_series.append(next_fibonacci)\n",
    "print(fibonacci_series)"
   ]
  },
  {
   "cell_type": "code",
   "execution_count": 25,
   "id": "75c4a568-93e5-48bb-83e3-3c46a75e135d",
   "metadata": {},
   "outputs": [
    {
     "name": "stdout",
     "output_type": "stream",
     "text": [
      "2\n"
     ]
    }
   ],
   "source": [
    "#11. Write a Python program to count the number of vowels in a given string using a for loop.\n",
    "\n",
    "s11=\"shraddha\"\n",
    "vowels=\"aeiouAEIOU\"\n",
    "count=0\n",
    "\n",
    "for i in s11:\n",
    "    if i in vowels:\n",
    "        count+=1\n",
    "print(count)"
   ]
  },
  {
   "cell_type": "code",
   "execution_count": 27,
   "id": "92b05b50-4001-4cc2-bee3-bd18f24e33ad",
   "metadata": {},
   "outputs": [
    {
     "name": "stdin",
     "output_type": "stream",
     "text": [
      "Enter the number:  3\n"
     ]
    },
    {
     "name": "stdout",
     "output_type": "stream",
     "text": [
      "3 * 1 = 3\n",
      "3 * 2 = 6\n",
      "3 * 3 = 9\n",
      "3 * 4 = 12\n",
      "3 * 5 = 15\n",
      "3 * 6 = 18\n",
      "3 * 7 = 21\n",
      "3 * 8 = 24\n",
      "3 * 9 = 27\n",
      "3 * 10 = 30\n"
     ]
    }
   ],
   "source": [
    "#12. Create a Python program that generates a multiplication table for a given number using a for loop.\n",
    "\n",
    "n=int(input(\"Enter the number: \"))\n",
    "\n",
    "for i in range(1,11):\n",
    "    print(f\"{n} * {i} = {n*i}\")"
   ]
  },
  {
   "cell_type": "code",
   "execution_count": 29,
   "id": "0118c692-6152-427e-b6e5-450ef8f0f10e",
   "metadata": {},
   "outputs": [
    {
     "name": "stdout",
     "output_type": "stream",
     "text": [
      "[7, 6, 3, 8, 4]\n"
     ]
    }
   ],
   "source": [
    "#13. Write a Python program to reverse a list using a for loop.\n",
    "l13=[4,8,3,6,7]\n",
    "reversed_list=[]\n",
    "\n",
    "for i in l13:\n",
    "    reversed_list.insert(0,i)\n",
    "print(reversed_list)"
   ]
  },
  {
   "cell_type": "code",
   "execution_count": 30,
   "id": "2fe61fbb-234a-46c8-ada3-dc7ae0535d21",
   "metadata": {},
   "outputs": [
    {
     "name": "stdout",
     "output_type": "stream",
     "text": [
      "3\n",
      "7\n",
      "6\n"
     ]
    }
   ],
   "source": [
    "#14. Write a Python program to find the common elements between two lists using a for loop.\n",
    "l1=[4,8,3,7,6]\n",
    "l2=[6,2,5,3,7]\n",
    "\n",
    "for i in l1:\n",
    "    if i in l2:\n",
    "        print(i)"
   ]
  },
  {
   "cell_type": "code",
   "execution_count": 35,
   "id": "5707f02a-9fd7-4459-a527-aedf533ea458",
   "metadata": {},
   "outputs": [
    {
     "name": "stdout",
     "output_type": "stream",
     "text": [
      "name\n",
      "age\n",
      "address\n",
      "name :shraddha\n",
      "age :25\n",
      "address :nashik\n"
     ]
    }
   ],
   "source": [
    "#15. Explain how to use a for loop to iterate through the keys and values of a dictionary in Python.\n",
    "\n",
    "d15={\"name\":\"shraddha\",\"age\":25,\"address\":\"nashik\"}\n",
    "\n",
    "#I iterate through a d15 on simple way its give me all keys as a output\n",
    "for i in d15:\n",
    "    print(i)\n",
    "\n",
    "'''output:\n",
    "name\n",
    "age\n",
    "address'''\n",
    "\n",
    "#I want keys and values both so I used items() function its give me a both\n",
    "for keys,values in d15.items():\n",
    "    print(f\"{keys} :{values}\")"
   ]
  },
  {
   "cell_type": "code",
   "execution_count": 38,
   "id": "a64c0ab6-8744-4e9d-a4c8-fab29f5d8cec",
   "metadata": {},
   "outputs": [
    {
     "name": "stdin",
     "output_type": "stream",
     "text": [
      "Enter the first number:  12\n",
      "Enter the second number:  18\n"
     ]
    },
    {
     "name": "stdout",
     "output_type": "stream",
     "text": [
      "The grestest common divisor is:  6\n"
     ]
    }
   ],
   "source": [
    "#16. Write a Python program to find the GCD (Greatest Common Divisor) of two numbers using a for loop.\n",
    "a=int(input(\"Enter the first number: \"))\n",
    "b=int(input(\"Enter the second number: \"))\n",
    "\n",
    "gcd=1\n",
    "\n",
    "for i in range(1,min(a,b)+1):\n",
    "    if a%i==0 and b%i==0:\n",
    "        gcd=i\n",
    "\n",
    "print(\"The grestest common divisor is: \",gcd)"
   ]
  },
  {
   "cell_type": "code",
   "execution_count": 42,
   "id": "77ca6859-7d9b-4c3a-9e52-f05a9d2bebbf",
   "metadata": {},
   "outputs": [
    {
     "name": "stdin",
     "output_type": "stream",
     "text": [
      "Enter the string:  a ba\n"
     ]
    },
    {
     "name": "stdout",
     "output_type": "stream",
     "text": [
      "The string is a palindrome.\n"
     ]
    }
   ],
   "source": [
    "#17: Create a Python program that checks if a string is a palindrome using a for loop.\n",
    "user_input=input(\"Enter the string: \")\n",
    "\n",
    "string=user_input.replace(\" \",\"\").lower()\n",
    "is_palindrome=True\n",
    "\n",
    "for i in range(len(string)//2):\n",
    "    if string[i]!=string[len(string)-1-i]:\n",
    "        is_palindrome=False\n",
    "        break\n",
    "if is_palindrome:\n",
    "    print(\"The string is a palindrome.\")\n",
    "else:\n",
    "    print(\"The string is not a palindrome.\")"
   ]
  },
  {
   "cell_type": "code",
   "execution_count": 43,
   "id": "a707d67c-d5ec-4dad-9042-258b953537d3",
   "metadata": {},
   "outputs": [
    {
     "name": "stdout",
     "output_type": "stream",
     "text": [
      "[2, 7, 8, 9, 1, 3]\n"
     ]
    }
   ],
   "source": [
    "#18. Write a Python program to remove duplicates from a list using a for loop.\n",
    "l18=[2,7,8,9,8,2,1,3]\n",
    "without_duplicates=[]\n",
    "\n",
    "for i in l18:\n",
    "    if i not in without_duplicates:\n",
    "        without_duplicates.append(i)\n",
    "print(without_duplicates)"
   ]
  },
  {
   "cell_type": "code",
   "execution_count": 47,
   "id": "7a3121c4-b4da-4e82-9d91-c33dc455fb4e",
   "metadata": {},
   "outputs": [
    {
     "name": "stdout",
     "output_type": "stream",
     "text": [
      "8\n"
     ]
    }
   ],
   "source": [
    "#19. Create a Python program that counts the number of words in a sentence using a for loop.\n",
    "s19=\"Hello all of you I am shraddha Patil\".split()\n",
    "# print(s19)\n",
    "count=0\n",
    "\n",
    "for i in s19:\n",
    "    count+=1\n",
    "print(count)"
   ]
  },
  {
   "cell_type": "code",
   "execution_count": 49,
   "id": "12325720-bbfd-420a-9518-7944eb778826",
   "metadata": {},
   "outputs": [
    {
     "name": "stdout",
     "output_type": "stream",
     "text": [
      "625\n"
     ]
    }
   ],
   "source": [
    "#20. Write a Python program to find the sum of all odd numbers from 1 to 50 using a for loop.\n",
    "result=0\n",
    "for i in range(1,51):\n",
    "    if i%2!=0:\n",
    "        result+=i\n",
    "print(result)"
   ]
  },
  {
   "cell_type": "code",
   "execution_count": 51,
   "id": "1a7f6249-43d7-47c6-a769-b3e52ffb4775",
   "metadata": {},
   "outputs": [
    {
     "name": "stdin",
     "output_type": "stream",
     "text": [
      "Enter the year:  2024\n"
     ]
    },
    {
     "name": "stdout",
     "output_type": "stream",
     "text": [
      "2024 The year is a leap year.\n"
     ]
    }
   ],
   "source": [
    "#21. Write a Python program that checks if a given year is a leap year using a for loop.\n",
    "year=int(input(\"Enter the year: \"))\n",
    "\n",
    "for i in range(1):\n",
    "    if (i%4==0 and i%100!=0) or (i%400==0):\n",
    "        print(year,\"The year is a leap year.\")\n",
    "    else:\n",
    "        print(year,\"The year is not a leap year.\")"
   ]
  },
  {
   "cell_type": "code",
   "execution_count": 55,
   "id": "a9296c53-bf6f-4f2e-87c5-884b5472f121",
   "metadata": {},
   "outputs": [
    {
     "name": "stdin",
     "output_type": "stream",
     "text": [
      "Enter the positive number:  9\n"
     ]
    },
    {
     "name": "stdout",
     "output_type": "stream",
     "text": [
      "The square root of 9.0 is 3.0\n"
     ]
    }
   ],
   "source": [
    "#22. Create a Python program that calculates the square root of a number using a for loop.\n",
    "n=float(input(\"Enter the positive number: \"))\n",
    "\n",
    "#Initial guess\n",
    "guess=n/2.0\n",
    "\n",
    "#Initialize iterations\n",
    "iterations=10\n",
    "\n",
    "#execute the loop using babylonian or heroin's method formula\n",
    "for i in range(iterations):\n",
    "    guess=(guess+n/guess)/2\n",
    "print(f\"The square root of {n} is {guess}\")"
   ]
  },
  {
   "cell_type": "code",
   "execution_count": 57,
   "id": "c927a129-cab1-4476-bd0d-0313daf5d494",
   "metadata": {},
   "outputs": [
    {
     "name": "stdin",
     "output_type": "stream",
     "text": [
      "Enter the first number:  5\n",
      "Enter the second number:  9\n"
     ]
    },
    {
     "name": "stdout",
     "output_type": "stream",
     "text": [
      "The lcm is:  45\n"
     ]
    }
   ],
   "source": [
    "#23. Write a Python program to find the LCM (Least Common Multiple) of two numbers using a for loop.\n",
    "num1=int(input(\"Enter the first number: \"))\n",
    "num2=int(input(\"Enter the second number: \"))\n",
    "\n",
    "#first find the greater number\n",
    "if num1>num2:\n",
    "    greater=num1\n",
    "else:\n",
    "    greater=num2\n",
    "\n",
    "for i in range(greater,(num1*num2)+1):\n",
    "    if i%num1==0 and i%num2==0:\n",
    "        lcm=i\n",
    "        break\n",
    "\n",
    "print(\"The lcm is: \",lcm)"
   ]
  },
  {
   "cell_type": "code",
   "execution_count": 60,
   "id": "ab07c25c-d7ee-4dbf-8388-7fb8eab4c926",
   "metadata": {},
   "outputs": [
    {
     "name": "stdin",
     "output_type": "stream",
     "text": [
      "Enter the number:  -8\n"
     ]
    },
    {
     "name": "stdout",
     "output_type": "stream",
     "text": [
      "The number is negative.\n"
     ]
    }
   ],
   "source": [
    "#If else :\n",
    "\n",
    "#1. Write a Python program to check if a number is positive, negative, or zero using an if-else statement.\n",
    "n=int(input(\"Enter the number: \"))\n",
    "\n",
    "if n==0:\n",
    "    print(\"The number is zero.\")\n",
    "elif n>0:\n",
    "    print(\"The number is positive.\")\n",
    "else:\n",
    "    print(\"The number is negative.\")"
   ]
  },
  {
   "cell_type": "code",
   "execution_count": 62,
   "id": "eb53bba9-5194-4a9d-964d-4e2317906a30",
   "metadata": {},
   "outputs": [
    {
     "name": "stdin",
     "output_type": "stream",
     "text": [
      "Enter the number:  4\n"
     ]
    },
    {
     "name": "stdout",
     "output_type": "stream",
     "text": [
      "The number is even.\n"
     ]
    }
   ],
   "source": [
    "#2. Create a Python program that checks if a given number is even or odd using an if-else statement.\n",
    "n=int(input(\"Enter the number: \"))\n",
    "\n",
    "if n%2==0:\n",
    "    print(\"The number is even.\")\n",
    "else:\n",
    "    print(\"The number is odd.\")"
   ]
  },
  {
   "cell_type": "code",
   "execution_count": 64,
   "id": "f00094ea-6331-4c1d-a5b8-9eb50fa38847",
   "metadata": {},
   "outputs": [
    {
     "name": "stdin",
     "output_type": "stream",
     "text": [
      "Enter your available money:  400\n",
      "Which fruit do you want to buy?  apple\n"
     ]
    },
    {
     "name": "stdout",
     "output_type": "stream",
     "text": [
      "You might be able to buy a fruit.\n",
      "Yes, Apple is available.\n",
      "You don't have enough money for apple. You need ₹500\n"
     ]
    }
   ],
   "source": [
    "#3. How can you use nested if-else statements in Python, and provide an example?\n",
    "\n",
    "#explain these using buy the fruit on the market example\n",
    "\n",
    "#first Initialize money you have in your pocket\n",
    "# Initialize money and fruit store\n",
    "money = int(input(\"Enter your available money: \"))\n",
    "available_fruit = [\"apple\", \"mango\", \"banana\"]\n",
    "fruit_prices = {\"apple\": 500, \"mango\": 400, \"banana\": 300}\n",
    "\n",
    "# Ask user which fruit they want\n",
    "user_want = input(\"Which fruit do you want to buy? \").lower()\n",
    "\n",
    "if money >= 300:  # Minimum fruit price\n",
    "    print(\"You might be able to buy a fruit.\")\n",
    "    \n",
    "    if user_want in available_fruit:\n",
    "        print(f\"Yes, {user_want.capitalize()} is available.\")\n",
    "\n",
    "        if money >= fruit_prices[user_want]:\n",
    "            print(f\"You can afford {user_want}. Price: ₹{fruit_prices[user_want]}\")\n",
    "        else:\n",
    "            print(f\"You don't have enough money for {user_want}. You need ₹{fruit_prices[user_want]}\")\n",
    "    else:\n",
    "        print(f\"Sorry, {user_want} is not available in the store.\")\n",
    "\n",
    "else:\n",
    "    print(\"You don't have enough money to buy any fruit.\")"
   ]
  },
  {
   "cell_type": "code",
   "execution_count": 65,
   "id": "77a19f8d-1a0c-4caf-8524-b141677306e0",
   "metadata": {},
   "outputs": [
    {
     "name": "stdin",
     "output_type": "stream",
     "text": [
      "Enter the first number:  5\n",
      "Enter the second number:  8\n",
      "Enter the third number:  2\n"
     ]
    },
    {
     "name": "stdout",
     "output_type": "stream",
     "text": [
      "The largest number is:  8\n"
     ]
    }
   ],
   "source": [
    "#4. Write a Python program to determine the largest of three numbers using if-else\n",
    "a=int(input(\"Enter the first number: \"))\n",
    "b=int(input(\"Enter the second number: \"))\n",
    "c=int(input(\"Enter the third number: \"))\n",
    "\n",
    "if a>b and a>c:\n",
    "    print(\"The largest number is: \",a)\n",
    "elif b>a and b>c:\n",
    "    print(\"The largest number is: \",b)\n",
    "else:\n",
    "    print(\"The largest number is: \",c)"
   ]
  },
  {
   "cell_type": "code",
   "execution_count": 67,
   "id": "b9a525c3-4b2a-4f3b-a619-1c4a4c2ab315",
   "metadata": {},
   "outputs": [
    {
     "name": "stdin",
     "output_type": "stream",
     "text": [
      "Enter the number:  5\n"
     ]
    },
    {
     "name": "stdout",
     "output_type": "stream",
     "text": [
      "The absolute value is:  5\n"
     ]
    }
   ],
   "source": [
    "#5. Write a Python program that calculates the absolute value of a number using if-else.\n",
    "n=int(input(\"Enter the number: \"))\n",
    "\n",
    "if n <0:\n",
    "    absolute_value=-n\n",
    "    print(\"The absolute value is: \",absolute_value)\n",
    "else:\n",
    "    print(\"The absolute value is: \",n)"
   ]
  },
  {
   "cell_type": "code",
   "execution_count": 73,
   "id": "712b415a-514b-4b91-a685-a97cc80e04f2",
   "metadata": {},
   "outputs": [
    {
     "name": "stdin",
     "output_type": "stream",
     "text": [
      "Enter a single character. g\n"
     ]
    },
    {
     "name": "stdout",
     "output_type": "stream",
     "text": [
      "The character is consonant.\n"
     ]
    }
   ],
   "source": [
    "#6. Create a Python program that checks if a given character is a vowel or consonant using if-else.\n",
    "char=input(\"Enter a single character.\")\n",
    "\n",
    "# Check if input is a single alphabet character\n",
    "if len(char) == 1 and char.isalpha():\n",
    "    vowel=\"aeiouAEIOU\"\n",
    "    \n",
    "    if char in vowel:\n",
    "        print(\"The character is vowel.\")\n",
    "    else:\n",
    "        print(\"The character is consonant.\")\n",
    "else:\n",
    "    print(\"Invalid input. Please enter a single alphabet letter.\")"
   ]
  },
  {
   "cell_type": "code",
   "execution_count": 76,
   "id": "3883781c-9356-4ca3-ba27-4fac9ddf69dd",
   "metadata": {},
   "outputs": [
    {
     "name": "stdin",
     "output_type": "stream",
     "text": [
      "Enter the age:  19\n"
     ]
    },
    {
     "name": "stdout",
     "output_type": "stream",
     "text": [
      "Yes,you are eligible for vote.\n"
     ]
    }
   ],
   "source": [
    "#7. Write a Python program to determine if a user is eligible to vote based on their age using if-else.\n",
    "age=int(input(\"Enter the age: \"))\n",
    "\n",
    "if age < 0:\n",
    "    print(\"Invalid input. Age cannot be negative.\")\n",
    "elif age>=18:\n",
    "    print(\"Yes,you are eligible for vote.\")\n",
    "else:\n",
    "    print(\"No,you are not eligible for vote.\")"
   ]
  },
  {
   "cell_type": "code",
   "execution_count": 78,
   "id": "a749c431-2ae1-46e9-b8b5-6f37f8fbf0bb",
   "metadata": {},
   "outputs": [
    {
     "name": "stdin",
     "output_type": "stream",
     "text": [
      "Enter the purchase amount (₹):  6000\n"
     ]
    },
    {
     "name": "stdout",
     "output_type": "stream",
     "text": [
      "Purchase Amount: ₹6000.0\n",
      "Discount Applied: ₹900.0\n",
      "Amount to Pay: ₹5100.0\n"
     ]
    }
   ],
   "source": [
    "#8. Create a Python program that calculates the discount amount based on the purchase amount using if-else.\n",
    "\n",
    "purchase_amount = float(input(\"Enter the purchase amount (₹): \"))\n",
    "\n",
    "if purchase_amount >= 10000:\n",
    "    discount = 0.20 * purchase_amount\n",
    "elif purchase_amount >= 5000:\n",
    "    discount = 0.15 * purchase_amount\n",
    "elif purchase_amount >= 3000:\n",
    "    discount = 0.10 * purchase_amount\n",
    "else:\n",
    "    discount = 0.0\n",
    "\n",
    "final_amount = purchase_amount - discount\n",
    "\n",
    "print(f\"Purchase Amount: ₹{purchase_amount}\")\n",
    "print(f\"Discount Applied: ₹{discount}\")\n",
    "print(f\"Amount to Pay: ₹{final_amount}\")"
   ]
  },
  {
   "cell_type": "code",
   "execution_count": 80,
   "id": "c77c9d2b-cf53-4be1-9b39-5dfbfb6c58c0",
   "metadata": {},
   "outputs": [
    {
     "name": "stdin",
     "output_type": "stream",
     "text": [
      "Enter the number:  400\n"
     ]
    },
    {
     "name": "stdout",
     "output_type": "stream",
     "text": [
      "The 400 is within the range 5 to 500.\n"
     ]
    }
   ],
   "source": [
    "#9. Write a Python program to check if a number is within a specified range using if-else.\n",
    "n=int(input(\"Enter the number: \"))\n",
    "lower=5\n",
    "upper=500\n",
    "\n",
    "if lower<= n <=upper:\n",
    "    print(f\"The {n} is within the range {lower} to {upper}.\")\n",
    "else:\n",
    "    print(f\"The {n} is outside the range {lower} to {upper}.\")"
   ]
  },
  {
   "cell_type": "code",
   "execution_count": 81,
   "id": "404f3067-bd06-48bc-aab7-04c3076b59da",
   "metadata": {},
   "outputs": [
    {
     "name": "stdin",
     "output_type": "stream",
     "text": [
      "Enter the score:  89\n"
     ]
    },
    {
     "name": "stdout",
     "output_type": "stream",
     "text": [
      "The grade of the student is: B\n"
     ]
    }
   ],
   "source": [
    "#10. Create a Python program that determines the grade of a student based on their score using if-else.\n",
    "score=float(input(\"Enter the score: \"))\n",
    "\n",
    "if score>=90:\n",
    "    grade='A'\n",
    "elif score>=80:\n",
    "    grade=\"B\"\n",
    "elif score>=70:\n",
    "    grade=\"c\"\n",
    "elif score>=60:\n",
    "    grade=\"D\"\n",
    "else:\n",
    "    grade=\"F\"\n",
    "\n",
    "print(f\"The grade of the student is: {grade}\")"
   ]
  },
  {
   "cell_type": "code",
   "execution_count": 83,
   "id": "12641436-a656-4d29-bfa6-9288886b8ca7",
   "metadata": {},
   "outputs": [
    {
     "name": "stdin",
     "output_type": "stream",
     "text": [
      "Enter the string. kau\n"
     ]
    },
    {
     "name": "stdout",
     "output_type": "stream",
     "text": [
      "The string is not empty.\n"
     ]
    }
   ],
   "source": [
    "#11. Write a Python program to check if a string is empty or not using if-else.\n",
    "string=input(\"Enter the string.\")\n",
    "\n",
    "if len(string)==0:\n",
    "    print(\"The string is empty\")\n",
    "else:\n",
    "    print(\"The string is not empty.\")"
   ]
  },
  {
   "cell_type": "code",
   "execution_count": 86,
   "id": "626d4af9-646c-4a3d-844b-b40e5dd1651f",
   "metadata": {},
   "outputs": [
    {
     "name": "stdin",
     "output_type": "stream",
     "text": [
      "Enter the first side of a triangle. 5\n",
      "Enter the second side of a triangle. 5\n",
      "Enter the third side of a triangle. 6\n"
     ]
    },
    {
     "name": "stdout",
     "output_type": "stream",
     "text": [
      "The traingle is isosceles\n"
     ]
    }
   ],
   "source": [
    "#12. Create a Python program that identifies the type of a triangle (e.g., equilateral, isosceles, or scalene) based on input values using if-else.\n",
    "a=float(input(\"Enter the first side of a triangle.\"))\n",
    "b=float(input(\"Enter the second side of a triangle.\"))\n",
    "c=float(input(\"Enter the third side of a triangle.\"))\n",
    "\n",
    "if a+b>c and a+c>b and b+c>a:\n",
    "    if a==b==c:\n",
    "        print(\"The traingle is equilateral.\")\n",
    "    elif a==b or a==c or b==c:\n",
    "        print(\"The traingle is isosceles\")\n",
    "    else:\n",
    "        print(\"The traingle is scalene\")\n",
    "else:\n",
    "    print(\"The given values do not form a valid triangle.\")"
   ]
  },
  {
   "cell_type": "code",
   "execution_count": 91,
   "id": "be1ca7ac-576f-4d13-b971-c3282ece9331",
   "metadata": {},
   "outputs": [
    {
     "name": "stdin",
     "output_type": "stream",
     "text": [
      "Enter the number (1-7):  8\n"
     ]
    },
    {
     "name": "stdout",
     "output_type": "stream",
     "text": [
      "The day is:  Invalid input! Please enter a number between 1 and 7.\n"
     ]
    }
   ],
   "source": [
    "#13. Write a Python program to determine the day of the week based on a user-provided number using if-else.\n",
    "user_number=int(input(\"Enter the number (1-7): \"))\n",
    "\n",
    "if user_number==1:\n",
    "    day=\"Monday\"\n",
    "elif user_number==2:\n",
    "    day=\"Tuesday\"  \n",
    "elif user_number==3:\n",
    "    day=\"Wednesday\"\n",
    "elif user_number==4:\n",
    "    day=\"Thursday\"\n",
    "elif user_number==5:\n",
    "    day=\"Friday\"\n",
    "elif user_number==6:\n",
    "    day=\"Saturday\"\n",
    "elif user_number==7:\n",
    "    day=\"Sunday\"\n",
    "else:\n",
    "    day = \"Invalid input! Please enter a number between 1 and 7.\"\n",
    "    \n",
    "print(\"The day is: \",day)"
   ]
  },
  {
   "cell_type": "code",
   "execution_count": 92,
   "id": "27101134-19f9-4b17-ab3a-20d79361e57a",
   "metadata": {},
   "outputs": [
    {
     "name": "stdin",
     "output_type": "stream",
     "text": [
      "Enter the year:  2000\n"
     ]
    },
    {
     "name": "stdout",
     "output_type": "stream",
     "text": [
      "The year is leap year.\n"
     ]
    }
   ],
   "source": [
    "#14. Create a Python program that checks if a given year is a leap year using both if-else and a function.\n",
    "year=int(input(\"Enter the year: \"))\n",
    "\n",
    "if (year%4==0 and year%100!=0) or (year%400==0):\n",
    "    print(\"The year is leap year.\")\n",
    "else:\n",
    "    print(\"The year is not leap year.\")\n",
    "\n",
    "#using a function"
   ]
  },
  {
   "cell_type": "code",
   "execution_count": 95,
   "id": "bf3e34bd-bd92-4656-95e1-593b1db2bd58",
   "metadata": {},
   "outputs": [],
   "source": [
    "def leap_year(year):\n",
    "    if (year%4==0 and year%100!=0) or (year%400==0):\n",
    "        return True\n",
    "    else:\n",
    "        return True"
   ]
  },
  {
   "cell_type": "code",
   "execution_count": 96,
   "id": "98ef673a-6bc3-44e5-a3b2-68619b09f508",
   "metadata": {},
   "outputs": [
    {
     "data": {
      "text/plain": [
       "True"
      ]
     },
     "execution_count": 96,
     "metadata": {},
     "output_type": "execute_result"
    }
   ],
   "source": [
    "leap_year(2024)"
   ]
  },
  {
   "cell_type": "code",
   "execution_count": 97,
   "id": "72637e2e-db87-4626-a69f-30d8058a0b7d",
   "metadata": {},
   "outputs": [
    {
     "name": "stdin",
     "output_type": "stream",
     "text": [
      "Enter your age:  -8\n"
     ]
    },
    {
     "ename": "AssertionError",
     "evalue": "Age cannot be negative",
     "output_type": "error",
     "traceback": [
      "\u001b[1;31m---------------------------------------------------------------------------\u001b[0m",
      "\u001b[1;31mAssertionError\u001b[0m                            Traceback (most recent call last)",
      "Cell \u001b[1;32mIn[97], line 5\u001b[0m\n\u001b[0;32m      2\u001b[0m age \u001b[38;5;241m=\u001b[39m \u001b[38;5;28mint\u001b[39m(\u001b[38;5;28minput\u001b[39m(\u001b[38;5;124m\"\u001b[39m\u001b[38;5;124mEnter your age: \u001b[39m\u001b[38;5;124m\"\u001b[39m))\n\u001b[0;32m      4\u001b[0m \u001b[38;5;66;03m# Add assertion for input validation\u001b[39;00m\n\u001b[1;32m----> 5\u001b[0m \u001b[38;5;28;01massert\u001b[39;00m age\u001b[38;5;241m>\u001b[39m\u001b[38;5;241m=\u001b[39m\u001b[38;5;241m0\u001b[39m,\u001b[38;5;124m\"\u001b[39m\u001b[38;5;124mAge cannot be negative\u001b[39m\u001b[38;5;124m\"\u001b[39m\n\u001b[0;32m      7\u001b[0m \u001b[38;5;28;01mif\u001b[39;00m age \u001b[38;5;241m>\u001b[39m\u001b[38;5;241m=\u001b[39m \u001b[38;5;241m18\u001b[39m:\n\u001b[0;32m      8\u001b[0m     \u001b[38;5;28mprint\u001b[39m(\u001b[38;5;124m\"\u001b[39m\u001b[38;5;124mYou are eligible to vote.\u001b[39m\u001b[38;5;124m\"\u001b[39m)\n",
      "\u001b[1;31mAssertionError\u001b[0m: Age cannot be negative"
     ]
    }
   ],
   "source": [
    "#15. How do you use the \"assert\" statement in Python to add debugging checks within if-else blocks?\n",
    "age = int(input(\"Enter your age: \"))\n",
    "\n",
    "# Add assertion for input validation\n",
    "assert age>=0,\"Age cannot be negative\"\n",
    "\n",
    "if age >= 18:\n",
    "    print(\"You are eligible to vote.\")\n",
    "else:\n",
    "    print(\"You are not eligible to vote.\")"
   ]
  },
  {
   "cell_type": "code",
   "execution_count": 98,
   "id": "278a250b-5f5d-4ec6-a612-39f72b46a0fb",
   "metadata": {},
   "outputs": [
    {
     "name": "stdin",
     "output_type": "stream",
     "text": [
      "Enter the age:  55\n"
     ]
    },
    {
     "name": "stdout",
     "output_type": "stream",
     "text": [
      "The person is not eligible for senior citizen discount.\n"
     ]
    }
   ],
   "source": [
    "#16. Create a Python program that determines the eligibility of a person for a senior citizen discount based on age using if-else.\n",
    "age=int(input(\"Enter the age: \"))\n",
    "\n",
    "if age>=60:\n",
    "    print(\"The person is eligible for senior citizen discount.\")\n",
    "else:\n",
    "    print(\"The person is not eligible for senior citizen discount.\")"
   ]
  },
  {
   "cell_type": "code",
   "execution_count": 102,
   "id": "54184d6f-3834-4abb-b571-c417371ecdbd",
   "metadata": {},
   "outputs": [
    {
     "name": "stdin",
     "output_type": "stream",
     "text": [
      "Enter a single character. l\n"
     ]
    },
    {
     "name": "stdout",
     "output_type": "stream",
     "text": [
      "The given character is lower.\n"
     ]
    }
   ],
   "source": [
    "#17. Write a Python program to categorize a given character as uppercase, lowercase, or neither using if-else.\n",
    "char=input(\"Enter a single character.\")\n",
    "\n",
    "if len(char)==1 and char.isalpha():\n",
    "    if char.islower():\n",
    "        print(\"The given character is lower.\")\n",
    "    elif char.isupper():\n",
    "        print(\"The given character is upper.\")\n",
    "    else:\n",
    "        print(\"The given character is neither uppercase nor lowercase.\")\n",
    "else:\n",
    "    print(\"Invalid input. Please enter exactly one character.\")"
   ]
  },
  {
   "cell_type": "code",
   "execution_count": 103,
   "id": "ec5bf5c3-a69f-454f-8b83-9ccd15892203",
   "metadata": {},
   "outputs": [
    {
     "name": "stdin",
     "output_type": "stream",
     "text": [
      "Enter the coefficient of a:  1\n",
      "Enter the coefficient of b:  -3\n",
      "Enter the coefficient of c:  2\n"
     ]
    },
    {
     "name": "stdout",
     "output_type": "stream",
     "text": [
      "Two real and distinct roots:\n",
      "Root 1: 2.0\n",
      "Root 2: 1.0\n"
     ]
    }
   ],
   "source": [
    "#18. Write a Python program to determine the roots of a quadratic equation using if-else.\n",
    "import math\n",
    "\n",
    "a=float(input(\"Enter the coefficient of a: \"))\n",
    "b=float(input(\"Enter the coefficient of b: \"))\n",
    "c=float(input(\"Enter the coefficient of c: \"))\n",
    "\n",
    "if a==0:\n",
    "    print(\"Not a valid quadratic equation (a cannot be 0).\")\n",
    "else:\n",
    "    descriminant=b**2-4*a*c\n",
    "\n",
    "    if descriminant>0:\n",
    "        root1=(-b+math.sqrt(descriminant))/(2*a)\n",
    "        root2=(-b-math.sqrt(descriminant))/(2*a)\n",
    "        print(\"Two real and distinct roots:\")\n",
    "        print(\"Root 1:\", root1)\n",
    "        print(\"Root 2:\", root2)\n",
    "    elif descriminant==0:\n",
    "        root=-b/(2*a)\n",
    "        print(\"Two real and equal roots:\")\n",
    "        print(\"Root:\", root)\n",
    "\n",
    "    else:\n",
    "        real=-b/(2*a)\n",
    "        imag=math.sqrt(-descriminant)/(2*a)\n",
    "        print(\"Two complex roots:\")\n",
    "        print(f\"Root 1: {real_part} + {imag_part}i\")\n",
    "        print(f\"Root 2: {real_part} - {imag_part}i\")"
   ]
  },
  {
   "cell_type": "code",
   "execution_count": 106,
   "id": "4bb22a59-b438-46f1-bcf8-11edf746605a",
   "metadata": {},
   "outputs": [
    {
     "name": "stdin",
     "output_type": "stream",
     "text": [
      "Enter the year:  2000\n"
     ]
    },
    {
     "name": "stdout",
     "output_type": "stream",
     "text": [
      "The 2000 is a century year.\n"
     ]
    }
   ],
   "source": [
    "#19. Create a Python program that checks if a given year is a century year or not using if-else.\n",
    "\n",
    "year=int(input(\"Enter the year: \"))\n",
    "\n",
    "if year%100==0:\n",
    "    print(f\"The {year} is a century year.\")\n",
    "else:\n",
    "    print(f\"The {year} is not century year.\")"
   ]
  },
  {
   "cell_type": "code",
   "execution_count": 108,
   "id": "e8a34e58-6317-4927-b096-fdfba924b74a",
   "metadata": {},
   "outputs": [
    {
     "name": "stdin",
     "output_type": "stream",
     "text": [
      "Enter the number:  20\n"
     ]
    },
    {
     "name": "stdout",
     "output_type": "stream",
     "text": [
      "20 is not a perfect square.\n"
     ]
    }
   ],
   "source": [
    "#20. Write a Python program to determine if a given number is a perfect square using if-else.\n",
    "import math\n",
    "\n",
    "n=int(input(\"Enter the number: \"))\n",
    "\n",
    "if n<0:\n",
    "    print(\"Negative numbers cannot be a perfect square.\")\n",
    "else:\n",
    "    root=int(math.sqrt(n))\n",
    "    if root*root==n:\n",
    "        print(f\"{n} is a perfect square.\")\n",
    "    else:\n",
    "        print(f\"{n} is not a perfect square.\")"
   ]
  },
  {
   "cell_type": "code",
   "execution_count": 112,
   "id": "930477e3-3dfe-4256-abb8-b98441a8e538",
   "metadata": {},
   "outputs": [
    {
     "name": "stdout",
     "output_type": "stream",
     "text": [
      "break\n",
      "2\n",
      "4\n",
      "_____________________________\n",
      "Continue\n",
      "2\n",
      "4\n",
      "6\n",
      "9\n"
     ]
    }
   ],
   "source": [
    "#21. Explain the purpose of the \"continue\" and \"break\" statements within if-else loops.\n",
    "l=[2,4,8,6,9]\n",
    "\n",
    "#What break does if i matches to 8 it will stop the loop and exit from the loop\n",
    "print(\"break\")\n",
    "for i in l:\n",
    "    if i==8:\n",
    "        break\n",
    "    else:\n",
    "        print(i)\n",
    "print(\"_____________________________\")\n",
    "print(\"Continue\")\n",
    "#but what continue does if i matches 8 its only stop current iteration and continue to next iterations\n",
    "for i in l:\n",
    "    if i==8:\n",
    "        continue\n",
    "    else:\n",
    "        print(i)"
   ]
  },
  {
   "cell_type": "code",
   "execution_count": 114,
   "id": "3a9da62b-91bc-4ab6-b808-77b50693afae",
   "metadata": {},
   "outputs": [
    {
     "name": "stdin",
     "output_type": "stream",
     "text": [
      "Enter the weight in kilograms:  62\n",
      "Enter the height in meters:  1.75\n"
     ]
    },
    {
     "name": "stdout",
     "output_type": "stream",
     "text": [
      "Your BMI is:  20.24\n",
      "You have a normal weight.\n"
     ]
    }
   ],
   "source": [
    "#22. Create a Python program that calculates the BMI (Body Mass Index) of a person based on their weight and height using if-else.\n",
    "weight=float(input(\"Enter the weight in kilograms: \"))\n",
    "height=float(input(\"Enter the height in meters: \"))\n",
    "\n",
    "if weight<=0 and height<=0:\n",
    "    print(\"Invalid input,weight and height its not be negative.\")\n",
    "else:\n",
    "    bmi=weight/height**2\n",
    "\n",
    "    print(f\"Your BMI is: {bmi: .2f}\")\n",
    "\n",
    "    if bmi < 18.5:\n",
    "        print(\"You are underweight.\")\n",
    "    elif bmi >= 18.5 and bmi < 25:\n",
    "        print(\"You have a normal weight.\")\n",
    "    elif bmi >= 25 and bmi < 30:\n",
    "        print(\"You are overweight.\")\n",
    "    else:\n",
    "        print(\"You are obese.\")"
   ]
  },
  {
   "cell_type": "code",
   "execution_count": 115,
   "id": "d9e03a17-12db-4b2e-9ee2-ae50ecb8fa27",
   "metadata": {},
   "outputs": [],
   "source": [
    "#23. How can you use the \"filter()\" function with if-else statements to filter elements from a list?\n",
    "l=[8,6,1,4,7,3,4,6]\n",
    "def is_even(n):\n",
    "    if n%2==0:\n",
    "        return True\n",
    "    else:\n",
    "        return False"
   ]
  },
  {
   "cell_type": "code",
   "execution_count": 116,
   "id": "b6d8064c-bdd1-476a-adfa-61f735ddefda",
   "metadata": {},
   "outputs": [
    {
     "data": {
      "text/plain": [
       "[8, 6, 4, 4, 6]"
      ]
     },
     "execution_count": 116,
     "metadata": {},
     "output_type": "execute_result"
    }
   ],
   "source": [
    "list(filter(is_even,l))"
   ]
  },
  {
   "cell_type": "code",
   "execution_count": 120,
   "id": "aad56fe8-fef3-4039-8dc8-330b353374bc",
   "metadata": {},
   "outputs": [
    {
     "name": "stdin",
     "output_type": "stream",
     "text": [
      "Enter the number:  11\n"
     ]
    },
    {
     "name": "stdout",
     "output_type": "stream",
     "text": [
      "11 is a prime number.\n"
     ]
    }
   ],
   "source": [
    "#24. Write a Python program to determine if a given number is prime or not using if-else.\n",
    "num=int(input(\"Enter the number: \"))\n",
    "\n",
    "if num<=1:\n",
    "    print(\"Its not a prime numbers.\")\n",
    "else:\n",
    "    is_prime=True\n",
    "    for i in range(2,num):\n",
    "        if num%i==0:\n",
    "            is_prime=False\n",
    "            break\n",
    "\n",
    "    if is_prime:\n",
    "        print(num, \"is a prime number.\")\n",
    "    else:\n",
    "        print(num, \"is not a prime number.\")"
   ]
  },
  {
   "cell_type": "code",
   "execution_count": 128,
   "id": "2b17c705-9b0a-42bc-bed0-546396f39e3f",
   "metadata": {},
   "outputs": [
    {
     "data": {
      "text/plain": [
       "[2, 'MAU', 8.9, 6, 'PWSKILLS']"
      ]
     },
     "execution_count": 128,
     "metadata": {},
     "output_type": "execute_result"
    }
   ],
   "source": [
    "#Map :-\n",
    "\n",
    "#1. Explain the purpose of the `map()` function in Python and provide an example of how it can be used to apply a function to each element of an iterable.\n",
    "\n",
    "#map function means its mapping the elements on iterable things.its give the copy of the list and if we want multiple outputs then we used map.\n",
    "l = [2, \"mau\", 8.9, 6, \"pwskills\"]\n",
    "\n",
    "def capalize_string(x):\n",
    "    if isinstance(x,str):\n",
    "        return x.upper()\n",
    "    else:\n",
    "        return x\n",
    "\n",
    "list(map(capalize_string,l))"
   ]
  },
  {
   "cell_type": "code",
   "execution_count": 129,
   "id": "9ae96573-8968-4fce-85b5-69e38cb4c3d9",
   "metadata": {},
   "outputs": [
    {
     "data": {
      "text/plain": [
       "[49, 64, 4, 9, 16]"
      ]
     },
     "execution_count": 129,
     "metadata": {},
     "output_type": "execute_result"
    }
   ],
   "source": [
    "#2. Write a Python program that uses the `map()` function to square each element of a list of numbers.\n",
    "l=[7,8,2,3,4]\n",
    "list(map(lambda x:x**2,l))"
   ]
  },
  {
   "cell_type": "code",
   "execution_count": 132,
   "id": "b1ca281d-ab62-4a08-a2e7-6c4f36022e2a",
   "metadata": {},
   "outputs": [
    {
     "name": "stdout",
     "output_type": "stream",
     "text": [
      "[49, 64, 4, 9, 16]\n",
      "[49, 64, 4, 9, 16]\n"
     ]
    }
   ],
   "source": [
    "#3. How does the `map()` function differ from a list comprehension in Python, and when would you choose one over the other?\n",
    "\n",
    "#map\n",
    "'''1.map you can directly used if function is already defined.\n",
    "2. In map you can give more iterables.\n",
    "3.You can use function lambda and def.'''\n",
    "#example\n",
    "l=[7,8,2,3,4]\n",
    "display=list(map(lambda x:x**2,l))\n",
    "print(display)\n",
    "#list comprehension\n",
    "'''1. list comprehension its more readable\n",
    "2. simply transformation.\n",
    "3.In that yoy can use zip.\n",
    "4.filtering or conditional logic you want one line then use list comprehension'''\n",
    "\n",
    "#example\n",
    "l1=[x**2 for x in l]\n",
    "print(l1)"
   ]
  },
  {
   "cell_type": "code",
   "execution_count": 134,
   "id": "972ac129-7c16-4ae0-948b-855d36103397",
   "metadata": {},
   "outputs": [
    {
     "data": {
      "text/plain": [
       "['MAU', 'KAU', 'SHRADDHA', 'PWSKILLS']"
      ]
     },
     "execution_count": 134,
     "metadata": {},
     "output_type": "execute_result"
    }
   ],
   "source": [
    "#4.Create a Python program that uses the `map()` function to convert a list of names to uppercase.\n",
    "l=[\"mau\",\"kau\",\"shraddha\",\"pwskills\"]\n",
    "list(map(lambda x:x.upper(),l))"
   ]
  },
  {
   "cell_type": "code",
   "execution_count": 135,
   "id": "90ba8604-301f-4267-b79b-b699b28de6ee",
   "metadata": {},
   "outputs": [
    {
     "data": {
      "text/plain": [
       "[3, 3, 8, 8]"
      ]
     },
     "execution_count": 135,
     "metadata": {},
     "output_type": "execute_result"
    }
   ],
   "source": [
    "#5. Write a Python program that uses the `map()` function to calculate the length of each word in a list of strings.\n",
    "l=[\"mau\",\"kau\",\"shraddha\",\"pwskills\"]\n",
    "list(map(len,l))"
   ]
  },
  {
   "cell_type": "code",
   "execution_count": 138,
   "id": "242526e0-86e5-4b41-be7a-74789c34bc93",
   "metadata": {},
   "outputs": [
    {
     "data": {
      "text/plain": [
       "['shraddha Jadhav', 'kaushik Patil']"
      ]
     },
     "execution_count": 138,
     "metadata": {},
     "output_type": "execute_result"
    }
   ],
   "source": [
    "#6. How can you use the `map()` function to apply a custom function to elements of multiple lists simultaneously in Python?\n",
    "l1=[\"shraddha\",\"kaushik\"]\n",
    "l2=[\"Jadhav\",\"Patil\",\"skills\"]\n",
    "\n",
    "list(map(lambda a,b:a+ \" \"+b,l1,l2))"
   ]
  },
  {
   "cell_type": "code",
   "execution_count": 139,
   "id": "9dc1cec3-9168-4c56-a66d-c2fbad1dbaf0",
   "metadata": {},
   "outputs": [
    {
     "data": {
      "text/plain": [
       "[32.0, 68.0, 86.0, 104.0, 212.0]"
      ]
     },
     "execution_count": 139,
     "metadata": {},
     "output_type": "execute_result"
    }
   ],
   "source": [
    "#7. Create a Python program that uses `map()` to convert a list of temperatures from Celsius to Fahrenheit.\n",
    "celsius = [0, 20, 30, 40, 100]\n",
    "list(map(lambda c:(c*9/5)+32,celsius))"
   ]
  },
  {
   "cell_type": "code",
   "execution_count": 141,
   "id": "76afd54b-6e6c-4cc2-ac16-b595c358388c",
   "metadata": {},
   "outputs": [
    {
     "data": {
      "text/plain": [
       "[18, 3, 8, 9]"
      ]
     },
     "execution_count": 141,
     "metadata": {},
     "output_type": "execute_result"
    }
   ],
   "source": [
    "#8.Write a Python program that uses the `map()` function to round each element of a list of floating-point numbers to the nearest integer.\n",
    "l=[18.5,2.6,8.4,9.4]\n",
    "list(map(lambda x:round(x),l))"
   ]
  },
  {
   "cell_type": "code",
   "execution_count": 144,
   "id": "91b01b2f-e1f7-4861-9bd9-fc907796c6ca",
   "metadata": {},
   "outputs": [
    {
     "name": "stdout",
     "output_type": "stream",
     "text": [
      "32\n"
     ]
    }
   ],
   "source": [
    "#Reduce :-\n",
    "\n",
    "#1.What is the `reduce()` function in Python, and what module should you import to use it? Provide an example of its basic usage.\n",
    "\n",
    "#reduce function used when you want single output its not give multiple output like map.\n",
    "\n",
    "#import reduce function on below\n",
    "from functools import reduce\n",
    "l=[2,7,8,9,6]\n",
    "#syntax of reduce function its give the sum of list values\n",
    "result=reduce(lambda x,y:x+y,l)\n",
    "print(result)"
   ]
  },
  {
   "cell_type": "code",
   "execution_count": 146,
   "id": "8843b61d-be15-45ad-a27d-141fdbc2d67f",
   "metadata": {},
   "outputs": [
    {
     "name": "stdout",
     "output_type": "stream",
     "text": [
      "12096\n"
     ]
    }
   ],
   "source": [
    "#2. Write a Python program that uses the `reduce()` function to find the product of all elements in a list.\n",
    "l=[8,3,4,6,1,7,3]\n",
    "result=reduce(lambda x,y:x*y,l)\n",
    "print(result)"
   ]
  },
  {
   "cell_type": "code",
   "execution_count": 148,
   "id": "0f7ea3b2-9e03-4a4f-baf6-a8339877f2fb",
   "metadata": {},
   "outputs": [
    {
     "name": "stdout",
     "output_type": "stream",
     "text": [
      "8\n"
     ]
    }
   ],
   "source": [
    "#3. Create a Python program that uses `reduce()` to find the maximum element in a list of numbers.\n",
    "l=[8,3,4,6,1,7,3]\n",
    "max_element=reduce(lambda a,b:a if a>b else b,l)\n",
    "print(max_element)"
   ]
  },
  {
   "cell_type": "code",
   "execution_count": 151,
   "id": "a05f4f98-b543-4443-afa2-3c805f3de28e",
   "metadata": {},
   "outputs": [
    {
     "name": "stdout",
     "output_type": "stream",
     "text": [
      "shraddha patil kaushik\n"
     ]
    }
   ],
   "source": [
    "#4. How can you use the `reduce()` function to concatenate a list of strings into a single string?\n",
    "l=[\"shraddha\",\"patil\",\"kaushik\"]\n",
    "concat_list=reduce(lambda x,y:x+ \" \" +y,l)\n",
    "print(concat_list)"
   ]
  },
  {
   "cell_type": "code",
   "execution_count": 152,
   "id": "c3d586b9-f926-47e7-b2e1-0be85cb95270",
   "metadata": {},
   "outputs": [
    {
     "name": "stdin",
     "output_type": "stream",
     "text": [
      "Enter the number:  5\n"
     ]
    },
    {
     "name": "stdout",
     "output_type": "stream",
     "text": [
      "120\n"
     ]
    }
   ],
   "source": [
    "#5. Write a Python program that calculates the factorial of a number using the `reduce()` function.\n",
    "n=int(input(\"Enter the number: \"))\n",
    "\n",
    "fact_num=reduce(lambda x,y:x*y,range(1,n+1))\n",
    "print(fact_num)"
   ]
  },
  {
   "cell_type": "code",
   "execution_count": 154,
   "id": "f5fcb8c0-0cee-4972-b09b-5c520b88e115",
   "metadata": {},
   "outputs": [
    {
     "data": {
      "text/plain": [
       "1"
      ]
     },
     "execution_count": 154,
     "metadata": {},
     "output_type": "execute_result"
    }
   ],
   "source": [
    "#6. Create a Python program that uses `reduce()` to find the GCD (Greatest Common Divisor) of a list of numbers.\n",
    "def find_gcd(a,b):\n",
    "    gcd=1\n",
    "    for i in range(1,min(a,b)+1):\n",
    "        if a%i==0 and b%i==0:\n",
    "            gcd=i\n",
    "    return gcd\n",
    "l=[7,8,6,3,4]\n",
    "reduce(find_gcd,l)"
   ]
  },
  {
   "cell_type": "code",
   "execution_count": 155,
   "id": "befbe681-a586-447f-981f-0ba3c425b6b7",
   "metadata": {},
   "outputs": [
    {
     "name": "stdin",
     "output_type": "stream",
     "text": [
      "enter the number:  123\n"
     ]
    },
    {
     "name": "stdout",
     "output_type": "stream",
     "text": [
      "6\n"
     ]
    }
   ],
   "source": [
    "#7.Write a Python program that uses the `reduce()` function to find the sum of the digits of a given number.\n",
    "n=int(input(\"enter the number: \"))\n",
    "\n",
    "digits=[int(x) for x in str(n)]\n",
    "sum_digit=reduce(lambda x,y:x+y,digits)\n",
    "print(sum_digit)"
   ]
  },
  {
   "cell_type": "code",
   "execution_count": 157,
   "id": "a38a3b0f-9897-450c-80af-637fd25df55e",
   "metadata": {},
   "outputs": [
    {
     "data": {
      "text/plain": [
       "['shraddha', 'sana', 'sakshi']"
      ]
     },
     "execution_count": 157,
     "metadata": {},
     "output_type": "execute_result"
    }
   ],
   "source": [
    "#Filter :-\n",
    "\n",
    "#1.Explain the purpose of the `filter()` function in Python and provide an example of how it can be used to filter elements from an iterable.\n",
    "\n",
    "#filter its used for filter the element means if I want even numbers from list its filter out the even number from the list.\n",
    "#I show you another example of filter its also give multiple output like map function\n",
    "\n",
    "l=[\"kau\",\"mau\",\"shraddha\",\"sana\",\"neha\",\"sakshi\"]\n",
    "#I want filter out those string that startwith s character\n",
    "list(filter(lambda a:a.startswith('s'),l))"
   ]
  },
  {
   "cell_type": "code",
   "execution_count": 3,
   "id": "86a205cd-009b-4ade-b0ca-6c540ebd69e5",
   "metadata": {},
   "outputs": [
    {
     "name": "stdout",
     "output_type": "stream",
     "text": [
      "[2, 6, 4, 8]\n"
     ]
    }
   ],
   "source": [
    "#2. Write a Python program that uses the `filter()` function to select even numbers from a list of integers.\n",
    "l=[7,2,6,4,8,9,5,11]\n",
    "even_num=list(filter(lambda x: x%2==0,l))\n",
    "print(even_num)"
   ]
  },
  {
   "cell_type": "code",
   "execution_count": 4,
   "id": "bf4e2faa-4876-4081-a5d7-ee5ede896a0d",
   "metadata": {},
   "outputs": [
    {
     "data": {
      "text/plain": [
       "['shraddha', 'sana', 'sakshi']"
      ]
     },
     "execution_count": 4,
     "metadata": {},
     "output_type": "execute_result"
    }
   ],
   "source": [
    "#3. Create a Python program that uses the `filter()` function to select names that start with a specific letter from a list of strings.\n",
    "l=[\"kau\",\"mau\",\"shraddha\",\"sana\",\"neha\",\"sakshi\"]\n",
    "#I want filter out those string that startwith s character\n",
    "list(filter(lambda a:a.startswith('s'),l))"
   ]
  },
  {
   "cell_type": "code",
   "execution_count": 6,
   "id": "a4e476e6-0f99-4b24-bb5d-d7045d7cc0f1",
   "metadata": {},
   "outputs": [
    {
     "name": "stdout",
     "output_type": "stream",
     "text": [
      "[7, 5, 2]\n"
     ]
    }
   ],
   "source": [
    "#4. Write a Python program that uses the `filter()` function to select prime numbers from a list of integers.\n",
    "l=[7,5,6,12,65,87,92,2]\n",
    "\n",
    "def prime_num(n):\n",
    "    if n<2:\n",
    "        return False\n",
    "    for i in range(2,int(n**0.5)+1):\n",
    "        if n%i==0:\n",
    "            return False\n",
    "    return True\n",
    "\n",
    "prime_numbers=list(filter(prime_num,l))\n",
    "print(prime_numbers)"
   ]
  },
  {
   "cell_type": "code",
   "execution_count": 8,
   "id": "b1bb45c3-77c7-4545-9b56-761ccbf2618b",
   "metadata": {},
   "outputs": [
    {
     "name": "stdout",
     "output_type": "stream",
     "text": [
      "[1, 7, 'mau', 'kau']\n"
     ]
    }
   ],
   "source": [
    "#5. How can you use the `filter()` function to remove None values from a list in Python?\n",
    "l=[1, None, 7, None, 0, '', 'mau', [], 'kau']\n",
    "result=list(filter(None,l))\n",
    "print(result)"
   ]
  },
  {
   "cell_type": "code",
   "execution_count": 11,
   "id": "448618a6-cbf3-4602-98ec-ed8fdc3aa52d",
   "metadata": {},
   "outputs": [
    {
     "name": "stdout",
     "output_type": "stream",
     "text": [
      "['shraddha', 'kaushik', 'sara', 'pwskills']\n"
     ]
    }
   ],
   "source": [
    "#6. Create a Python program that uses `filter()` to select words longer than a certain length from a list of strings.\n",
    "l=[\"shraddha\",\"mau\",\"kaushik\",\"sara\",\"pwskills\",\"kau\"]\n",
    "filter_string=list(filter(lambda x:len(x)>3,l))\n",
    "print(filter_string)"
   ]
  },
  {
   "cell_type": "code",
   "execution_count": 12,
   "id": "12dab9a4-07c3-490a-a33a-4a11fc965d0d",
   "metadata": {},
   "outputs": [
    {
     "name": "stdout",
     "output_type": "stream",
     "text": [
      "[45, 89, 70, 62, 54, 48, 32, 27]\n"
     ]
    }
   ],
   "source": [
    "#7. Write a Python program that uses the `filter()` function to select elements greater than a specified threshold from a list of values.\n",
    "numbers=[45,89,70,62,54,48,32,27,15,8,7,2]\n",
    "threshold =20\n",
    "greter_than_threshold=list(filter(lambda x: x>threshold,numbers))\n",
    "print(greter_than_threshold)"
   ]
  },
  {
   "cell_type": "code",
   "execution_count": 13,
   "id": "8b653794-2161-4ea7-8855-7957f433a9ec",
   "metadata": {},
   "outputs": [],
   "source": [
    "#Recursion:-\n",
    "\n",
    "#1. Explain the concept of recursion in Python. How does it differ from iteration?\n",
    "\n",
    "'''1. recursion means in one function you can call these function again and again that called recursive.\n",
    "2. Iteration means you use loop like for and while loop its repets the code operations'''\n",
    "\n",
    "#using recursion\n",
    "def factorial_num(n):\n",
    "    if n==0:\n",
    "        return 1   #base case\n",
    "    else:\n",
    "        return n*factorial_num(n-1)  #recursive call\n",
    "\n",
    "#using iteration means loop\n",
    "def fact_num(n):\n",
    "    result=1\n",
    "    for i in range(1,n+1):\n",
    "        result*=i\n",
    "    return result"
   ]
  },
  {
   "cell_type": "code",
   "execution_count": 14,
   "id": "f4d53153-170f-4b56-bf70-18b4c2c21ba5",
   "metadata": {},
   "outputs": [
    {
     "data": {
      "text/plain": [
       "120"
      ]
     },
     "execution_count": 14,
     "metadata": {},
     "output_type": "execute_result"
    }
   ],
   "source": [
    "factorial_num(5)"
   ]
  },
  {
   "cell_type": "code",
   "execution_count": 15,
   "id": "74c9d31b-b0c9-4b29-b534-cf69b41cbc06",
   "metadata": {},
   "outputs": [
    {
     "data": {
      "text/plain": [
       "120"
      ]
     },
     "execution_count": 15,
     "metadata": {},
     "output_type": "execute_result"
    }
   ],
   "source": [
    "fact_num(5)"
   ]
  },
  {
   "cell_type": "code",
   "execution_count": 17,
   "id": "747a8032-91a3-43bb-83a5-312249711d5f",
   "metadata": {},
   "outputs": [
    {
     "data": {
      "text/plain": [
       "24"
      ]
     },
     "execution_count": 17,
     "metadata": {},
     "output_type": "execute_result"
    }
   ],
   "source": [
    "#2. Write a Python program to calculate the factorial of a number using recursion.\n",
    "def factorial_number(n):\n",
    "    if n==0:\n",
    "        return 1   \n",
    "    else:\n",
    "        return n*factorial_num(n-1) \n",
    "factorial_number(4)"
   ]
  },
  {
   "cell_type": "code",
   "execution_count": 22,
   "id": "c371a596-f148-428d-b4d2-59787b74ef32",
   "metadata": {},
   "outputs": [
    {
     "data": {
      "text/plain": [
       "13"
      ]
     },
     "execution_count": 22,
     "metadata": {},
     "output_type": "execute_result"
    }
   ],
   "source": [
    "#3. Create a recursive Python function to find the nth Fibonacci number.\n",
    "def fibonacci_num(n):\n",
    "    if n==0:\n",
    "        return 0\n",
    "    elif n==1:\n",
    "        return 1\n",
    "    else:\n",
    "        return fibonacci_num(n-1)+fibonacci_num(n-2)\n",
    "\n",
    "fibonacci_num(7)"
   ]
  },
  {
   "cell_type": "code",
   "execution_count": 25,
   "id": "2c9c99d7-47b5-408f-af65-550b278bbb0a",
   "metadata": {},
   "outputs": [
    {
     "data": {
      "text/plain": [
       "26"
      ]
     },
     "execution_count": 25,
     "metadata": {},
     "output_type": "execute_result"
    }
   ],
   "source": [
    "#4. Write a recursive Python function to calculate the sum of all elements in a list.\n",
    "l=[7,5,6,4,3,1]\n",
    "def sum_num(n):\n",
    "    if len(n)==0:\n",
    "        return 0\n",
    "    else:\n",
    "        return n[0]+sum_num(n[1:])\n",
    "\n",
    "sum_num(l)"
   ]
  },
  {
   "cell_type": "code",
   "execution_count": 26,
   "id": "70be2974-f3a8-43eb-a973-b9e117ae151f",
   "metadata": {},
   "outputs": [
    {
     "name": "stdout",
     "output_type": "stream",
     "text": [
      "5\n",
      "4\n",
      "3\n",
      "2\n",
      "1\n",
      "Done\n"
     ]
    }
   ],
   "source": [
    "#5.How can you prevent a recursive function from running indefinitely, causing a stack overflow error?\n",
    "\n",
    "#A recursive function that never reaches a base case will keep calling itself forever, eventually using up all available memory (stack frames), leading to a:\n",
    "#Always Define a Base Case\n",
    "#A base case is the condition under which the function stops calling itself.\n",
    "def countdown(n):\n",
    "    if n <= 0:  # base case\n",
    "        print(\"Done\")\n",
    "    else:\n",
    "        print(n)\n",
    "        countdown(n - 1)  # recursive call\n",
    "countdown(5)"
   ]
  },
  {
   "cell_type": "code",
   "execution_count": 27,
   "id": "2a654485-828e-46bf-807e-12e23c4edff9",
   "metadata": {},
   "outputs": [
    {
     "data": {
      "text/plain": [
       "9"
      ]
     },
     "execution_count": 27,
     "metadata": {},
     "output_type": "execute_result"
    }
   ],
   "source": [
    "#6. Create a recursive Python function to find the greatest common divisor (GCD) of two numbers using the Euclidean algorithm.\n",
    "def greatest_common(a,b):\n",
    "    if b==0:\n",
    "        return a\n",
    "    else:\n",
    "        return greatest_common(b,a%b)\n",
    "\n",
    "greatest_common(45,36)"
   ]
  },
  {
   "cell_type": "code",
   "execution_count": 30,
   "id": "566ea85c-a2ed-4a51-9f0c-943199a93969",
   "metadata": {},
   "outputs": [
    {
     "data": {
      "text/plain": [
       "'uam'"
      ]
     },
     "execution_count": 30,
     "metadata": {},
     "output_type": "execute_result"
    }
   ],
   "source": [
    "#7. Write a recursive Python function to reverse a string.\n",
    "def rev_str(n):\n",
    "    if len(n)==0:\n",
    "        return \"\"\n",
    "    else:\n",
    "        return rev_str(n[1:])+n[0]\n",
    "rev_str(\"mau\")"
   ]
  },
  {
   "cell_type": "code",
   "execution_count": 31,
   "id": "509ac9a9-8df0-4653-ac4e-2f4fb00f5364",
   "metadata": {},
   "outputs": [
    {
     "data": {
      "text/plain": [
       "8"
      ]
     },
     "execution_count": 31,
     "metadata": {},
     "output_type": "execute_result"
    }
   ],
   "source": [
    "#8. Create a recursive Python function to calculate the power of a number (x^n).\n",
    "def power_num(x,n):\n",
    "    if n==0:\n",
    "        return 1\n",
    "    else:\n",
    "        return x*power_num(x,n-1)\n",
    "\n",
    "power_num(2,3)"
   ]
  },
  {
   "cell_type": "code",
   "execution_count": 34,
   "id": "66d2c445-36a3-44b7-8e17-afeb6f9f30e1",
   "metadata": {},
   "outputs": [
    {
     "data": {
      "text/plain": [
       "['mau', 'mua', 'amu', 'aum', 'uma', 'uam']"
      ]
     },
     "execution_count": 34,
     "metadata": {},
     "output_type": "execute_result"
    }
   ],
   "source": [
    "#9. Write a recursive Python function to find all permutations of a given string.\n",
    "def get_permutations(s):\n",
    "    # Base case: one or zero characters\n",
    "    if len(s) <= 1:\n",
    "        return [s]\n",
    "    \n",
    "    permutations = []\n",
    "    \n",
    "    for i in range(len(s)):\n",
    "        # Choose the i-th character as the first\n",
    "        current_char = s[i]\n",
    "        # Remaining characters after removing the i-th\n",
    "        remaining = s[:i] + s[i+1:]\n",
    "        # Recursive call to get permutations of the remaining characters\n",
    "        for p in get_permutations(remaining):\n",
    "            permutations.append(current_char + p)\n",
    "    \n",
    "    return permutations\n",
    "\n",
    "get_permutations(\"mau\")"
   ]
  },
  {
   "cell_type": "code",
   "execution_count": 35,
   "id": "70e85fbd-da3c-4788-9cd9-ab53f0bbc5d6",
   "metadata": {},
   "outputs": [
    {
     "data": {
      "text/plain": [
       "True"
      ]
     },
     "execution_count": 35,
     "metadata": {},
     "output_type": "execute_result"
    }
   ],
   "source": [
    "#10.Write a recursive Python function to check if a string is a palindrome.\n",
    "def is_palindrome(s):\n",
    "    # Base case: 0 or 1 character is always a palindrome\n",
    "    if len(s) <= 1:\n",
    "        return True\n",
    "    # Check first and last characters\n",
    "    if s[0] != s[-1]:\n",
    "        return False\n",
    "    # Recurse on the middle substring\n",
    "    return is_palindrome(s[1:-1])\n",
    "\n",
    "is_palindrome('aba')"
   ]
  },
  {
   "cell_type": "code",
   "execution_count": 39,
   "id": "34cf3bdc-2988-40ab-9a9e-dced636ddd2a",
   "metadata": {},
   "outputs": [
    {
     "data": {
      "text/plain": [
       "[[1, 2, 3], [1, 2], [1, 3], [1], [2, 3], [2], [3], []]"
      ]
     },
     "execution_count": 39,
     "metadata": {},
     "output_type": "execute_result"
    }
   ],
   "source": [
    "#11. Create a recursive Python function to generate all possible combinations of a list of elements.\n",
    "def get_combinations(lst):\n",
    "    if len(lst) == 0:\n",
    "        return [[]]  # Only one combination: the empty list\n",
    "\n",
    "    # Get combinations without the first element\n",
    "    smaller_combinations = get_combinations(lst[1:])\n",
    "\n",
    "    # Add the first element to each of those combinations\n",
    "    with_first = [ [lst[0]] + comb for comb in smaller_combinations ]\n",
    "\n",
    "    # Return combinations with and without the first element\n",
    "    return with_first + smaller_combinations\n",
    "    \n",
    "elements = [1, 2, 3]   \n",
    "get_combinations(elements)"
   ]
  },
  {
   "cell_type": "code",
   "execution_count": 42,
   "id": "44d6f7cf-2336-4922-8ebd-85027fe9ebfe",
   "metadata": {},
   "outputs": [
    {
     "data": {
      "text/plain": [
       "30"
      ]
     },
     "execution_count": 42,
     "metadata": {},
     "output_type": "execute_result"
    }
   ],
   "source": [
    "#Basics of Functions:\n",
    "#1. What is a function in Python, and why is it used?\n",
    "\n",
    "#Function its a block of code define under function start with def keyword.\n",
    "#If you want to reuse code more time directly using function name.\n",
    "#To avoid repeating code (DRY principle: Don't Repeat Yourself).\n",
    "\n",
    "def add_num():\n",
    "    a=10\n",
    "    b=20\n",
    "    return a+b\n",
    "\n",
    "add_num()"
   ]
  },
  {
   "cell_type": "code",
   "execution_count": 45,
   "id": "fc1b3d85-1bb6-4a58-a44d-a2d4bc93cd02",
   "metadata": {},
   "outputs": [
    {
     "data": {
      "text/plain": [
       "12"
      ]
     },
     "execution_count": 45,
     "metadata": {},
     "output_type": "execute_result"
    }
   ],
   "source": [
    "#2. How do you define a function in Python? Provide an example\n",
    "#function define using def keyword and function name \n",
    "\n",
    "def num():  #parameters\n",
    "    n=12\n",
    "    return n\n",
    "\n",
    "num()"
   ]
  },
  {
   "cell_type": "code",
   "execution_count": 47,
   "id": "fe6f2914-5503-45c2-966c-750896ced460",
   "metadata": {},
   "outputs": [
    {
     "data": {
      "text/plain": [
       "4"
      ]
     },
     "execution_count": 47,
     "metadata": {},
     "output_type": "execute_result"
    }
   ],
   "source": [
    "#3. Explain the difference between a function definition and a function call.\n",
    "\n",
    "#function defination means you can define a function using def keywork and function name in that write a logic of some block of code.\n",
    "#function call means after define write a function name and call them means run these block of code.\n",
    "\n",
    "def num(n):\n",
    "    return n*n  #These is function defination\n",
    "\n",
    "num(2)  #These is function call"
   ]
  },
  {
   "cell_type": "code",
   "execution_count": 50,
   "id": "df9c1fc9-5c35-40ac-b6cb-ccc08ad3816c",
   "metadata": {},
   "outputs": [
    {
     "data": {
      "text/plain": [
       "30"
      ]
     },
     "execution_count": 50,
     "metadata": {},
     "output_type": "execute_result"
    }
   ],
   "source": [
    "#4. Write a Python program that defines a function to calculate the sum of two numbers and then calls the function.\n",
    "def sum_num(a,b):\n",
    "    return a+b\n",
    "\n",
    "sum_num(10,20)"
   ]
  },
  {
   "cell_type": "code",
   "execution_count": 54,
   "id": "b92fa839-d675-456d-b1c1-5e146ae1fe0b",
   "metadata": {},
   "outputs": [],
   "source": [
    "#5. What is a function signature, and what information does it typically include?\n",
    "\n",
    "'''A function signature in Python describes how a function should be called — \n",
    "it includes the function's name, parameters, and sometimes default values and type hints.\n",
    "'''\n",
    "#It show function name and parameters\n",
    "def greet(name):\n",
    "    return name\n",
    "\n",
    "def greet(name=\"mau\"): #default value show name=\"mau\"\n",
    "    return name\n",
    "def add(a: int, b: int) -> int:\n",
    "    return a+b            #show hint give the parameters on integers\n",
    "                                "
   ]
  },
  {
   "cell_type": "code",
   "execution_count": 57,
   "id": "3981c3ee-d272-4230-8d2e-74db0116705e",
   "metadata": {},
   "outputs": [
    {
     "data": {
      "text/plain": [
       "8"
      ]
     },
     "execution_count": 57,
     "metadata": {},
     "output_type": "execute_result"
    }
   ],
   "source": [
    "#6. Create a Python function that takes two arguments and returns their product.\n",
    "def product_num(a,b):\n",
    "    return a*b\n",
    "\n",
    "product_num(4,2)"
   ]
  },
  {
   "cell_type": "code",
   "execution_count": 59,
   "id": "9acbbeab-52a1-44df-a2fa-52d3bfa57890",
   "metadata": {},
   "outputs": [
    {
     "data": {
      "text/plain": [
       "'mau'"
      ]
     },
     "execution_count": 59,
     "metadata": {},
     "output_type": "execute_result"
    }
   ],
   "source": [
    "#Function Parameters and Arguments:\n",
    "\n",
    "#1. Explain the concepts of formal parameters and actual arguments in Python functions.\n",
    "\n",
    "#formal parameter: Its a placeholder used inside the function\n",
    "#actual parameter: Its a value give when function is calling\n",
    "\n",
    "def greet(name):\n",
    "    print(\"hello\",name)   #formal parameter\n",
    "\n",
    "def greet(name):\n",
    "    return name\n",
    "greet('mau')   #actual parameter"
   ]
  },
  {
   "cell_type": "code",
   "execution_count": 64,
   "id": "eb28d629-dba7-4ce7-acd7-d798aef81238",
   "metadata": {},
   "outputs": [
    {
     "data": {
      "text/plain": [
       "11"
      ]
     },
     "execution_count": 64,
     "metadata": {},
     "output_type": "execute_result"
    }
   ],
   "source": [
    "#2. Write a Python program that defines a function with default argument values.\n",
    "def sum_num(a=5,b=6):\n",
    "    return a+b\n",
    "sum_num()  #used default value"
   ]
  },
  {
   "cell_type": "code",
   "execution_count": 66,
   "id": "c3b442a9-a851-4121-bf37-0ef1fa2115c1",
   "metadata": {},
   "outputs": [
    {
     "data": {
      "text/plain": [
       "('mau', 'patil')"
      ]
     },
     "execution_count": 66,
     "metadata": {},
     "output_type": "execute_result"
    }
   ],
   "source": [
    "#3. How do you use keyword arguments in Python function calls? Provide an example.\n",
    "\n",
    "#keyword argument define like key and value pair at the time of function call.\n",
    "def name_sername(name, surname):\n",
    "    return name, surname\n",
    "\n",
    "name_sername(name=\"mau\",surname=\"patil\")"
   ]
  },
  {
   "cell_type": "code",
   "execution_count": 67,
   "id": "2ecbd71a-4609-4ba0-91ba-3796bc451a7c",
   "metadata": {},
   "outputs": [
    {
     "data": {
      "text/plain": [
       "26"
      ]
     },
     "execution_count": 67,
     "metadata": {},
     "output_type": "execute_result"
    }
   ],
   "source": [
    "#4. Create a Python function that accepts a variable number of arguments and calculates their sum.\n",
    "def sum_num(*args):\n",
    "    return sum(args)\n",
    "\n",
    "sum_num(2,4,8,9,3)"
   ]
  },
  {
   "cell_type": "code",
   "execution_count": 69,
   "id": "f95bf5fd-fea2-4ce2-9b46-6daa2b3da978",
   "metadata": {},
   "outputs": [
    {
     "data": {
      "text/plain": [
       "{'name': 'mau', 'surname': 'patil', 'age': 24, 'address': 'nashik'}"
      ]
     },
     "execution_count": 69,
     "metadata": {},
     "output_type": "execute_result"
    }
   ],
   "source": [
    "#5. What is the purpose of the `*args` and `**kwargs` syntax in function parameter lists?\n",
    "\n",
    "#*args:(variable length positional argument) *args means you can give number of valus at the time of function call example given below:\n",
    "def sum_num(*args):\n",
    "    return sum(args)\n",
    "\n",
    "sum_num(2,4,8,9,3)\n",
    "\n",
    "#**kwargs:(variable length keyword arguments) means You can give number of values but in key and value pair example given below\n",
    "\n",
    "def name(**kwargs):\n",
    "    return kwargs\n",
    "\n",
    "name(name=\"mau\",surname=\"patil\",age=24,address=\"nashik\")"
   ]
  },
  {
   "cell_type": "code",
   "execution_count": 75,
   "id": "309324d4-69b3-48c9-9816-0faa187aacbe",
   "metadata": {},
   "outputs": [
    {
     "name": "stdout",
     "output_type": "stream",
     "text": [
      "hello\n"
     ]
    },
    {
     "data": {
      "text/plain": [
       "NoneType"
      ]
     },
     "execution_count": 75,
     "metadata": {},
     "output_type": "execute_result"
    }
   ],
   "source": [
    "#Return Values and Scoping:\n",
    "\n",
    "#1. Describe the role of the `return` statement in Python functions and provide examples\n",
    "\n",
    "''' return statement used in function means its given or return something from the function.\n",
    "Its ends the function and stored the result and return it.\n",
    "Without return also ends the function but its by default return None.'''\n",
    "\n",
    "def num(n):\n",
    "    return n\n",
    "num(2)\n",
    "\n",
    "def greet():\n",
    "    print(\"hello\")  #its return None\n",
    "\n",
    "#check the type of function\n",
    "type(greet())"
   ]
  },
  {
   "cell_type": "code",
   "execution_count": 1,
   "id": "59dc2d98-2d76-4edf-9133-6404a6619eaf",
   "metadata": {},
   "outputs": [
    {
     "ename": "NameError",
     "evalue": "name 'x' is not defined",
     "output_type": "error",
     "traceback": [
      "\u001b[1;31m---------------------------------------------------------------------------\u001b[0m",
      "\u001b[1;31mNameError\u001b[0m                                 Traceback (most recent call last)",
      "Cell \u001b[1;32mIn[1], line 10\u001b[0m\n\u001b[0;32m      7\u001b[0m     \u001b[38;5;28;01mreturn\u001b[39;00m x\n\u001b[0;32m      9\u001b[0m \u001b[38;5;66;03m#if I call the variable outside the function its not work\u001b[39;00m\n\u001b[1;32m---> 10\u001b[0m \u001b[38;5;28mprint\u001b[39m(\u001b[43mx\u001b[49m)\n",
      "\u001b[1;31mNameError\u001b[0m: name 'x' is not defined"
     ]
    }
   ],
   "source": [
    "#2. Explain the concept of variable scope in Python, including local and global variables.\n",
    "\n",
    "#local variable means these variable used only inside the function not the outside the function.\n",
    "\n",
    "def num():\n",
    "    x=10\n",
    "    return x\n",
    "\n",
    "#if I call the variable outside the function its not work\n",
    "print(x)"
   ]
  },
  {
   "cell_type": "code",
   "execution_count": 2,
   "id": "03edee60-36fe-412d-8d0e-65510e77060e",
   "metadata": {},
   "outputs": [
    {
     "data": {
      "text/plain": [
       "10"
      ]
     },
     "execution_count": 2,
     "metadata": {},
     "output_type": "execute_result"
    }
   ],
   "source": [
    "#global variable means you can used these variable inside and outside the function also.\n",
    "\n",
    "x=10\n",
    "\n",
    "def number():\n",
    "    return x\n",
    "\n",
    "#I am not pass and declare these x inside the function still gives output 10 because i declare x globally.\n",
    "number()"
   ]
  },
  {
   "cell_type": "code",
   "execution_count": 4,
   "id": "9a1c42ed-e9e1-4f1b-9346-bcc32f29c381",
   "metadata": {},
   "outputs": [
    {
     "data": {
      "text/plain": [
       "200"
      ]
     },
     "execution_count": 4,
     "metadata": {},
     "output_type": "execute_result"
    }
   ],
   "source": [
    "#3. Write a Python program that demonstrates the use of global variables within functions.\n",
    "x=10\n",
    "\n",
    "def product_num(a):\n",
    "    return a*x\n",
    "\n",
    "product_num(20)"
   ]
  },
  {
   "cell_type": "code",
   "execution_count": 6,
   "id": "817aa5ad-5ce9-4f9f-8c4f-1de6a6e33d0d",
   "metadata": {},
   "outputs": [
    {
     "data": {
      "text/plain": [
       "24"
      ]
     },
     "execution_count": 6,
     "metadata": {},
     "output_type": "execute_result"
    }
   ],
   "source": [
    "#4. Create a Python function that calculates the factorial of a number and returns it.\n",
    "\n",
    "def fact_num(n):\n",
    "    if n==0:\n",
    "        return 1\n",
    "    else:\n",
    "        fact=1\n",
    "        for i in range(1,n+1):\n",
    "            fact*=i\n",
    "        return fact\n",
    "\n",
    "fact_num(4)"
   ]
  },
  {
   "cell_type": "code",
   "execution_count": 8,
   "id": "78e16173-69e1-423f-9777-8ce25f6c60d4",
   "metadata": {},
   "outputs": [
    {
     "data": {
      "text/plain": [
       "'Hello, I am shraddha patil.'"
      ]
     },
     "execution_count": 8,
     "metadata": {},
     "output_type": "execute_result"
    }
   ],
   "source": [
    "#5. How can you access variables defined outside a function from within the function?\n",
    "message=\"Hello, I am shraddha patil.\"\n",
    "\n",
    "def mes():\n",
    "    return message  #access the inside the function\n",
    "mes()"
   ]
  },
  {
   "cell_type": "code",
   "execution_count": 11,
   "id": "97b8a7f4-3316-4397-8310-287d26188688",
   "metadata": {},
   "outputs": [
    {
     "data": {
      "text/plain": [
       "16"
      ]
     },
     "execution_count": 11,
     "metadata": {},
     "output_type": "execute_result"
    }
   ],
   "source": [
    "#Lambda Functions and Higher-Order Functions:\n",
    "\n",
    "#1. What are lambda functions in Python, and when are they typically used?\n",
    "\n",
    "#lambda function is a anonymous, single-expression functions defined using the lambda keyword.\n",
    "#They're often used when you need a short, throwaway function — usually as an argument to higher-order functions like map(), filter(), or sorted().\n",
    "\n",
    "#syntax\n",
    "# lambda=arguments:expression\n",
    "\n",
    "#example\n",
    "square=lambda x:x**2\n",
    "square(4)"
   ]
  },
  {
   "cell_type": "code",
   "execution_count": 3,
   "id": "e70c88d2-13a1-4150-8807-aab2e042eef0",
   "metadata": {},
   "outputs": [
    {
     "name": "stdout",
     "output_type": "stream",
     "text": [
      "[(4, 1), (1, 2), (2, 4), (3, 5)]\n"
     ]
    }
   ],
   "source": [
    "#2. Write a Python program that uses lambda functions to sort a list of tuples based on the second element.\n",
    "data=[(3, 5), (1, 2), (4, 1), (2, 4)]\n",
    "\n",
    "sort_element=sorted(data,key=lambda x:x[1])\n",
    "print(sort_element)"
   ]
  },
  {
   "cell_type": "code",
   "execution_count": 11,
   "id": "88eca341-80c0-4733-b881-65ada534660a",
   "metadata": {},
   "outputs": [
    {
     "name": "stdout",
     "output_type": "stream",
     "text": [
      "16\n",
      "[1, 49, 64, 81, 4, 16]\n",
      "[8, 2, 4]\n",
      "31\n"
     ]
    }
   ],
   "source": [
    "#3. Explain the concept of higher-order functions in Python, and provide an example.\n",
    "\n",
    "''' A higher-order function is a function that either:\n",
    "\n",
    "Takes another function as an argument, or\n",
    "\n",
    "Returns a function as its result \n",
    "\n",
    "some common function:\n",
    "map(),reduce(),filter()'''\n",
    "\n",
    "def functi(a,b):\n",
    "    return a(b)\n",
    "\n",
    "def square(x):\n",
    "    return x**2\n",
    "\n",
    "result=functi(square,4)\n",
    "print(result)\n",
    "\n",
    "#using map\n",
    "l=[1,7,8,9,2,4]\n",
    "use_map=list(map(lambda x:x**2,l))\n",
    "print(use_map)\n",
    "#using filter\n",
    "use_filter=list(filter(lambda x:x%2==0,l))\n",
    "print(use_filter)\n",
    "\n",
    "#using reduce\n",
    "from functools import reduce\n",
    "use_reduce=reduce(lambda x,y:x+y,l)\n",
    "print(use_reduce)"
   ]
  },
  {
   "cell_type": "code",
   "execution_count": 12,
   "id": "f3dc31ed-cb2d-41db-b0cf-95c496d0f7a2",
   "metadata": {},
   "outputs": [
    {
     "name": "stdout",
     "output_type": "stream",
     "text": [
      "[1, 4, 9, 16, 25]\n"
     ]
    }
   ],
   "source": [
    "#4. Create a Python function that takes a list of numbers and a function as arguments, applying the function to each element in the list.\n",
    "def apply_to_list(numbers, func):\n",
    "    return list(map(func, numbers))\n",
    "\n",
    "# Example usage:\n",
    "nums = [1, 2, 3, 4, 5]\n",
    "\n",
    "# Define a simple function to square numbers\n",
    "def square(x):\n",
    "    return x ** 2\n",
    "\n",
    "# Call apply_to_list\n",
    "result = apply_to_list(nums, square)\n",
    "print(result) "
   ]
  },
  {
   "cell_type": "code",
   "execution_count": 16,
   "id": "3d7ceb9c-76ab-4b63-9969-83cad6d70f00",
   "metadata": {},
   "outputs": [
    {
     "data": {
      "text/plain": [
       "1"
      ]
     },
     "execution_count": 16,
     "metadata": {},
     "output_type": "execute_result"
    }
   ],
   "source": [
    "#Built-in Functions:\n",
    "#1. Describe the role of built-in functions like `len()`, `max()`, and `min()` in Python\n",
    "\n",
    "''' len() length function calculate the length for example.\n",
    "Returns the number of items in an object (like a list, tuple, string, etc.)\n",
    "Its start from 1 the example given below.\n",
    "'''\n",
    "l=[1,2,5,6]\n",
    "len(l)\n",
    "\n",
    "''' max() its a maximum function.\n",
    "Thats give maximum number means greater number on the iterable(like: list,tuple) example given below.'''\n",
    "max(l)\n",
    "\n",
    "'''min() minimum function.\n",
    "Thats give the minimum number means lesser number in the iterable.'''\n",
    "min(l)"
   ]
  },
  {
   "cell_type": "code",
   "execution_count": 18,
   "id": "cbe1b9a6-9e12-49e7-9efc-9468bd09be63",
   "metadata": {},
   "outputs": [
    {
     "data": {
      "text/plain": [
       "[4, 6, 9, 10, 11]"
      ]
     },
     "execution_count": 18,
     "metadata": {},
     "output_type": "execute_result"
    }
   ],
   "source": [
    "#2. Write a Python program that uses the `map()` function to apply a function to each element of a list.\n",
    "l=[2,4,7,8,9]\n",
    "#Its trasform each item on the list\n",
    "list(map(lambda x:x+2,l))"
   ]
  },
  {
   "cell_type": "code",
   "execution_count": 23,
   "id": "5d34f3fd-d983-4ed0-a3e4-fb484737374a",
   "metadata": {},
   "outputs": [
    {
     "data": {
      "text/plain": [
       "[2, 4, 8]"
      ]
     },
     "execution_count": 23,
     "metadata": {},
     "output_type": "execute_result"
    }
   ],
   "source": [
    "#3. How does the `filter()` function work in Python, and when would you use it?\n",
    "\n",
    "''' filter() function its give the some items on the iterables.\n",
    "There syntax like: filter(function,data).\n",
    "Its filter out the element from the iterables for eaxmple:'''\n",
    "\n",
    "l=[2,4,7,8,9]\n",
    "list(filter(lambda x: x%2==0 ,l))"
   ]
  },
  {
   "cell_type": "code",
   "execution_count": 25,
   "id": "198ce35d-6ea4-4bbb-a7b3-181f7e4e7f76",
   "metadata": {},
   "outputs": [
    {
     "data": {
      "text/plain": [
       "4032"
      ]
     },
     "execution_count": 25,
     "metadata": {},
     "output_type": "execute_result"
    }
   ],
   "source": [
    "#4.Create a Python program that uses the `reduce()` function to find the product of all elements in a list.\n",
    "l=[2,4,7,8,9]\n",
    "reduce(lambda x,y:x*y,l)"
   ]
  },
  {
   "cell_type": "code",
   "execution_count": 27,
   "id": "dc82c73d-3844-43d4-8f83-f5e3cbaeb3f6",
   "metadata": {},
   "outputs": [],
   "source": [
    "#Function Documentation and Best Practices:\n",
    "\n",
    "#1. Explain the purpose of docstrings in Python functions and how to write them.\n",
    "''' Docstrings (documentation strings) are special string literals \n",
    "that are used to document Python functions, classes, or modules. \n",
    "They describe what the function/class/module does, making your code easier to understand for yourself and others. \n",
    "To explain what a function does.\n",
    "\n",
    "To provide details about:\n",
    "\n",
    "Parameters\n",
    "\n",
    "Return value\n",
    "\n",
    "Purpose/usage\n",
    "\n",
    "Helpful for auto-generated documentation tools (like Sphinx).\n",
    "\n",
    "Used by Python’s built-in help() function.'''\n",
    "\n",
    "def add(a, b):\n",
    "    \"\"\"\n",
    "    Adds two numbers and returns the result.\n",
    "\n",
    "    Parameters:\n",
    "    a (int or float): First number.\n",
    "    b (int or float): Second number.\n",
    "\n",
    "    Returns:\n",
    "    int or float: The sum of a and b.\n",
    "    \"\"\"\n",
    "    return a + b"
   ]
  },
  {
   "cell_type": "code",
   "execution_count": 28,
   "id": "91a7ab21-ec38-4cd2-81a9-b8d6b3752736",
   "metadata": {},
   "outputs": [
    {
     "data": {
      "text/plain": [
       "' Use meaningful and descriptive names\\nAvoid single-letter or vague names like x, data, or temp (unless in short loops or math).\\n\\nGood names help others understand what the variable or function is for.\\n\\n# ❌ Bad\\ndef f(x): return x*2\\n\\n# ✅ Good\\ndef double_number(number): return number * 2\\n\\n2. Use lowercase letters with underscores for function and variable names (snake_case)\\nThis is the standard Python naming style for functions and variables.\\n# ✅ Correct\\ndef calculate_total_price():\\n    total_cost = 0\\n\\nUse nouns for variables and verbs for functions\\nVariables represent data or things: price, user_name, total_amount\\n\\nFunctions perform actions: get_user(), calculate_sum(), send_email()\\n\\n4. Avoid starting names with numbers or special characters\\n# ❌ Invalid\\n1name = \"John\"\\n@calculate = 10\\n\\n# ✅ Valid\\nname1 = \"John\"\\ncalculate_discount = 10\\n\\n Avoid using Python keywords or built-in names\\n # ❌ Avoid overwriting built-ins\\nlist = [1, 2, 3]\\n\\n# ✅ Good\\nnumbers_list = [1, 2, 3]\\n'"
      ]
     },
     "execution_count": 28,
     "metadata": {},
     "output_type": "execute_result"
    }
   ],
   "source": [
    "#2. Describe some best practices for naming functions and variables in Python, including naming conventions and guidelines.\n",
    "''' Use meaningful and descriptive names\n",
    "Avoid single-letter or vague names like x, data, or temp (unless in short loops or math).\n",
    "\n",
    "Good names help others understand what the variable or function is for.\n",
    "\n",
    "# ❌ Bad\n",
    "def f(x): return x*2\n",
    "\n",
    "# ✅ Good\n",
    "def double_number(number): return number * 2\n",
    "\n",
    "2. Use lowercase letters with underscores for function and variable names (snake_case)\n",
    "This is the standard Python naming style for functions and variables.\n",
    "# ✅ Correct\n",
    "def calculate_total_price():\n",
    "    total_cost = 0\n",
    "\n",
    "Use nouns for variables and verbs for functions\n",
    "Variables represent data or things: price, user_name, total_amount\n",
    "\n",
    "Functions perform actions: get_user(), calculate_sum(), send_email()\n",
    "\n",
    "4. Avoid starting names with numbers or special characters\n",
    "# ❌ Invalid\n",
    "1name = \"John\"\n",
    "@calculate = 10\n",
    "\n",
    "# ✅ Valid\n",
    "name1 = \"John\"\n",
    "calculate_discount = 10\n",
    "\n",
    " Avoid using Python keywords or built-in names\n",
    " # ❌ Avoid overwriting built-ins\n",
    "list = [1, 2, 3]\n",
    "\n",
    "# ✅ Good\n",
    "numbers_list = [1, 2, 3]\n",
    "'''"
   ]
  },
  {
   "cell_type": "code",
   "execution_count": null,
   "id": "ebce5be2-da30-417c-991c-5ac3b9147754",
   "metadata": {},
   "outputs": [],
   "source": []
  }
 ],
 "metadata": {
  "kernelspec": {
   "display_name": "Python 3 (ipykernel)",
   "language": "python",
   "name": "python3"
  },
  "language_info": {
   "codemirror_mode": {
    "name": "ipython",
    "version": 3
   },
   "file_extension": ".py",
   "mimetype": "text/x-python",
   "name": "python",
   "nbconvert_exporter": "python",
   "pygments_lexer": "ipython3",
   "version": "3.13.0"
  }
 },
 "nbformat": 4,
 "nbformat_minor": 5
}
